{
 "cells": [
  {
   "cell_type": "code",
   "execution_count": null,
   "id": "131f3624-76c5-41a1-b135-b2f10cec1b70",
   "metadata": {},
   "outputs": [],
   "source": [
    "from video_commands import *\n",
    "main_video = \"B0815_subtitle.mov\"\n",
    "width,height = get_media_dimensions(main_video)\n",
    "print(width,height)"
   ]
  },
  {
   "cell_type": "markdown",
   "id": "9e9dcb3c-0db9-4251-bfc2-caaea289581e",
   "metadata": {},
   "source": [
    "## check dimensions of a file"
   ]
  },
  {
   "cell_type": "code",
   "execution_count": null,
   "id": "ca72b90e-b48a-4fea-a771-14117d9844ff",
   "metadata": {},
   "outputs": [],
   "source": [
    "width,height = get_media_dimensions(\"black.mov\")\n",
    "print(width,height)\n",
    "\n"
   ]
  },
  {
   "cell_type": "markdown",
   "id": "47e58258-8bf9-4da8-a568-eca41f328847",
   "metadata": {},
   "source": [
    "## trim Video\n",
    "outvideo = \"test.mov\"<br>\n",
    "invideo = \"B0815.mov\"<br>\n",
    "starttime,endtime = \"0:10\" , \"0:18\"<br>"
   ]
  },
  {
   "cell_type": "code",
   "execution_count": null,
   "id": "76a322d4-6dd4-4026-b8e7-0509f0f0c510",
   "metadata": {
    "scrolled": true
   },
   "outputs": [],
   "source": [
    "from video_commands import *\n",
    "outvideo = \"test_5min.mov\"\n",
    "invideo = \"B0815_2flower.mov\"\n",
    "starttime,endtime = \"17:10\" , \"20:10\"\n",
    "trim_video(invideo, \"16:30\" , \"21:30\", outvideo)\n",
    "\"\"\"\n",
    "trim_video(\"LETTER.mp4\", \"00:00\" , \"00:15\", \"letter_tmp.mov\")\n",
    "trim_video(\"黄花菜地.mov\", \"00:02\" , \"00:22\", \"黄花菜地_tmp.mov\")\n",
    "trim_video(\"beginning_ban.mov\", \"00:00\" , \"00:10\", \"beginning_ban_tmp.mov\")\n",
    "x, muted_video1, z = separate_audio_video(\"letter_tmp.mov\",\".\",0)\n",
    "x, muted_video2, z =separate_audio_video(\"黄花菜地_tmp.mov\",\".\",0)\n",
    "x, muted_video3, z =separate_audio_video(\"beginning_ban_tmp.mov\",\".\",0)\n",
    "a_list = [muted_video1, muted_video2, muted_video3]\n",
    "a,b=reencode_to_match(outvideo,a_list,crf=\"30\",preset=\"veryfast\")\n",
    "print(a)\n",
    "print_media_info(a)\n",
    "\"\"\""
   ]
  },
  {
   "cell_type": "markdown",
   "id": "3e799b12-4342-4e0b-98a3-3dd39374f70a",
   "metadata": {
    "scrolled": true
   },
   "source": [
    "## add a black still and insert in video<br>\n",
    "input_video = \"test_1min.mov\"<br>\n",
    "outfile = \"test.mov\"<br>\n",
    "insert_black_stills(input_video=input_video,black_list=black_list,output_file=outfile,crf=18,preset=\"fast\")\n",
    "\n"
   ]
  },
  {
   "cell_type": "markdown",
   "id": "690c46f7-606b-4ad1-bb5b-5bacf3ec57b5",
   "metadata": {
    "scrolled": true
   },
   "source": [
    "# # ADD multiple black stills and insert into video\n",
    "<font color = \"red\">add def, insert multiple new black stills using concat. Ask me to delete original mov</font>\n",
    "\n"
   ]
  },
  {
   "cell_type": "code",
   "execution_count": null,
   "id": "a315b7ed-e1da-47d6-b4fb-85d54d782f04",
   "metadata": {
    "scrolled": true
   },
   "outputs": [],
   "source": [
    "from video_commands import *\n",
    "input_video = \"test_5min.mov\"\n",
    "start_time = 0#\"17:00.5\" #5\n",
    "end_time = 5#\"17:03.5\"   #10\n",
    "crf = 10\n",
    "preset = \"fast\"\n",
    "input_file=[[\"28年后的巨变\",\"black1.mov\"],[\"日本留学\",\"black2.mov\"],[\"回国梦\",\"black3.mov\"]]\n",
    "#for i in input_file:\n",
    "#    create_black_still(input_video, i[0],start_time , end_time, i[1], font_name=\"Arial\",font_size=130,font_color=\"&H00FFFFFF\")\n",
    "\n",
    "video_duration = get_video_length(input_video)\n",
    "sections = [\"0:00-1:00\", \"1:00-2:00\", \"2:00-3:00\",f\"3:00-{video_duration}\"]\n",
    "input_file = \"test_5min.mov\"\n",
    "outputfiles = [\"video1.mov\",\"video2.mov\",\"video3.mov\",\"video4.mov\"]\n",
    "#for section, outfile in zip(sections, outputfiles):\n",
    "#     split_video(input_file, [section], [outfile])\n",
    "video_list =[\"video1.mov\",\"black1.mov\",\"video2.mov\",\"black2.mov\",\"video3.mov\",\"black3.mov\",\"video4.mov\"]\n",
    "#combine_video(video_list,primary_video_index= ,output_file=\"test.mov\", crf=40, preset=\"ultrafast\")\n",
    "combine_video(video_list,0,output_file=\"test_final3.mov\", crf=18, preset=\"fast\")"
   ]
  },
  {
   "cell_type": "code",
   "execution_count": null,
   "id": "b13fe0af-d26c-43ad-a105-cec9c0fd6b80",
   "metadata": {
    "scrolled": true
   },
   "outputs": [],
   "source": []
  },
  {
   "cell_type": "code",
   "execution_count": null,
   "id": "bb98c17b-1433-47e3-bf50-a3a10ea481c0",
   "metadata": {
    "scrolled": true
   },
   "outputs": [],
   "source": [
    "from video_commands import * \n",
    "success, temp_muted, audio_file = separate_audio_video(\"war_muted.mov\",\".\",0)\n",
    "main_video = \"test_3min.mov\"\n",
    "list_to_reencode = ['war_muted.mov']\n",
    "a,b = reencode_to_match(main_video, list_to_reencode,crf=\"18\",preset=\"fast\")\n",
    "print(a) # names of reencoded videos\n",
    "print(b) #dictionary with original and reencoded name\n",
    "a = [\"tmp/test_3min_reencoded_padded.mov\",\"tmp/rescaled_clip_reencoded_padded.mov\"]\n",
    "print_media_info(a)\n",
    "a = get_video_length(\"test_3min.mov\")\n",
    "print(a)\n"
   ]
  },
  {
   "cell_type": "code",
   "execution_count": null,
   "id": "6a89e027-20fc-41f3-a451-f566e34751f8",
   "metadata": {
    "scrolled": true
   },
   "outputs": [],
   "source": []
  },
  {
   "cell_type": "code",
   "execution_count": null,
   "id": "f2d86d92-2d2f-4da0-bb27-16529df8ed09",
   "metadata": {
    "scrolled": true
   },
   "outputs": [],
   "source": []
  },
  {
   "cell_type": "code",
   "execution_count": null,
   "id": "10797a3e-97c9-407e-a36c-0176d53fa7a7",
   "metadata": {
    "scrolled": true
   },
   "outputs": [],
   "source": [
    "\n"
   ]
  },
  {
   "cell_type": "code",
   "execution_count": null,
   "id": "cb7294ad-1389-4fdd-be53-d4ca4b98eb74",
   "metadata": {},
   "outputs": [],
   "source": []
  },
  {
   "cell_type": "code",
   "execution_count": null,
   "id": "8fdf904d-2fe1-461b-86de-babf1add51ab",
   "metadata": {},
   "outputs": [],
   "source": []
  },
  {
   "cell_type": "code",
   "execution_count": null,
   "id": "9da4040d-e1c2-405e-bd86-9e2a4072523a",
   "metadata": {},
   "outputs": [],
   "source": []
  },
  {
   "cell_type": "code",
   "execution_count": null,
   "id": "d6b9f398-cf8c-48d3-aa23-e8903f9ed00e",
   "metadata": {
    "scrolled": true
   },
   "outputs": [],
   "source": [
    "\n"
   ]
  },
  {
   "cell_type": "code",
   "execution_count": null,
   "id": "a6c1ea51-328b-45b0-a316-df620f186e9c",
   "metadata": {
    "scrolled": true
   },
   "outputs": [],
   "source": [
    "\n"
   ]
  },
  {
   "cell_type": "code",
   "execution_count": null,
   "id": "498f9942-c313-4fa8-ba76-2e1b8135d0ed",
   "metadata": {
    "scrolled": true
   },
   "outputs": [],
   "source": [
    "\n"
   ]
  },
  {
   "cell_type": "code",
   "execution_count": null,
   "id": "b9778e88-e84d-498a-9596-da6a3bebc107",
   "metadata": {
    "scrolled": true
   },
   "outputs": [],
   "source": [
    "\n"
   ]
  },
  {
   "cell_type": "code",
   "execution_count": null,
   "id": "bed14510-1297-484a-be3f-66af24d41399",
   "metadata": {},
   "outputs": [],
   "source": []
  },
  {
   "cell_type": "code",
   "execution_count": null,
   "id": "0118a60f-f8b8-4a04-bc0f-641771e90934",
   "metadata": {
    "scrolled": true
   },
   "outputs": [],
   "source": [
    "\n"
   ]
  },
  {
   "cell_type": "code",
   "execution_count": null,
   "id": "5435c4ab-ce3d-4256-891e-1ee27813eb4b",
   "metadata": {},
   "outputs": [],
   "source": []
  },
  {
   "cell_type": "code",
   "execution_count": null,
   "id": "8beacc49-bd7c-488d-b5e1-f37cf068fed3",
   "metadata": {},
   "outputs": [],
   "source": []
  },
  {
   "cell_type": "code",
   "execution_count": null,
   "id": "3810311b-b5c3-4f88-a586-6aaa6eb69f2e",
   "metadata": {},
   "outputs": [],
   "source": []
  },
  {
   "cell_type": "markdown",
   "id": "3ea14b51-61b6-49a0-84fb-eabdf56a6ed7",
   "metadata": {
    "scrolled": true
   },
   "source": [
    "## Audio - converting mp3 to wav<br>\n",
    "mp3_file = \"music/darkness.mp3\""
   ]
  },
  {
   "cell_type": "code",
   "execution_count": null,
   "id": "a490cbd1-cc92-4b34-b3b0-ad02fc959e96",
   "metadata": {
    "scrolled": true
   },
   "outputs": [],
   "source": [
    "mp3_file = \"music/darkness.mp3\"\n",
    "mp3_to_wav(mp3_file)"
   ]
  },
  {
   "cell_type": "markdown",
   "id": "1f740b44-ce5b-47be-aa00-114f9b60bfbd",
   "metadata": {
    "scrolled": true
   },
   "source": [
    "## Audio - adjusting volume<br>\n",
    "wav_file = \"music/darkness.wav\" <br>\n",
    "volume_factor = 0.1"
   ]
  },
  {
   "cell_type": "code",
   "execution_count": null,
   "id": "516b047f-cabf-4b88-9b3b-d723976de18c",
   "metadata": {},
   "outputs": [],
   "source": [
    "wav_file = \"music/darkness.wav\"\n",
    "volume_factor = 0.1\n",
    "adjust_wav_volume(wav_file, volume_factor)"
   ]
  },
  {
   "cell_type": "markdown",
   "id": "61e04a33-5376-493a-9b34-ff2ed31a801d",
   "metadata": {
    "scrolled": true
   },
   "source": [
    "## split video into sections<br>\n",
    "sections = [\"0:00-5:00\", \"5:00-8:00\", \"9:00-12:00\"]<br>\n",
    "split_video(\"xxx.mov\", sections)<br>\n",
    "output:test_5min_0005-0100.mov,test_5min_0100-0200.mov,test_5min_0220-0300.mov\n"
   ]
  },
  {
   "cell_type": "code",
   "execution_count": null,
   "id": "73ec8233-fdd9-4707-b39f-88901ddbcc35",
   "metadata": {},
   "outputs": [],
   "source": [
    "sections = [\"0:05-1:00\", \"1:00-2:00\", \"2:20-3:00\"]\n",
    "input_file = \"test_5min.mov\"\n",
    "split_video(input_file, sections)"
   ]
  },
  {
   "cell_type": "markdown",
   "id": "d890bec3-5141-4ab8-8c4a-13b17f94fca7",
   "metadata": {},
   "source": [
    "## extract voice from a video and convert to srt file\n",
    "lang can be None\n"
   ]
  },
  {
   "cell_type": "code",
   "execution_count": null,
   "id": "973213d9-6bee-4ae8-8973-1b67b9f95cb2",
   "metadata": {},
   "outputs": [],
   "source": [
    "input_video, output_srt,lang = \"test_1min.mov\", \"test_1min.srt\",\"zh\"\n",
    "voice_to_srt(input_video, output_srt, lang=lang)#en,ja,k"
   ]
  },
  {
   "cell_type": "markdown",
   "id": "61959d26-49f6-4aa6-8e0c-6be6e51c2afa",
   "metadata": {},
   "source": [
    "## srt to ass"
   ]
  },
  {
   "cell_type": "code",
   "execution_count": null,
   "id": "453895f3-c732-4057-af8e-4635c1db2d85",
   "metadata": {},
   "outputs": [],
   "source": [
    "srt_file = \"test_1min.srt\" #input file\n",
    "ass_file = \"test_1min.ass\" #new file\n",
    "srt_to_ass(srt_file, ass_file,width,height,fontname=\"宋体\", fontsize=30)\n",
    "burn_subtitles(\"test_1min.mov\", \"test_1min.ass\", \"output.mov\", \"Arial\")\n"
   ]
  },
  {
   "cell_type": "markdown",
   "id": "08913abb-6632-45ec-85df-bd06d1fbfcf2",
   "metadata": {},
   "source": [
    "## Translation and Combine Different Translations for proofreading\n",
    "<h3>only for srt!!!</h3>"
   ]
  },
  {
   "cell_type": "code",
   "execution_count": null,
   "id": "14844c02-ce80-4331-a5ee-d95ce7a4316d",
   "metadata": {},
   "outputs": [],
   "source": [
    "inputfile,outputfile,lang = \"test_1min.srt\",\"test_1min_jp.srt\",\"JA\" #lang = target language\n",
    "deepl_translate_srt(inputfile, outputfile ,lang=lang)#EN-US KO zh JA"
   ]
  },
  {
   "cell_type": "code",
   "execution_count": null,
   "id": "8880ccaf-7dd6-4434-8395-46724ea8a873",
   "metadata": {
    "scrolled": true
   },
   "outputs": [],
   "source": [
    "inputfile = \"test_1min.srt\"\n",
    "outputfile = \"test_1min_jp.srt\"\n",
    "combined_file = \"combined_chi_jp.srt\"  #new file, oneline chinese one line japanese\n",
    "combine_srt(inputfile,outputfile, combined_file)"
   ]
  },
  {
   "cell_type": "markdown",
   "id": "777ecb0f-69cc-4068-b8d0-08cc0be91df9",
   "metadata": {},
   "source": [
    "## Add grid to a screenshot for mosaic\n",
    "add_numbered_grid(<br>\n",
    "    input_file,output_file,width,height,interval=100,line_color=\"red\",<br>\n",
    "    number_color=\"yellow\",number_size=30,number_offset=5)"
   ]
  },
  {
   "cell_type": "code",
   "execution_count": null,
   "id": "283f67d0-d16c-4883-8347-4fd9180ed1c9",
   "metadata": {},
   "outputs": [],
   "source": [
    "time_and_name = [\n",
    "        [\"1:10\", \"test1.png\"],           # 1 minute 10 seconds\n",
    "        [\"70\", \"test2.jpg\"],             # 70 seconds\n",
    "        [\"1:30.5\", \"test3.png\"],         # 1 minute 30.5 seconds\n",
    "        [\"00:01:45\", \"test4.jpg\"],       # 1 minute 45 seconds (full format)\n",
    "        [\"00:02:30.750\", \"test5.png\"],   # 2 minutes 30.75 seconds\n",
    "        [\"4:41\", \"test6.jpg\"]            # 4 minutes 41 seconds\n",
    "        ]\n",
    "extract_frames(\"test_5min.mov\", time_and_name)"
   ]
  },
  {
   "cell_type": "code",
   "execution_count": null,
   "id": "05f0a00a-034a-464e-87ac-d6ad48bc68bf",
   "metadata": {},
   "outputs": [],
   "source": [
    "for i in time_and_name:\n",
    "    outscreenshot = f\"{i[1].split(\".\")[0]+\"_grid.png\"}\"\n",
    "    add_numbered_grid(\n",
    "    i[1],\n",
    "    outscreenshot,\n",
    "    width,\n",
    "    height,\n",
    "    interval=50,\n",
    "    line_color=\"red\",\n",
    "    number_color=\"yellow\",\n",
    "    number_size=30,\n",
    "    number_offset=5\n",
    ")"
   ]
  },
  {
   "cell_type": "markdown",
   "id": "f53a161d-8a48-4141-8b43-6ba7f7fee4f7",
   "metadata": {},
   "source": [
    "# Apply Mosaic"
   ]
  },
  {
   "cell_type": "markdown",
   "id": "ebbd2e3c-ded3-4ecd-958a-0cec37aca35c",
   "metadata": {},
   "source": [
    "## example: <br>\n",
    "mosaic_list=[<br>\n",
    "        [50, 50, 100, 50, 10, 0, 10],      <br>\n",
    "        [800, 0, 200, 200, 15, \"1:20.5\", \"3:00\"]]  <br>\n",
    "    # position of top-left corner<br>\n",
    "    x=50,y=50,width=100,height=50<br>\n",
    "    pixelization level=10<br>\n",
    "    start seconds=0,end seconds=10<br>"
   ]
  },
  {
   "cell_type": "code",
   "execution_count": null,
   "id": "6412e221-8891-41d0-a707-ab78eb86fed6",
   "metadata": {},
   "outputs": [],
   "source": [
    "input_video,output_video = \"test_5min.mov\",\"test_5min_mosaic.mov\"\n",
    "mosaic_list = [[65, 50, 200, 170, 15, 0, 30],[width-260, 60, 285, 140, 15, \"1:20.5\", \"2:30\"]]\n",
    "apply_mosaics(input_video, output_video, mosaic_list)"
   ]
  },
  {
   "cell_type": "markdown",
   "id": "5a0ea7c5-c386-4374-83f1-0518c7dfee32",
   "metadata": {},
   "source": [
    "## srt to ass and burn in subtitles <br>\n",
    "srt_file = \"../中文字幕.srt\" #input file <br>\n",
    "ass_file = \"中文字幕.ass\" #new file <br>\n",
    "input_video = \"B0815_4letter.mov\" <br>\n",
    "output_video = \"B0815_subtitle.mov\" <br>\n",
    "#srt_to_ass(srt_file, ass_file,width,height,fontname=\"宋体\", fontsize=30) <br>\n",
    "burn_subtitles(input_video, ass_file, output_video, \"Arial\",crf =\"18\",preset=\"veryfast\") <br>"
   ]
  },
  {
   "cell_type": "code",
   "execution_count": null,
   "id": "95c94d7f-d0d7-4920-8c92-631e3b4489f4",
   "metadata": {},
   "outputs": [],
   "source": [
    "srt_file = \"中文字幕.srt\" #input file\n",
    "ass_file = \"中文字幕.ass\" #new file\n",
    "input_video = \"B0815_4letter.mov\"\n",
    "output_video = \"B0815_subtitle.mov\"\n",
    "srt_to_ass(srt_file, ass_file,width,height,fontname=\"宋体\", fontsize=30)\n",
    "burn_subtitles(input_video, ass_file, output_video, \"Arial\",crf =\"10\",preset=\"fast\")"
   ]
  },
  {
   "cell_type": "code",
   "execution_count": null,
   "id": "abe04004-2300-49e6-aaaa-9cb2cd2c91b7",
   "metadata": {},
   "outputs": [],
   "source": [
    "srt_file = \"test_1min.srt\" #input file\n",
    "ass_file = \"test_1min.ass\" #new file\n",
    "input_video = \"test_1min.mov\"\n",
    "output_video = \"test.mov\"\n",
    "srt_to_ass(srt_file, ass_file,width,height,fontname=\"宋体\", fontsize=30)\n",
    "burn_subtitles(input_video, ass_file, output_video, \"Arial\")"
   ]
  },
  {
   "cell_type": "markdown",
   "id": "ab8acbe7-bbc1-4daf-b276-d7a2471dbce5",
   "metadata": {},
   "source": [
    "## End film\n",
    "input \"end_subtitle_txt\" in the end film this way:<br>\n",
    "编导演播：翰 光<br>\n",
    "音乐：Chad Cannon<br>\n",
    "照片提供： 小林熏<br>\n",
    "         李晓斌<br>\n",
    "\n",
    "The content of <b>end_subtitle_txt</b> is inserted into <b>end_subtitle_template</b> <br>\n",
    "as <b>end_subtitle_ass</b> by <b><i>end_credits_ass</b></i>.<br>\n",
    "Then <b><i>create_ending_film</b></i> is called to create <b>end_output</b> with <b>end_song</b> as background music.<br>\n",
    "The dimension of  <b>end_output</b> is the same as the <b>main_video</b>. The background music has an adjustable volume<br>\n",
    "and fade-in,fade-out time. <b>end_second</b> is the silent time before the end of the film and after the end of the song.\n",
    "You can add a background video with an adjustable fade-out time. <br>\n",
    "Remember to use <b><i>preprocess</b></i> to rescale it first.<br>\n",
    "Add rescale to match the scale"
   ]
  },
  {
   "cell_type": "code",
   "execution_count": null,
   "id": "f9fc3757-5360-4b29-ae6a-23b227c86ad6",
   "metadata": {
    "scrolled": true
   },
   "outputs": [],
   "source": [
    "end_subtitle_ass= \"2508credits.ass\"\n",
    "end_subtitle_txt= \"end_subtitle.txt\"\n",
    "end_subtitle_template = \"end_subtitle_template.ass\"\n",
    "end_song = \"music/end_song.wav\"\n",
    "end_output3 = \"end_vol3.mov\"\n",
    "end_credits_ass(end_subtitle_template, end_subtitle_txt, end_subtitle_ass,first_start=\"0:00:01.40\", \n",
    "                 each_duration_s=6.0,line_offset_s=0.60, fallback_duration_s=4.0)\n",
    "create_ending_film(end_subtitle_ass, end_song, end_output3, width, height,\n",
    "                       volume=3, end_second=5, fadein=3, fadeout=10,\n",
    "                       bg_video=None,video_fadeout=4)"
   ]
  },
  {
   "cell_type": "markdown",
   "id": "f4a80560-82dc-48d3-b283-247a5db7c827",
   "metadata": {},
   "source": [
    "## Reencode and combine \n",
    "Do the reencoding inside\n",
    "output_file=\"B0815_final1.5.mp4\" not ok,must be <br>\n",
    "output_file=\"B0815_final1.mp4\", no \".\" in between"
   ]
  },
  {
   "cell_type": "code",
   "execution_count": null,
   "id": "f48686d1-1b4e-402d-bc69-c3936e2cfd09",
   "metadata": {
    "scrolled": true
   },
   "outputs": [],
   "source": [
    "from video_commands import *\n",
    "#main_video = \"test_3min.mov\"\n",
    "#width,height = get_media_dimensions(main_video)\n",
    "list_to_reencode = [\"beginning_ban.mp4\",\"end_vol3.mov\"]\n",
    "video_list = [\"beginning_ban.mov\",\"test_final3.mov\",\"end_vol3.mov\"]\n",
    "#make_rescaled_image(width, height, \"beginning_ban.mp4\", \"beginning_ban_rescaled.mp4\")\n",
    "#make_rescaled_image(width, height, \"end_vol3.mov\", \"end_vol3_rescaled.mov4\")\n",
    "#a,b= reencode_to_match2(main_video, list_to_reencode)\n",
    "#print(a)\n",
    "#print(b)\n",
    "#files = [\"tmp/1_test_3min_reencoded.mov\",\"tmp/0_beginning_ban_reencoded.mov\",\"tmp/2_end_vol3_reencoded.mov\"]\n",
    "#print_media_info(files)\n",
    "\n",
    "combine_video(video_list, primary_index=1,output_file=\"B0815_final_3min.mov\", crf=18,preset=\"fast\")\n"
   ]
  },
  {
   "cell_type": "code",
   "execution_count": null,
   "id": "5b8757e4-313e-4d8a-8bb4-85d99b653855",
   "metadata": {
    "scrolled": true
   },
   "outputs": [],
   "source": [
    "#complicated method\n",
    "time1,time2 = \"13:09.8\",\"13:14.9\"\n",
    "duration = parse_time(time2)-parse_time(time1)\n",
    "print(duration)\n",
    "overlay_video_split_and_combine(\n",
    "    main_video=\"B0815_3flower.mov\",\n",
    "    overlay_video=\"video_folder/letter_muted.mp4\",\n",
    "    overlay_start=\"0:02\",         # trim overlay from 0:02-0:02+duration\n",
    "    overlay_duration = duration,        # modify to the end\n",
    "    main_insert_at= time1,    \n",
    "    output_file=\"B0815_4letter.mov\",# insert overlay at 5:00 of main\n",
    "    crf=10,\n",
    "    preset=\"fast\",\n",
    "    keep_intermediates=True\n",
    ")\n",
    "\n"
   ]
  },
  {
   "cell_type": "code",
   "execution_count": null,
   "id": "c1d23a4a-5f2b-4809-a90a-297e589af5ca",
   "metadata": {},
   "outputs": [],
   "source": [
    "make_rescaled_image(width, height, \"班和保人.png\", \"test.png\")"
   ]
  },
  {
   "cell_type": "code",
   "execution_count": null,
   "id": "d90aab02-f7c0-4b34-92eb-f1b76d423475",
   "metadata": {},
   "outputs": [],
   "source": [
    "from video_commands import *\n",
    "main_video = \"test_3min.mov\"\n",
    "output_file = \"overlay_test2.mov\"\n",
    "para_list = [[\"letter.MP4\",\"1:30\",\"1:45\",\"0:00\",\"2\"],[\"war.mov\",\"2:00\",\"2:20\",\"0:02\",\"0\"],[\"taiwan.MP4\",\"2:40\",\"2:50\",\"0:01\",\"5\"]]\n",
    "overlay_video(main_video,para_list,output_file,crf=\"23\",preset=\"fast\")"
   ]
  },
  {
   "cell_type": "markdown",
   "id": "d5ed9c15-a6d6-4835-aa86-74e74f589061",
   "metadata": {},
   "source": [
    "1.insert multiple images to overlay_video<br>\n",
    "2.overlay a single image, or list image<br>\n",
    "3.overlay_black_still not working in github<br>\n",
    "4. 更改片尾字幕resolution<br>\n",
    "5.overlay_music<br>\n",
    "6. use the following to check real video size to adjust rescaling for vertical videos<br>\n",
    "ffmpeg -i video.mp4 -vf \"cropdetect=24:16:0\" -frames:v 1 -f null -<br>\n",
    "or<br>\n",
    "import cv2<br>\n",
    "import numpy as np<br>\n",
    "<br>\n",
    "cap = cv2.VideoCapture(\"video.mp4\")<br>\n",
    "ret, frame = cap.read()<br>\n",
    "if ret:<br>\n",
    "    gray = cv2.cvtColor(frame, cv2.COLOR_BGR2GRAY)<br>\n",
    "    # Count non-black pixels<br>\n",
    "    non_black = np.sum(gray > 16)<br>\n",
    "    total_pixels = gray.size<br>\n",
    "    # Simple ratio of non-black region<br>\n",
    "    ratio = non_black / total_pixels<br>\n",
    "    print(\"Non-black ratio:\", ratio)<br>\n",
    "cap.release()<br>\n",
    "\n"
   ]
  },
  {
   "cell_type": "markdown",
   "id": "c5eb6657-e176-4e81-8c25-da0393af3ad9",
   "metadata": {},
   "source": [
    "import cv2\n",
    "import numpy as np\n",
    "\n",
    "cap = cv2.VideoCapture(\"xingxing.mp4\")\n",
    "ret, frame = cap.read()\n",
    "if ret:\n",
    "gray = cv2.cvtColor(frame, cv2.COLOR_BGR2GRAY)\n",
    "# Count non-black pixels\n",
    "non_black = np.sum(gray > 16)\n",
    "total_pixels = gray.size\n",
    "# Simple ratio of non-black region\n",
    "ratio = non_black / total_pixels\n",
    "print(\"Non-black ratio:\", ratio)\n",
    "cap.release()"
   ]
  },
  {
   "cell_type": "markdown",
   "id": "5a65850c-c10c-4daa-914f-68a220f624a0",
   "metadata": {},
   "source": []
  },
  {
   "cell_type": "markdown",
   "id": "65419c4d-a55e-4ade-8c5d-53dbb8650902",
   "metadata": {},
   "source": [
    "<h3> ***continue here , burn in subtitle </h3>"
   ]
  },
  {
   "cell_type": "code",
   "execution_count": null,
   "id": "ad0a827a-0350-439f-a27c-88c8b49a29d2",
   "metadata": {},
   "outputs": [],
   "source": [
    "import cv2\n",
    "import numpy as np\n",
    "\n",
    "cap = cv2.VideoCapture(\"xingxing.mp4\")\n",
    "ret, frame = cap.read()\n",
    "if ret:\n",
    "    gray = cv2.cvtColor(frame, cv2.COLOR_BGR2GRAY)\n",
    "    \n",
    "    # Create a mask of non-black pixels\n",
    "    mask = gray > 16  # threshold to consider pixel as \"non-black\"\n",
    "    \n",
    "    # Find coordinates of non-black pixels\n",
    "    coords = np.column_stack(np.where(mask))\n",
    "    \n",
    "    # Get bounding rectangle\n",
    "    y_min, x_min = coords.min(axis=0)\n",
    "    y_max, x_max = coords.max(axis=0)\n",
    "    \n",
    "    active_width = x_max - x_min + 1\n",
    "    active_height = y_max - y_min + 1\n",
    "    \n",
    "    print(\"Active width:\", active_width)\n",
    "    print(\"Active height:\", active_height)\n",
    "    \n",
    "    if active_height > active_width:\n",
    "        print(\"Orientation: Portrait\")\n",
    "    else:\n",
    "        print(\"Orientation: Landscape\")\n",
    "else:\n",
    "    print(\"Could not read frame\")\n",
    "\n",
    "cap.release()\n"
   ]
  },
  {
   "cell_type": "code",
   "execution_count": null,
   "id": "bfc366d5-d7a9-449e-8fe7-a337c2283175",
   "metadata": {},
   "outputs": [],
   "source": []
  },
  {
   "cell_type": "markdown",
   "id": "21e44e95-1f02-420e-ae97-3ebcffab8e28",
   "metadata": {},
   "source": []
  },
  {
   "cell_type": "raw",
   "id": "450fbac2-0cb7-42b2-8d8a-669d367a4dc8",
   "metadata": {},
   "source": []
  },
  {
   "cell_type": "code",
   "execution_count": null,
   "id": "565cd009-5947-4775-9495-a304f1d3d023",
   "metadata": {},
   "outputs": [],
   "source": []
  },
  {
   "cell_type": "code",
   "execution_count": null,
   "id": "0e28cb4d-568c-45e1-8c29-1fb146a4c29c",
   "metadata": {},
   "outputs": [],
   "source": [
    "\n"
   ]
  },
  {
   "cell_type": "code",
   "execution_count": null,
   "id": "c62be221-b6a9-4c72-a009-26de6d8712c7",
   "metadata": {},
   "outputs": [],
   "source": []
  },
  {
   "cell_type": "code",
   "execution_count": null,
   "id": "e3bb4430-e20e-4c45-95fa-0782355538d2",
   "metadata": {},
   "outputs": [],
   "source": [
    "\n"
   ]
  },
  {
   "cell_type": "code",
   "execution_count": null,
   "id": "969b8b90-2a7c-4943-b7a9-414a3e0f8f0f",
   "metadata": {},
   "outputs": [],
   "source": []
  },
  {
   "cell_type": "code",
   "execution_count": null,
   "id": "effbb7b7-9725-4006-9e16-658a830f8b69",
   "metadata": {},
   "outputs": [],
   "source": []
  },
  {
   "cell_type": "markdown",
   "id": "0b33c3a4-9320-4a2c-a8f3-15f8163e80ed",
   "metadata": {},
   "source": [
    "## notes\n",
    "reencode_to_match()<br>\n",
    "reencode videos in aac, but supposed to be in pcm"
   ]
  },
  {
   "cell_type": "code",
   "execution_count": null,
   "id": "c0cfc7f3-51c1-4e16-86b3-a4935818f663",
   "metadata": {},
   "outputs": [],
   "source": []
  },
  {
   "cell_type": "code",
   "execution_count": null,
   "id": "9c6a731c-358a-4c4e-b017-4cb1dc6306ba",
   "metadata": {},
   "outputs": [],
   "source": []
  },
  {
   "cell_type": "code",
   "execution_count": null,
   "id": "8a6b2365-0928-4b90-8b96-aba07a437c03",
   "metadata": {},
   "outputs": [],
   "source": []
  },
  {
   "cell_type": "code",
   "execution_count": null,
   "id": "afdb2570-f7cf-4791-b73b-236ffaf2b34d",
   "metadata": {},
   "outputs": [],
   "source": []
  },
  {
   "cell_type": "code",
   "execution_count": null,
   "id": "47bdcbf0-06eb-4ea7-b2db-2b1d0137f911",
   "metadata": {},
   "outputs": [],
   "source": []
  },
  {
   "cell_type": "code",
   "execution_count": null,
   "id": "4cd65b70-9fc3-41a8-a783-5142eb789648",
   "metadata": {},
   "outputs": [],
   "source": []
  }
 ],
 "metadata": {
  "kernelspec": {
   "display_name": "Python 3 (ipykernel)",
   "language": "python",
   "name": "python3"
  },
  "language_info": {
   "codemirror_mode": {
    "name": "ipython",
    "version": 3
   },
   "file_extension": ".py",
   "mimetype": "text/x-python",
   "name": "python",
   "nbconvert_exporter": "python",
   "pygments_lexer": "ipython3",
   "version": "3.13.7"
  }
 },
 "nbformat": 4,
 "nbformat_minor": 5
}
