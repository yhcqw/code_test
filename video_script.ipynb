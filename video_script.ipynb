{
 "cells": [
  {
   "cell_type": "code",
   "execution_count": null,
   "id": "131f3624-76c5-41a1-b135-b2f10cec1b70",
   "metadata": {},
   "outputs": [],
   "source": [
    "from video_commands import *\n",
    "main_video = \"B0815_subtitle.mov\"\n",
    "width,height = get_media_dimensions(main_video)\n",
    "print(width,height)"
   ]
  },
  {
   "cell_type": "markdown",
   "id": "9e9dcb3c-0db9-4251-bfc2-caaea289581e",
   "metadata": {},
   "source": [
    "## check dimensions of a file"
   ]
  },
  {
   "cell_type": "code",
   "execution_count": null,
   "id": "ca72b90e-b48a-4fea-a771-14117d9844ff",
   "metadata": {},
   "outputs": [],
   "source": [
    "width,height = get_media_dimensions(\"black.mov\")\n",
    "print(width,height)\n",
    "\n"
   ]
  },
  {
   "cell_type": "markdown",
   "id": "47e58258-8bf9-4da8-a568-eca41f328847",
   "metadata": {},
   "source": [
    "## trim Video\n",
    "outvideo = \"test.mov\"<br>\n",
    "invideo = \"B0815.mov\"<br>\n",
    "starttime,endtime = \"0:10\" , \"0:18\"<br>"
   ]
  },
  {
   "cell_type": "code",
   "execution_count": null,
   "id": "76a322d4-6dd4-4026-b8e7-0509f0f0c510",
   "metadata": {
    "scrolled": true
   },
   "outputs": [],
   "source": [
    "outvideo = \"test_5min.mov\"\n",
    "invideo = \"B0815_2flower.mov\"\n",
    "starttime,endtime = \"00:00\" , \"5:00\"\n",
    "trim_video(invideo, starttime , endtime, outvideo)"
   ]
  },
  {
   "cell_type": "markdown",
   "id": "3e799b12-4342-4e0b-98a3-3dd39374f70a",
   "metadata": {
    "scrolled": true
   },
   "source": [
    "## add a black still and insert in video<br>\n",
    "input_video = \"test_1min.mov\"<br>\n",
    "outfile = \"test.mov\"<br>\n",
    "insert_black_stills(input_video=input_video,black_list=black_list,output_file=outfile,crf=18,preset=\"fast\")\n",
    "\n"
   ]
  },
  {
   "cell_type": "markdown",
   "id": "690c46f7-606b-4ad1-bb5b-5bacf3ec57b5",
   "metadata": {
    "scrolled": true
   },
   "source": [
    "# # Text with colored parts\n",
    "<font color = \"red\">add def, insert multiple new black stills using concat. Ask me to delete original mov</font>\n",
    "\n"
   ]
  },
  {
   "cell_type": "code",
   "execution_count": null,
   "id": "a315b7ed-e1da-47d6-b4fb-85d54d782f04",
   "metadata": {
    "scrolled": true
   },
   "outputs": [],
   "source": [
    "input_video = \"B0815_2flower.mov\"\n",
    "text = \"28年后的巨变\"\n",
    "#    create_black_still(input_video, text,5,10,output_file=\"black_still.mp4\",font_name=\"Arial\",font_size=150,font_color=\"&H00FFFFFF\")\n",
    "#    main_video = input(\"Enter path to main video: \")\n",
    "#    text = input(\"Enter text for black still: \")\n",
    "start_time = 0#\"17:00.5\" #5\n",
    "end_time = 5#\"17:03.5\"   #10\n",
    "black_file = \"black1.mov\"\n",
    "output_file = \"B0815_3flower.mov\"\n",
    "crf = 10\n",
    "preset = \"fast\"\n",
    "create_black_still(input_video, text, start_time, end_time, black_file, font_name=\"Arial\",font_size=130,font_color=\"&H00FFFFFF\")\n",
    "#overlay_black_still_on_video(input_video, black_file,start_time,end_time,output_file=output_file,crf=crf,preset=preset)\n",
    "    \n"
   ]
  },
  {
   "cell_type": "code",
   "execution_count": null,
   "id": "b13fe0af-d26c-43ad-a105-cec9c0fd6b80",
   "metadata": {
    "scrolled": true
   },
   "outputs": [],
   "source": []
  },
  {
   "cell_type": "code",
   "execution_count": null,
   "id": "bb98c17b-1433-47e3-bf50-a3a10ea481c0",
   "metadata": {
    "scrolled": true
   },
   "outputs": [],
   "source": []
  },
  {
   "cell_type": "code",
   "execution_count": null,
   "id": "6a89e027-20fc-41f3-a451-f566e34751f8",
   "metadata": {
    "scrolled": true
   },
   "outputs": [],
   "source": []
  },
  {
   "cell_type": "code",
   "execution_count": null,
   "id": "f2d86d92-2d2f-4da0-bb27-16529df8ed09",
   "metadata": {
    "scrolled": true
   },
   "outputs": [],
   "source": []
  },
  {
   "cell_type": "code",
   "execution_count": null,
   "id": "10797a3e-97c9-407e-a36c-0176d53fa7a7",
   "metadata": {
    "scrolled": true
   },
   "outputs": [],
   "source": [
    "\n"
   ]
  },
  {
   "cell_type": "code",
   "execution_count": null,
   "id": "cb7294ad-1389-4fdd-be53-d4ca4b98eb74",
   "metadata": {},
   "outputs": [],
   "source": []
  },
  {
   "cell_type": "code",
   "execution_count": null,
   "id": "8fdf904d-2fe1-461b-86de-babf1add51ab",
   "metadata": {},
   "outputs": [],
   "source": []
  },
  {
   "cell_type": "code",
   "execution_count": null,
   "id": "9da4040d-e1c2-405e-bd86-9e2a4072523a",
   "metadata": {},
   "outputs": [],
   "source": []
  },
  {
   "cell_type": "code",
   "execution_count": null,
   "id": "d6b9f398-cf8c-48d3-aa23-e8903f9ed00e",
   "metadata": {
    "scrolled": true
   },
   "outputs": [],
   "source": [
    "\n"
   ]
  },
  {
   "cell_type": "code",
   "execution_count": null,
   "id": "a6c1ea51-328b-45b0-a316-df620f186e9c",
   "metadata": {
    "scrolled": true
   },
   "outputs": [],
   "source": [
    "\n"
   ]
  },
  {
   "cell_type": "code",
   "execution_count": null,
   "id": "498f9942-c313-4fa8-ba76-2e1b8135d0ed",
   "metadata": {
    "scrolled": true
   },
   "outputs": [],
   "source": [
    "\n"
   ]
  },
  {
   "cell_type": "code",
   "execution_count": null,
   "id": "b9778e88-e84d-498a-9596-da6a3bebc107",
   "metadata": {
    "scrolled": true
   },
   "outputs": [],
   "source": [
    "\n"
   ]
  },
  {
   "cell_type": "code",
   "execution_count": null,
   "id": "bed14510-1297-484a-be3f-66af24d41399",
   "metadata": {},
   "outputs": [],
   "source": []
  },
  {
   "cell_type": "code",
   "execution_count": null,
   "id": "0118a60f-f8b8-4a04-bc0f-641771e90934",
   "metadata": {
    "scrolled": true
   },
   "outputs": [],
   "source": [
    "\n"
   ]
  },
  {
   "cell_type": "code",
   "execution_count": null,
   "id": "5435c4ab-ce3d-4256-891e-1ee27813eb4b",
   "metadata": {},
   "outputs": [],
   "source": []
  },
  {
   "cell_type": "code",
   "execution_count": null,
   "id": "8beacc49-bd7c-488d-b5e1-f37cf068fed3",
   "metadata": {},
   "outputs": [],
   "source": []
  },
  {
   "cell_type": "code",
   "execution_count": null,
   "id": "3810311b-b5c3-4f88-a586-6aaa6eb69f2e",
   "metadata": {},
   "outputs": [],
   "source": []
  },
  {
   "cell_type": "markdown",
   "id": "3ea14b51-61b6-49a0-84fb-eabdf56a6ed7",
   "metadata": {
    "scrolled": true
   },
   "source": [
    "## Audio - converting mp3 to wav<br>\n",
    "mp3_file = \"music/darkness.mp3\""
   ]
  },
  {
   "cell_type": "code",
   "execution_count": null,
   "id": "a490cbd1-cc92-4b34-b3b0-ad02fc959e96",
   "metadata": {
    "scrolled": true
   },
   "outputs": [],
   "source": [
    "mp3_file = \"music/darkness.mp3\"\n",
    "mp3_to_wav(mp3_file)"
   ]
  },
  {
   "cell_type": "markdown",
   "id": "1f740b44-ce5b-47be-aa00-114f9b60bfbd",
   "metadata": {
    "scrolled": true
   },
   "source": [
    "## Audio - adjusting volume<br>\n",
    "wav_file = \"music/darkness.wav\" <br>\n",
    "volume_factor = 0.1"
   ]
  },
  {
   "cell_type": "code",
   "execution_count": null,
   "id": "516b047f-cabf-4b88-9b3b-d723976de18c",
   "metadata": {},
   "outputs": [],
   "source": [
    "wav_file = \"music/darkness.wav\"\n",
    "volume_factor = 0.1\n",
    "adjust_wav_volume(wav_file, volume_factor)"
   ]
  },
  {
   "cell_type": "markdown",
   "id": "61e04a33-5376-493a-9b34-ff2ed31a801d",
   "metadata": {
    "scrolled": true
   },
   "source": [
    "## split video into sections<br>\n",
    "sections = [\"0:00-5:00\", \"5:00-8:00\", \"9:00-12:00\"]<br>\n",
    "split_video(\"xxx.mov\", sections)<br>\n",
    "output:test_5min_0005-0100.mov,test_5min_0100-0200.mov,test_5min_0220-0300.mov\n"
   ]
  },
  {
   "cell_type": "code",
   "execution_count": null,
   "id": "73ec8233-fdd9-4707-b39f-88901ddbcc35",
   "metadata": {},
   "outputs": [],
   "source": [
    "sections = [\"0:05-1:00\", \"1:00-2:00\", \"2:20-3:00\"]\n",
    "input_file = \"test_5min.mov\"\n",
    "split_video(input_file, sections)"
   ]
  },
  {
   "cell_type": "markdown",
   "id": "d890bec3-5141-4ab8-8c4a-13b17f94fca7",
   "metadata": {},
   "source": [
    "## extract voice from a video and convert to srt file\n",
    "lang can be None\n"
   ]
  },
  {
   "cell_type": "code",
   "execution_count": null,
   "id": "973213d9-6bee-4ae8-8973-1b67b9f95cb2",
   "metadata": {},
   "outputs": [],
   "source": [
    "input_video, output_srt,lang = \"test_1min.mov\", \"test_1min.srt\",\"zh\"\n",
    "voice_to_srt(input_video, output_srt, lang=lang)#en,ja,k"
   ]
  },
  {
   "cell_type": "markdown",
   "id": "61959d26-49f6-4aa6-8e0c-6be6e51c2afa",
   "metadata": {},
   "source": [
    "## srt to ass"
   ]
  },
  {
   "cell_type": "code",
   "execution_count": null,
   "id": "453895f3-c732-4057-af8e-4635c1db2d85",
   "metadata": {},
   "outputs": [],
   "source": [
    "srt_file = \"test_1min.srt\" #input file\n",
    "ass_file = \"test_1min.ass\" #new file\n",
    "srt_to_ass(srt_file, ass_file,width,height,fontname=\"宋体\", fontsize=30)\n",
    "burn_subtitles(\"test_1min.mov\", \"test_1min.ass\", \"output.mov\", \"Arial\")\n"
   ]
  },
  {
   "cell_type": "markdown",
   "id": "08913abb-6632-45ec-85df-bd06d1fbfcf2",
   "metadata": {},
   "source": [
    "## Translation and Combine Different Translations for proofreading\n",
    "<h3>only for srt!!!</h3>"
   ]
  },
  {
   "cell_type": "code",
   "execution_count": null,
   "id": "14844c02-ce80-4331-a5ee-d95ce7a4316d",
   "metadata": {},
   "outputs": [],
   "source": [
    "inputfile,outputfile,lang = \"test_1min.srt\",\"test_1min_jp.srt\",\"JA\" #lang = target language\n",
    "deepl_translate_srt(inputfile, outputfile ,lang=lang)#EN-US KO zh JA"
   ]
  },
  {
   "cell_type": "code",
   "execution_count": null,
   "id": "8880ccaf-7dd6-4434-8395-46724ea8a873",
   "metadata": {
    "scrolled": true
   },
   "outputs": [],
   "source": [
    "inputfile = \"test_1min.srt\"\n",
    "outputfile = \"test_1min_jp.srt\"\n",
    "combined_file = \"combined_chi_jp.srt\"  #new file, oneline chinese one line japanese\n",
    "combine_srt(inputfile,outputfile, combined_file)"
   ]
  },
  {
   "cell_type": "markdown",
   "id": "777ecb0f-69cc-4068-b8d0-08cc0be91df9",
   "metadata": {},
   "source": [
    "## Add grid to a screenshot for mosaic\n",
    "add_numbered_grid(<br>\n",
    "    input_file,output_file,width,height,interval=100,line_color=\"red\",<br>\n",
    "    number_color=\"yellow\",number_size=30,number_offset=5)"
   ]
  },
  {
   "cell_type": "code",
   "execution_count": null,
   "id": "283f67d0-d16c-4883-8347-4fd9180ed1c9",
   "metadata": {},
   "outputs": [],
   "source": [
    "screenshot,outscreenshot = \"test2.png\" ,\"testout2.png\""
   ]
  },
  {
   "cell_type": "code",
   "execution_count": null,
   "id": "05f0a00a-034a-464e-87ac-d6ad48bc68bf",
   "metadata": {},
   "outputs": [],
   "source": [
    "add_numbered_grid(\n",
    "    screenshot,\n",
    "    outscreenshot,\n",
    "    width,\n",
    "    height,\n",
    "    interval=50,\n",
    "    line_color=\"red\",\n",
    "    number_color=\"yellow\",\n",
    "    number_size=30,\n",
    "    number_offset=5\n",
    ")"
   ]
  },
  {
   "cell_type": "markdown",
   "id": "f53a161d-8a48-4141-8b43-6ba7f7fee4f7",
   "metadata": {},
   "source": [
    "# Apply Mosaic"
   ]
  },
  {
   "cell_type": "markdown",
   "id": "ebbd2e3c-ded3-4ecd-958a-0cec37aca35c",
   "metadata": {},
   "source": [
    "## example: <br>\n",
    "mosaic_list=[<br>\n",
    "        [50, 50, 100, 50, 10, 0, 10],      <br>\n",
    "        [800, 0, 200, 200, 15, \"1:20.5\", \"3:00\"]]  <br>\n",
    "    # position of top-left corner<br>\n",
    "    x=50,y=50,width=100,height=50<br>\n",
    "    pixelization level=10<br>\n",
    "    start seconds=0,end seconds=10<br>"
   ]
  },
  {
   "cell_type": "code",
   "execution_count": null,
   "id": "6412e221-8891-41d0-a707-ab78eb86fed6",
   "metadata": {},
   "outputs": [],
   "source": [
    "input_video,output_video = \"test_5min.mov\",\"test_5min_mosaic.mov\"\n",
    "mosaic_list = [[65, 50, 200, 170, 15, 0, 30],[width-260, 60, 285, 140, 15, \"1:20.5\", \"2:30\"]]\n",
    "apply_mosaics(input_video, output_video, mosaic_list)"
   ]
  },
  {
   "cell_type": "markdown",
   "id": "5a0ea7c5-c386-4374-83f1-0518c7dfee32",
   "metadata": {},
   "source": [
    "## srt to ass and burn in subtitles <br>\n",
    "srt_file = \"../中文字幕.srt\" #input file <br>\n",
    "ass_file = \"中文字幕.ass\" #new file <br>\n",
    "input_video = \"B0815_4letter.mov\" <br>\n",
    "output_video = \"B0815_subtitle.mov\" <br>\n",
    "#srt_to_ass(srt_file, ass_file,width,height,fontname=\"宋体\", fontsize=30) <br>\n",
    "burn_subtitles(input_video, ass_file, output_video, \"Arial\",crf =\"18\",preset=\"veryfast\") <br>"
   ]
  },
  {
   "cell_type": "code",
   "execution_count": null,
   "id": "95c94d7f-d0d7-4920-8c92-631e3b4489f4",
   "metadata": {},
   "outputs": [],
   "source": [
    "srt_file = \"中文字幕.srt\" #input file\n",
    "ass_file = \"中文字幕.ass\" #new file\n",
    "input_video = \"B0815_4letter.mov\"\n",
    "output_video = \"B0815_subtitle.mov\"\n",
    "srt_to_ass(srt_file, ass_file,width,height,fontname=\"宋体\", fontsize=30)\n",
    "burn_subtitles(input_video, ass_file, output_video, \"Arial\",crf =\"10\",preset=\"fast\")"
   ]
  },
  {
   "cell_type": "code",
   "execution_count": null,
   "id": "abe04004-2300-49e6-aaaa-9cb2cd2c91b7",
   "metadata": {},
   "outputs": [],
   "source": [
    "srt_file = \"test_1min.srt\" #input file\n",
    "ass_file = \"test_1min.ass\" #new file\n",
    "input_video = \"test_1min.mov\"\n",
    "output_video = \"test.mov\"\n",
    "srt_to_ass(srt_file, ass_file,width,height,fontname=\"宋体\", fontsize=30)\n",
    "burn_subtitles(input_video, ass_file, output_video, \"Arial\")"
   ]
  },
  {
   "cell_type": "markdown",
   "id": "ab8acbe7-bbc1-4daf-b276-d7a2471dbce5",
   "metadata": {},
   "source": [
    "## End film\n",
    "input \"end_subtitle_txt\" in the end film this way:<br>\n",
    "编导演播：翰 光<br>\n",
    "音乐：Chad Cannon<br>\n",
    "照片提供： 小林熏<br>\n",
    "         李晓斌<br>\n",
    "\n",
    "The content of <b>end_subtitle_txt</b> is inserted into <b>end_subtitle_template</b> <br>\n",
    "as <b>end_subtitle_ass</b> by <b><i>end_credits_ass</b></i>.<br>\n",
    "Then <b><i>create_ending_film</b></i> is called to create <b>end_output</b> with <b>end_song</b> as background music.<br>\n",
    "The dimension of  <b>end_output</b> is the same as the <b>main_video</b>. The background music has an adjustable volume<br>\n",
    "and fade-in,fade-out time. <b>end_second</b> is the silent time before the end of the film and after the end of the song.\n",
    "You can add a background video with an adjustable fade-out time. <br>\n",
    "Remember to use <b><i>preprocess</b></i> to rescale it first.<br>\n",
    "Add rescale to match the scale"
   ]
  },
  {
   "cell_type": "code",
   "execution_count": null,
   "id": "f9fc3757-5360-4b29-ae6a-23b227c86ad6",
   "metadata": {
    "scrolled": true
   },
   "outputs": [],
   "source": [
    "end_subtitle_ass= \"2508credits.ass\"\n",
    "end_subtitle_txt= \"end_subtitle.txt\"\n",
    "end_subtitle_template = \"end_subtitle_template.ass\"\n",
    "end_song = \"music/end_song.wav\"\n",
    "end_output3 = \"end_vol3.mov\"\n",
    "end_credits_ass(end_subtitle_template, end_subtitle_txt, end_subtitle_ass,first_start=\"0:00:01.40\", \n",
    "                 each_duration_s=6.0,line_offset_s=0.60, fallback_duration_s=4.0)\n",
    "create_ending_film(end_subtitle_ass, end_song, end_output3, width, height,\n",
    "                       volume=3, end_second=5, fadein=3, fadeout=10,\n",
    "                       bg_video=None,video_fadeout=4)"
   ]
  },
  {
   "cell_type": "markdown",
   "id": "f4a80560-82dc-48d3-b283-247a5db7c827",
   "metadata": {},
   "source": [
    "## Reencode and combine \n",
    "Do the reencoding inside\n",
    "output_file=\"B0815_final1.5.mp4\" not ok,must be <br>\n",
    "output_file=\"B0815_final1.mp4\", no \".\" in between"
   ]
  },
  {
   "cell_type": "code",
   "execution_count": null,
   "id": "f48686d1-1b4e-402d-bc69-c3936e2cfd09",
   "metadata": {
    "scrolled": true
   },
   "outputs": [],
   "source": [
    "\n",
    "list_to_reencode = [\n",
    "    (\"beginning_ban_rescaled.mov\", \"beginning_ban_rescaled_reencoded.mov\"),\n",
    "    (\"end_vol3.mov\", \"end_vol3_reencoded.mov\")]\n",
    "video_list = [list_to_reencode[0][1],main_video,list_to_reencode[1][1]]\n",
    "#reencode_to_match(main_video, list_to_reencode)\n",
    "combine_videos(video_list, output_file=\"B0815_final3.mov\", crf=10,preset=\"fast\")\n"
   ]
  },
  {
   "cell_type": "code",
   "execution_count": null,
   "id": "5b8757e4-313e-4d8a-8bb4-85d99b653855",
   "metadata": {
    "scrolled": true
   },
   "outputs": [],
   "source": [
    "#complicated method\n",
    "time1,time2 = \"13:09.8\",\"13:14.9\"\n",
    "duration = parse_time(time2)-parse_time(time1)\n",
    "print(duration)\n",
    "overlay_video_split_and_combine(\n",
    "    main_video=\"B0815_3flower.mov\",\n",
    "    overlay_video=\"video_folder/letter_muted.mp4\",\n",
    "    overlay_start=\"0:02\",         # trim overlay from 1:01\n",
    "    overlay_duration = duration,        # modify to the end\n",
    "    main_insert_at= time1,    \n",
    "    output_file=\"B0815_4letter.mov\",# insert overlay at 5:00 of main\n",
    "    crf=10,\n",
    "    preset=\"fast\",\n",
    "    keep_intermediates=True\n",
    ")\n",
    "\n"
   ]
  },
  {
   "cell_type": "code",
   "execution_count": null,
   "id": "c1d23a4a-5f2b-4809-a90a-297e589af5ca",
   "metadata": {},
   "outputs": [],
   "source": [
    "make_rescaled_image(width, height, \"班和保人.png\", \"test.png\")"
   ]
  },
  {
   "cell_type": "code",
   "execution_count": null,
   "id": "f6f131b7-6461-481d-9e78-6eeb9deb887c",
   "metadata": {},
   "outputs": [],
   "source": [
    "#easy overlay video1(from a certain time) to video2(from time1 to time2)\n",
    "video1_path = \"letter.MP4\"  #overlay video\n",
    "video2_path = \"B0815_3flower.mov\"   #main video\n",
    "overlay_start_main = \"13:09.8\" #\"13:09.8\",\"13:14.9\"\n",
    "overlay_end_main = \"13:14.9\"\n",
    "extract_start_video1 = 2\n",
    "output_filename = \"test.mov\"\n",
    "overlay_video(\n",
    "        video1_path,\n",
    "        video2_path,\n",
    "        overlay_start_main,\n",
    "        overlay_end_main,\n",
    "        extract_start_video1,\n",
    "        output_filename,\n",
    "        crf=30,\n",
    "        preset=\"ultrafast\"\n",
    "    )\n"
   ]
  },
  {
   "cell_type": "code",
   "execution_count": 1,
   "id": "7c9949f0-ca76-40da-b4cd-ea817fd16ac2",
   "metadata": {},
   "outputs": [
    {
     "name": "stdout",
     "output_type": "stream",
     "text": [
      "Extracting clip from overlay video...\n",
      "FFmpeg command: ffmpeg -ss 2.0 -i letter.MP4 -t 12.0 -c copy -y /var/folders/9g/509r85b95jz43885pc6n7zlr0000gn/T/tmp3nxx0913/extracted_clip.mp4\n",
      "Removing audio from extracted clip...\n",
      "FFmpeg command: ffmpeg -i /var/folders/9g/509r85b95jz43885pc6n7zlr0000gn/T/tmp3nxx0913/extracted_clip.mp4 -an -y /var/folders/9g/509r85b95jz43885pc6n7zlr0000gn/T/tmp3nxx0913/muted_clip.mp4\n",
      "Rescaling the muted clip...\n",
      "FFmpeg command: ffmpeg -y -i /var/folders/9g/509r85b95jz43885pc6n7zlr0000gn/T/tmp3nxx0913/muted_clip.mp4 -vf scale=853:480,pad=854:480:0:0:black -c:v libx264 -preset fast -crf 18 -c:a copy /var/folders/9g/509r85b95jz43885pc6n7zlr0000gn/T/tmp3nxx0913/rescaled_clip.mp4\n",
      "ffmpeg version 8.0 Copyright (c) 2000-2025 the FFmpeg developers\n",
      "  built with Apple clang version 15.0.0 (clang-1500.1.0.2.5)\n",
      "  configuration: --prefix=/usr/local/Cellar/ffmpeg/8.0 --enable-shared --enable-pthreads --enable-version3 --cc=clang --host-cflags= --host-ldflags='-Wl,-ld_classic' --enable-ffplay --enable-gnutls --enable-gpl --enable-libaom --enable-libaribb24 --enable-libbluray --enable-libdav1d --enable-libharfbuzz --enable-libjxl --enable-libmp3lame --enable-libopus --enable-librav1e --enable-librist --enable-librubberband --enable-libsnappy --enable-libsrt --enable-libssh --enable-libsvtav1 --enable-libtesseract --enable-libtheora --enable-libvidstab --enable-libvmaf --enable-libvorbis --enable-libvpx --enable-libwebp --enable-libx264 --enable-libx265 --enable-libxml2 --enable-libxvid --enable-lzma --enable-libfontconfig --enable-libfreetype --enable-frei0r --enable-libass --enable-libopencore-amrnb --enable-libopencore-amrwb --enable-libopenjpeg --enable-libspeex --enable-libsoxr --enable-libzmq --enable-libzimg --disable-libjack --disable-indev=jack --enable-videotoolbox --enable-audiotoolbox\n",
      "  libavutil      60.  8.100 / 60.  8.100\n",
      "  libavcodec     62. 11.100 / 62. 11.100\n",
      "  libavformat    62.  3.100 / 62.  3.100\n",
      "  libavdevice    62.  1.100 / 62.  1.100\n",
      "  libavfilter    11.  4.100 / 11.  4.100\n",
      "  libswscale      9.  1.100 /  9.  1.100\n",
      "  libswresample   6.  1.100 /  6.  1.100\n",
      "Input #0, mov,mp4,m4a,3gp,3g2,mj2, from '/var/folders/9g/509r85b95jz43885pc6n7zlr0000gn/T/tmp3nxx0913/muted_clip.mp4':\n",
      "  Metadata:\n",
      "    major_brand     : isom\n",
      "    minor_version   : 512\n",
      "    compatible_brands: isomiso2avc1mp41\n",
      "    encoder         : Lavf62.3.100\n",
      "  Duration: 00:00:12.08, start: 0.000000, bitrate: 1461 kb/s\n",
      "  Stream #0:0[0x1](und): Video: h264 (High) (avc1 / 0x31637661), yuv420p(tv, bt709, progressive), 1280x720, 1458 kb/s, 29.97 fps, 29.97 tbr, 30k tbn (default)\n",
      "    Metadata:\n",
      "      handler_name    : Core Media Video\n",
      "      vendor_id       : [0][0][0][0]\n",
      "      encoder         : Lavc62.11.100 libx264\n",
      "Stream mapping:\n",
      "  Stream #0:0 -> #0:0 (h264 (native) -> h264 (libx264))\n",
      "Press [q] to stop, [?] for help\n",
      "[libx264 @ 0x7f7b8b90ecc0] using cpu capabilities: MMX2 SSE2Fast SSSE3 SSE4.2 AVX FMA3 BMI2 AVX2\n",
      "[libx264 @ 0x7f7b8b90ecc0] profile High, level 3.1, 4:2:0, 8-bit\n",
      "[libx264 @ 0x7f7b8b90ecc0] 264 - core 164 r3108 31e19f9 - H.264/MPEG-4 AVC codec - Copyleft 2003-2023 - http://www.videolan.org/x264.html - options: cabac=1 ref=2 deblock=1:0:0 analyse=0x3:0x113 me=hex subme=6 psy=1 psy_rd=1.00:0.00 mixed_ref=1 me_range=16 chroma_me=1 trellis=1 8x8dct=1 cqm=0 deadzone=21,11 fast_pskip=1 chroma_qp_offset=-2 threads=6 lookahead_threads=1 sliced_threads=0 nr=0 decimate=1 interlaced=0 bluray_compat=0 constrained_intra=0 bframes=3 b_pyramid=2 b_adapt=1 b_bias=0 direct=1 weightb=1 open_gop=0 weightp=1 keyint=250 keyint_min=25 scenecut=40 intra_refresh=0 rc_lookahead=30 rc=crf mbtree=1 crf=18.0 qcomp=0.60 qpmin=0 qpmax=69 qpstep=4 ip_ratio=1.40 aq=1:1.00\n",
      "Output #0, mp4, to '/var/folders/9g/509r85b95jz43885pc6n7zlr0000gn/T/tmp3nxx0913/rescaled_clip.mp4':\n",
      "  Metadata:\n",
      "    major_brand     : isom\n",
      "    minor_version   : 512\n",
      "    compatible_brands: isomiso2avc1mp41\n",
      "    encoder         : Lavf62.3.100\n",
      "  Stream #0:0(und): Video: h264 (avc1 / 0x31637661), yuv420p(tv, bt709, progressive), 854x480, q=2-31, 29.97 fps, 30k tbn (default)\n",
      "    Metadata:\n",
      "      encoder         : Lavc62.11.100 libx264\n",
      "      handler_name    : Core Media Video\n",
      "      vendor_id       : [0][0][0][0]\n",
      "    Side data:\n",
      "      cpb: bitrate max/min/avg: 0/0/0 buffer size: 0 vbv_delay: N/A\n",
      "frame=    0 fps=0.0 q=0.0 size=       0KiB time=N/A bitrate=N/A speed=N/A elapsed=0:00:00.50    \n",
      "frame=   14 fps= 14 q=24.0 size=       0KiB time=00:00:00.40 bitrate=   1.0kbits/s speed=0.399x elapsed=0:00:01.00    \n",
      "frame=   25 fps= 17 q=24.0 size=       0KiB time=00:00:00.76 bitrate=   0.5kbits/s speed=0.509x elapsed=0:00:01.50    \n",
      "frame=   33 fps= 16 q=24.0 size=       0KiB time=00:00:01.03 bitrate=   0.4kbits/s speed=0.515x elapsed=0:00:02.00    \n",
      "frame=   44 fps= 18 q=24.0 size=       0KiB time=00:00:01.40 bitrate=   0.3kbits/s speed=0.558x elapsed=0:00:02.51    \n",
      "frame=   53 fps= 18 q=24.0 size=     256KiB time=00:00:01.70 bitrate=1232.6kbits/s speed=0.564x elapsed=0:00:03.01    \n",
      "frame=   65 fps= 18 q=24.0 size=     256KiB time=00:00:02.10 bitrate= 997.8kbits/s speed=0.597x elapsed=0:00:03.51    \n",
      "frame=   73 fps= 18 q=24.0 size=     256KiB time=00:00:02.36 bitrate= 885.4kbits/s speed=0.589x elapsed=0:00:04.01    \n",
      "frame=   82 fps= 18 q=24.0 size=     256KiB time=00:00:02.66 bitrate= 785.8kbits/s speed=0.59x elapsed=0:00:04.52    \n",
      "frame=   90 fps= 18 q=24.0 size=     256KiB time=00:00:02.93 bitrate= 714.4kbits/s speed=0.584x elapsed=0:00:05.02    \n",
      "frame=  100 fps= 18 q=24.0 size=     512KiB time=00:00:03.26 bitrate=1282.8kbits/s speed=0.591x elapsed=0:00:05.53    \n",
      "frame=  108 fps= 18 q=24.0 size=     512KiB time=00:00:03.53 bitrate=1186.0kbits/s speed=0.586x elapsed=0:00:06.03    \n",
      "frame=  114 fps= 17 q=24.0 size=     512KiB time=00:00:03.73 bitrate=1122.5kbits/s speed=0.571x elapsed=0:00:06.54    \n",
      "frame=  123 fps= 17 q=24.0 size=     512KiB time=00:00:04.03 bitrate=1039.0kbits/s speed=0.573x elapsed=0:00:07.04    \n",
      "frame=  134 fps= 18 q=24.0 size=     512KiB time=00:00:04.40 bitrate= 952.4kbits/s speed=0.583x elapsed=0:00:07.54    \n",
      "frame=  145 fps= 18 q=24.0 size=     768KiB time=00:00:04.77 bitrate=1318.6kbits/s speed=0.593x elapsed=0:00:08.05    \n",
      "frame=  151 fps= 18 q=24.0 size=     768KiB time=00:00:04.97 bitrate=1265.5kbits/s speed=0.581x elapsed=0:00:08.55    \n",
      "frame=  161 fps= 18 q=24.0 size=     768KiB time=00:00:05.30 bitrate=1186.0kbits/s speed=0.586x elapsed=0:00:09.05    \n",
      "frame=  175 fps= 18 q=24.0 size=    1024KiB time=00:00:05.77 bitrate=1453.3kbits/s speed=0.604x elapsed=0:00:09.56    \n",
      "frame=  187 fps= 19 q=24.0 size=    1024KiB time=00:00:06.17 bitrate=1359.0kbits/s speed=0.613x elapsed=0:00:10.06    \n",
      "frame=  199 fps= 19 q=24.0 size=    1024KiB time=00:00:06.57 bitrate=1276.2kbits/s speed=0.622x elapsed=0:00:10.56    \n",
      "frame=  210 fps= 19 q=24.0 size=    1280KiB time=00:00:06.94 bitrate=1510.9kbits/s speed=0.627x elapsed=0:00:11.06    \n",
      "frame=  220 fps= 19 q=24.0 size=    1280KiB time=00:00:07.27 bitrate=1441.6kbits/s speed=0.629x elapsed=0:00:11.56    \n",
      "frame=  228 fps= 19 q=24.0 size=    1280KiB time=00:00:07.54 bitrate=1390.6kbits/s speed=0.623x elapsed=0:00:12.10    \n",
      "frame=  236 fps= 19 q=24.0 size=    1280KiB time=00:00:07.80 bitrate=1343.0kbits/s speed=0.619x elapsed=0:00:12.61    \n",
      "frame=  243 fps= 19 q=24.0 size=    1536KiB time=00:00:08.04 bitrate=1564.8kbits/s speed=0.613x elapsed=0:00:13.11    \n",
      "frame=  248 fps= 18 q=24.0 size=    1536KiB time=00:00:08.20 bitrate=1533.0kbits/s speed=0.603x elapsed=0:00:13.62    \n",
      "frame=  255 fps= 18 q=24.0 size=    1536KiB time=00:00:08.44 bitrate=1490.6kbits/s speed=0.597x elapsed=0:00:14.12    \n",
      "frame=  261 fps= 18 q=24.0 size=    1536KiB time=00:00:08.67 bitrate=1450.5kbits/s speed=0.592x elapsed=0:00:14.64    \n",
      "frame=  267 fps= 18 q=24.0 size=    1536KiB time=00:00:08.84 bitrate=1423.1kbits/s speed=0.583x elapsed=0:00:15.16    \n",
      "frame=  274 fps= 17 q=24.0 size=    1792KiB time=00:00:09.10 bitrate=1611.6kbits/s speed=0.581x elapsed=0:00:15.67    \n",
      "frame=  279 fps= 17 q=24.0 size=    1792KiB time=00:00:09.24 bitrate=1588.4kbits/s speed=0.571x elapsed=0:00:16.17    \n",
      "frame=  287 fps= 17 q=24.0 size=    1792KiB time=00:00:09.50 bitrate=1543.8kbits/s speed=0.57x elapsed=0:00:16.67    \n",
      "frame=  295 fps= 17 q=24.0 size=    1792KiB time=00:00:09.77 bitrate=1501.6kbits/s speed=0.568x elapsed=0:00:17.19    \n",
      "frame=  299 fps= 17 q=24.0 size=    1792KiB time=00:00:09.90 bitrate=1481.4kbits/s speed=0.56x elapsed=0:00:17.70    \n",
      "frame=  305 fps= 17 q=24.0 size=    1792KiB time=00:00:10.11 bitrate=1452.1kbits/s speed=0.555x elapsed=0:00:18.20    \n",
      "frame=  315 fps= 17 q=24.0 size=    2048KiB time=00:00:10.44 bitrate=1606.5kbits/s speed=0.558x elapsed=0:00:18.71    \n",
      "frame=  323 fps= 17 q=24.0 size=    2048KiB time=00:00:10.71 bitrate=1566.4kbits/s speed=0.557x elapsed=0:00:19.21    \n",
      "frame=  331 fps= 17 q=24.0 size=    2048KiB time=00:00:10.97 bitrate=1528.3kbits/s speed=0.557x elapsed=0:00:19.71    \n",
      "frame=  343 fps= 17 q=24.0 size=    2048KiB time=00:00:11.37 bitrate=1474.6kbits/s speed=0.563x elapsed=0:00:20.22    \n",
      "frame=  355 fps= 17 q=19.0 size=    2304KiB time=00:00:11.77 bitrate=1602.5kbits/s speed=0.568x elapsed=0:00:20.73    \n",
      "[out#0/mp4 @ 0x7f7b8b90d640] video:2343KiB audio:0KiB subtitle:0KiB other streams:0KiB global headers:0KiB muxing overhead: 0.218076%\n",
      "frame=  362 fps= 17 q=-1.0 Lsize=    2348KiB time=00:00:12.01 bitrate=1601.3kbits/s speed=0.575x elapsed=0:00:20.90    \n",
      "[libx264 @ 0x7f7b8b90ecc0] frame I:2     Avg QP:15.42  size: 49148\n",
      "[libx264 @ 0x7f7b8b90ecc0] frame P:95    Avg QP:17.88  size: 16096\n",
      "[libx264 @ 0x7f7b8b90ecc0] frame B:265   Avg QP:21.48  size:  2910\n",
      "[libx264 @ 0x7f7b8b90ecc0] consecutive B-frames:  0.6%  4.4%  3.3% 91.7%\n",
      "[libx264 @ 0x7f7b8b90ecc0] mb I  I16..4:  4.5% 59.7% 35.8%\n",
      "[libx264 @ 0x7f7b8b90ecc0] mb P  I16..4:  2.9% 10.1%  2.3%  P16..4: 36.6% 29.1% 15.0%  0.0%  0.0%    skip: 4.1%\n",
      "[libx264 @ 0x7f7b8b90ecc0] mb B  I16..4:  2.4%  2.4%  0.1%  B16..8: 33.8% 11.1%  0.3%  direct:15.3%  skip:34.5%  L0:38.2% L1:50.2% BI:11.7%\n",
      "[libx264 @ 0x7f7b8b90ecc0] 8x8 transform intra:58.2% inter:50.9%\n",
      "[libx264 @ 0x7f7b8b90ecc0] coded y,uvDC,uvAC intra: 45.0% 61.5% 27.8% inter: 19.7% 25.9% 1.8%\n",
      "[libx264 @ 0x7f7b8b90ecc0] i16 v,h,dc,p: 23% 43% 18% 17%\n",
      "[libx264 @ 0x7f7b8b90ecc0] i8 v,h,dc,ddl,ddr,vr,hd,vl,hu: 15% 39% 20%  3%  4%  4%  6%  3%  7%\n",
      "[libx264 @ 0x7f7b8b90ecc0] i4 v,h,dc,ddl,ddr,vr,hd,vl,hu: 27% 31% 16%  3%  6%  5%  5%  3%  4%\n",
      "[libx264 @ 0x7f7b8b90ecc0] i8c dc,h,v,p: 56% 25% 15%  4%\n",
      "[libx264 @ 0x7f7b8b90ecc0] Weighted P-Frames: Y:4.2% UV:0.0%\n",
      "[libx264 @ 0x7f7b8b90ecc0] ref P L0: 78.1% 21.9%\n",
      "[libx264 @ 0x7f7b8b90ecc0] ref B L0: 88.7% 11.3%\n",
      "[libx264 @ 0x7f7b8b90ecc0] ref B L1: 96.4%  3.6%\n",
      "[libx264 @ 0x7f7b8b90ecc0] kb/s:1562.66\n",
      "Successfully created /var/folders/9g/509r85b95jz43885pc6n7zlr0000gn/T/tmp3nxx0913/rescaled_clip.mp4\n"
     ]
    },
    {
     "name": "stderr",
     "output_type": "stream",
     "text": [
      "ffmpeg version 8.0 Copyright (c) 2000-2025 the FFmpeg developers\n",
      "  built with Apple clang version 15.0.0 (clang-1500.1.0.2.5)\n",
      "  configuration: --prefix=/usr/local/Cellar/ffmpeg/8.0 --enable-shared --enable-pthreads --enable-version3 --cc=clang --host-cflags= --host-ldflags='-Wl,-ld_classic' --enable-ffplay --enable-gnutls --enable-gpl --enable-libaom --enable-libaribb24 --enable-libbluray --enable-libdav1d --enable-libharfbuzz --enable-libjxl --enable-libmp3lame --enable-libopus --enable-librav1e --enable-librist --enable-librubberband --enable-libsnappy --enable-libsrt --enable-libssh --enable-libsvtav1 --enable-libtesseract --enable-libtheora --enable-libvidstab --enable-libvmaf --enable-libvorbis --enable-libvpx --enable-libwebp --enable-libx264 --enable-libx265 --enable-libxml2 --enable-libxvid --enable-lzma --enable-libfontconfig --enable-libfreetype --enable-frei0r --enable-libass --enable-libopencore-amrnb --enable-libopencore-amrwb --enable-libopenjpeg --enable-libspeex --enable-libsoxr --enable-libzmq --enable-libzimg --disable-libjack --disable-indev=jack --enable-videotoolbox --enable-audiotoolbox\n",
      "  libavutil      60.  8.100 / 60.  8.100\n",
      "  libavcodec     62. 11.100 / 62. 11.100\n",
      "  libavformat    62.  3.100 / 62.  3.100\n",
      "  libavdevice    62.  1.100 / 62.  1.100\n",
      "  libavfilter    11.  4.100 / 11.  4.100\n",
      "  libswscale      9.  1.100 /  9.  1.100\n",
      "  libswresample   6.  1.100 /  6.  1.100\n",
      "Input #0, mov,mp4,m4a,3gp,3g2,mj2, from 'test_5min.mov':\n",
      "  Metadata:\n",
      "    major_brand     : qt  \n",
      "    minor_version   : 512\n",
      "    compatible_brands: qt  \n",
      "    encoder         : Lavf62.3.100\n",
      "  Duration: 00:05:00.00, start: 0.000000, bitrate: 1319 kb/s\n",
      "  Stream #0:0[0x1]: Video: h264 (High) (avc1 / 0x31637661), yuv420p(tv, bt709, progressive), 854x480 [SAR 1:1 DAR 427:240], 1186 kb/s, 25 fps, 25 tbr, 12800 tbn (default)\n",
      "    Metadata:\n",
      "      handler_name    : VideoHandler\n",
      "      vendor_id       : FFMP\n",
      "      encoder         : Lavc62.11.100 libx264\n",
      "  Stream #0:1[0x2]: Audio: aac (LC) (mp4a / 0x6134706D), 44100 Hz, stereo, fltp, 125 kb/s (default)\n",
      "    Metadata:\n",
      "      handler_name    : Core Media Audio\n",
      "      vendor_id       : [0][0][0][0]\n",
      "Input #1, mov,mp4,m4a,3gp,3g2,mj2, from '/var/folders/9g/509r85b95jz43885pc6n7zlr0000gn/T/tmp3nxx0913/rescaled_clip.mp4':\n",
      "  Metadata:\n",
      "    major_brand     : isom\n",
      "    minor_version   : 512\n",
      "    compatible_brands: isomiso2avc1mp41\n",
      "    encoder         : Lavf62.3.100\n",
      "  Duration: 00:00:12.08, start: 0.000000, bitrate: 1592 kb/s\n",
      "  Stream #1:0[0x1](und): Video: h264 (High) (avc1 / 0x31637661), yuv420p(tv, bt709, progressive), 854x480, 1589 kb/s, 29.97 fps, 29.97 tbr, 30k tbn (default)\n",
      "    Metadata:\n",
      "      handler_name    : Core Media Video\n",
      "      vendor_id       : [0][0][0][0]\n",
      "      encoder         : Lavc62.11.100 libx264\n",
      "Stream mapping:\n",
      "  Stream #0:0 (h264) -> trim:default\n",
      "  Stream #0:0 (h264) -> trim:default\n",
      "  Stream #1:0 (h264) -> trim:default\n",
      "  concat:out:v0 -> Stream #0:0 (libx264)\n",
      "  Stream #0:1 -> #0:1 (copy)\n",
      "Press [q] to stop, [?] for help\n",
      "[libx264 @ 0x7f9379706100] using SAR=1/1\n",
      "[libx264 @ 0x7f9379706100] using cpu capabilities: MMX2 SSE2Fast SSSE3 SSE4.2 AVX FMA3 BMI2 AVX2\n",
      "[libx264 @ 0x7f9379706100] profile Constrained Baseline, level 3.0, 4:2:0, 8-bit\n",
      "[libx264 @ 0x7f9379706100] 264 - core 164 r3108 31e19f9 - H.264/MPEG-4 AVC codec - Copyleft 2003-2023 - http://www.videolan.org/x264.html - options: cabac=0 ref=1 deblock=0:0:0 analyse=0:0 me=dia subme=0 psy=1 psy_rd=1.00:0.00 mixed_ref=0 me_range=16 chroma_me=1 trellis=0 8x8dct=0 cqm=0 deadzone=21,11 fast_pskip=1 chroma_qp_offset=0 threads=6 lookahead_threads=1 sliced_threads=0 nr=0 decimate=1 interlaced=0 bluray_compat=0 constrained_intra=0 bframes=0 weightp=0 keyint=250 keyint_min=25 scenecut=0 intra_refresh=0 rc=crf mbtree=0 crf=30.0 qcomp=0.60 qpmin=0 qpmax=69 qpstep=4 ip_ratio=1.40 aq=0\n",
      "Output #0, mov, to 'test.mov':\n",
      "  Metadata:\n",
      "    major_brand     : qt  \n",
      "    minor_version   : 512\n",
      "    compatible_brands: qt  \n",
      "    encoder         : Lavf62.3.100\n",
      "  Stream #0:0: Video: h264 (avc1 / 0x31637661), yuv420p(tv, bt709, progressive), 854x480 [SAR 1:1 DAR 427:240], q=2-31, 25 fps, 12800 tbn\n",
      "    Metadata:\n",
      "      encoder         : Lavc62.11.100 libx264\n",
      "    Side data:\n",
      "      cpb: bitrate max/min/avg: 0/0/0 buffer size: 0 vbv_delay: N/A\n",
      "  Stream #0:1: Audio: aac (LC) (mp4a / 0x6134706D), 44100 Hz, stereo, fltp, 125 kb/s (default)\n",
      "    Metadata:\n",
      "      handler_name    : Core Media Audio\n",
      "      vendor_id       : [0][0][0][0]\n",
      "[out#0/mov @ 0x7f9379704fc0] video:20180KiB audio:4608KiB subtitle:0KiB other streams:0KiB global headers:0KiB muxing overhead: 0.761114%\n",
      "frame= 7501 fps=190 q=-1.0 Lsize=   24977KiB time=00:05:00.00 bitrate= 682.0kbits/s speed= 7.6x elapsed=0:00:39.49    \n",
      "[libx264 @ 0x7f9379706100] frame I:31    Avg QP:24.29  size: 20881\n",
      "[libx264 @ 0x7f9379706100] frame P:7470  Avg QP:26.90  size:  2680\n",
      "[libx264 @ 0x7f9379706100] mb I  I16..4: 100.0%  0.0%  0.0%\n",
      "[libx264 @ 0x7f9379706100] mb P  I16..4:  6.6%  0.0%  0.0%  P16..4: 26.6%  0.0%  0.0%  0.0%  0.0%    skip:66.8%\n",
      "[libx264 @ 0x7f9379706100] coded y,uvDC,uvAC intra: 20.2% 17.7% 1.9% inter: 8.4% 5.1% 0.1%\n",
      "[libx264 @ 0x7f9379706100] i16 v,h,dc,p: 40% 27% 17% 16%\n",
      "[libx264 @ 0x7f9379706100] i8c dc,h,v,p: 63% 16% 16%  5%\n",
      "[libx264 @ 0x7f9379706100] kb/s:550.97\n"
     ]
    },
    {
     "ename": "FileNotFoundError",
     "evalue": "[Errno 2] No such file or directory: '\\n              ffmpeg -i test_5min.mov -i /var/folders/9g/509r85b95jz43885pc6n7zlr0000gn/T/tmp3nxx0913/rescaled_clip.mp4 -filter_complex \"\\n              [0:v]trim=0:290.001,setpts=PTS-STARTPTS[part1];\\n              color=c=black:size=854x480:d=10.0[black];\\n              [1:v]trim=2.0:12.0,setpts=PTS-STARTPTS,format=rgba,fade=t=out:st=7.0:d=3:alpha=1[ov];\\n              [black][ov]overlay=x=(main_w-overlay_w)/2:y=(main_h-overlay_h)/2:shortest=1[part2];\\n              [0:v]trim=300.001,setpts=PTS-STARTPTS[part3];\\n              [part1][part2][part3]concat=n=3:v=1:a=0[vout]\\n              \" -map \"[vout]\" -map 0:a -c:v libx264 -pix_fmt yuv420p -preset ultrafast -crf 30 -c:a copy -y \"test.mov\"\\n              '",
     "output_type": "error",
     "traceback": [
      "\u001b[31m---------------------------------------------------------------------------\u001b[39m",
      "\u001b[31mFileNotFoundError\u001b[39m                         Traceback (most recent call last)",
      "\u001b[36mCell\u001b[39m\u001b[36m \u001b[39m\u001b[32mIn[1]\u001b[39m\u001b[32m, line 10\u001b[39m\n\u001b[32m      8\u001b[39m extract_start_video1 = \u001b[32m2\u001b[39m\n\u001b[32m      9\u001b[39m output_filename = \u001b[33m\"\u001b[39m\u001b[33mtest.mov\u001b[39m\u001b[33m\"\u001b[39m\n\u001b[32m---> \u001b[39m\u001b[32m10\u001b[39m \u001b[43moverlay_video2\u001b[49m\u001b[43m(\u001b[49m\n\u001b[32m     11\u001b[39m \u001b[43m        \u001b[49m\u001b[43mvideo1_path\u001b[49m\u001b[43m,\u001b[49m\n\u001b[32m     12\u001b[39m \u001b[43m        \u001b[49m\u001b[43mvideo2_path\u001b[49m\u001b[43m,\u001b[49m\n\u001b[32m     13\u001b[39m \u001b[43m        \u001b[49m\u001b[43moverlay_start_main\u001b[49m\u001b[43m,\u001b[49m\n\u001b[32m     14\u001b[39m \u001b[43m        \u001b[49m\u001b[43moverlay_end_main\u001b[49m\u001b[43m,\u001b[49m\n\u001b[32m     15\u001b[39m \u001b[43m        \u001b[49m\u001b[43mextract_start_video1\u001b[49m\u001b[43m,\u001b[49m\n\u001b[32m     16\u001b[39m \u001b[43m        \u001b[49m\u001b[43moutput_filename\u001b[49m\u001b[43m,\u001b[49m\n\u001b[32m     17\u001b[39m \u001b[43m        \u001b[49m\u001b[43mcrf\u001b[49m\u001b[43m=\u001b[49m\u001b[32;43m30\u001b[39;49m\u001b[43m,\u001b[49m\n\u001b[32m     18\u001b[39m \u001b[43m        \u001b[49m\u001b[43mpreset\u001b[49m\u001b[43m=\u001b[49m\u001b[33;43m\"\u001b[39;49m\u001b[33;43multrafast\u001b[39;49m\u001b[33;43m\"\u001b[39;49m\u001b[43m,\u001b[49m\n\u001b[32m     19\u001b[39m \u001b[43m        \u001b[49m\u001b[43mfadeout\u001b[49m\u001b[43m=\u001b[49m\u001b[32;43m3\u001b[39;49m\n\u001b[32m     20\u001b[39m \u001b[43m    \u001b[49m\u001b[43m)\u001b[49m\n",
      "\u001b[36mFile \u001b[39m\u001b[32m~/Desktop/python/ban/video_commands.py:1624\u001b[39m, in \u001b[36moverlay_video2\u001b[39m\u001b[34m(video1_path, video2_path, overlay_start_main, overlay_end_main, extract_start_video1, output_filename, crf, preset, fadeout)\u001b[39m\n\u001b[32m   1609\u001b[39m \u001b[38;5;28;01melse\u001b[39;00m:\n\u001b[32m   1610\u001b[39m     \u001b[38;5;66;03m# Original overlay mode\u001b[39;00m\n\u001b[32m   1611\u001b[39m     cmd_final = [\n\u001b[32m   1612\u001b[39m         \u001b[33m'\u001b[39m\u001b[33mffmpeg\u001b[39m\u001b[33m'\u001b[39m,\n\u001b[32m   1613\u001b[39m         \u001b[33m'\u001b[39m\u001b[33m-i\u001b[39m\u001b[33m'\u001b[39m, video2_path,\n\u001b[32m   (...)\u001b[39m\u001b[32m   1622\u001b[39m         output_filename\n\u001b[32m   1623\u001b[39m     ]\n\u001b[32m-> \u001b[39m\u001b[32m1624\u001b[39m \u001b[43msubprocess\u001b[49m\u001b[43m.\u001b[49m\u001b[43mrun\u001b[49m\u001b[43m(\u001b[49m\u001b[43mcmd_final\u001b[49m\u001b[43m,\u001b[49m\u001b[43m \u001b[49m\u001b[43mcheck\u001b[49m\u001b[43m=\u001b[49m\u001b[38;5;28;43;01mTrue\u001b[39;49;00m\u001b[43m)\u001b[49m\n\u001b[32m   1625\u001b[39m \u001b[38;5;28mprint\u001b[39m(\u001b[33m\"\u001b[39m\u001b[33mCreating final overlay...\u001b[39m\u001b[33m\"\u001b[39m)\n\u001b[32m   1626\u001b[39m \u001b[38;5;28mprint\u001b[39m(\u001b[33m\"\u001b[39m\u001b[33mFFmpeg command:\u001b[39m\u001b[33m\"\u001b[39m, \u001b[33m\"\u001b[39m\u001b[33m \u001b[39m\u001b[33m\"\u001b[39m.join(cmd_final))\n",
      "\u001b[36mFile \u001b[39m\u001b[32m/usr/local/Cellar/python@3.13/3.13.7/Frameworks/Python.framework/Versions/3.13/lib/python3.13/subprocess.py:554\u001b[39m, in \u001b[36mrun\u001b[39m\u001b[34m(input, capture_output, timeout, check, *popenargs, **kwargs)\u001b[39m\n\u001b[32m    551\u001b[39m     kwargs[\u001b[33m'\u001b[39m\u001b[33mstdout\u001b[39m\u001b[33m'\u001b[39m] = PIPE\n\u001b[32m    552\u001b[39m     kwargs[\u001b[33m'\u001b[39m\u001b[33mstderr\u001b[39m\u001b[33m'\u001b[39m] = PIPE\n\u001b[32m--> \u001b[39m\u001b[32m554\u001b[39m \u001b[38;5;28;01mwith\u001b[39;00m \u001b[43mPopen\u001b[49m\u001b[43m(\u001b[49m\u001b[43m*\u001b[49m\u001b[43mpopenargs\u001b[49m\u001b[43m,\u001b[49m\u001b[43m \u001b[49m\u001b[43m*\u001b[49m\u001b[43m*\u001b[49m\u001b[43mkwargs\u001b[49m\u001b[43m)\u001b[49m \u001b[38;5;28;01mas\u001b[39;00m process:\n\u001b[32m    555\u001b[39m     \u001b[38;5;28;01mtry\u001b[39;00m:\n\u001b[32m    556\u001b[39m         stdout, stderr = process.communicate(\u001b[38;5;28minput\u001b[39m, timeout=timeout)\n",
      "\u001b[36mFile \u001b[39m\u001b[32m/usr/local/Cellar/python@3.13/3.13.7/Frameworks/Python.framework/Versions/3.13/lib/python3.13/subprocess.py:1039\u001b[39m, in \u001b[36mPopen.__init__\u001b[39m\u001b[34m(self, args, bufsize, executable, stdin, stdout, stderr, preexec_fn, close_fds, shell, cwd, env, universal_newlines, startupinfo, creationflags, restore_signals, start_new_session, pass_fds, user, group, extra_groups, encoding, errors, text, umask, pipesize, process_group)\u001b[39m\n\u001b[32m   1035\u001b[39m         \u001b[38;5;28;01mif\u001b[39;00m \u001b[38;5;28mself\u001b[39m.text_mode:\n\u001b[32m   1036\u001b[39m             \u001b[38;5;28mself\u001b[39m.stderr = io.TextIOWrapper(\u001b[38;5;28mself\u001b[39m.stderr,\n\u001b[32m   1037\u001b[39m                     encoding=encoding, errors=errors)\n\u001b[32m-> \u001b[39m\u001b[32m1039\u001b[39m     \u001b[38;5;28;43mself\u001b[39;49m\u001b[43m.\u001b[49m\u001b[43m_execute_child\u001b[49m\u001b[43m(\u001b[49m\u001b[43margs\u001b[49m\u001b[43m,\u001b[49m\u001b[43m \u001b[49m\u001b[43mexecutable\u001b[49m\u001b[43m,\u001b[49m\u001b[43m \u001b[49m\u001b[43mpreexec_fn\u001b[49m\u001b[43m,\u001b[49m\u001b[43m \u001b[49m\u001b[43mclose_fds\u001b[49m\u001b[43m,\u001b[49m\n\u001b[32m   1040\u001b[39m \u001b[43m                        \u001b[49m\u001b[43mpass_fds\u001b[49m\u001b[43m,\u001b[49m\u001b[43m \u001b[49m\u001b[43mcwd\u001b[49m\u001b[43m,\u001b[49m\u001b[43m \u001b[49m\u001b[43menv\u001b[49m\u001b[43m,\u001b[49m\n\u001b[32m   1041\u001b[39m \u001b[43m                        \u001b[49m\u001b[43mstartupinfo\u001b[49m\u001b[43m,\u001b[49m\u001b[43m \u001b[49m\u001b[43mcreationflags\u001b[49m\u001b[43m,\u001b[49m\u001b[43m \u001b[49m\u001b[43mshell\u001b[49m\u001b[43m,\u001b[49m\n\u001b[32m   1042\u001b[39m \u001b[43m                        \u001b[49m\u001b[43mp2cread\u001b[49m\u001b[43m,\u001b[49m\u001b[43m \u001b[49m\u001b[43mp2cwrite\u001b[49m\u001b[43m,\u001b[49m\n\u001b[32m   1043\u001b[39m \u001b[43m                        \u001b[49m\u001b[43mc2pread\u001b[49m\u001b[43m,\u001b[49m\u001b[43m \u001b[49m\u001b[43mc2pwrite\u001b[49m\u001b[43m,\u001b[49m\n\u001b[32m   1044\u001b[39m \u001b[43m                        \u001b[49m\u001b[43merrread\u001b[49m\u001b[43m,\u001b[49m\u001b[43m \u001b[49m\u001b[43merrwrite\u001b[49m\u001b[43m,\u001b[49m\n\u001b[32m   1045\u001b[39m \u001b[43m                        \u001b[49m\u001b[43mrestore_signals\u001b[49m\u001b[43m,\u001b[49m\n\u001b[32m   1046\u001b[39m \u001b[43m                        \u001b[49m\u001b[43mgid\u001b[49m\u001b[43m,\u001b[49m\u001b[43m \u001b[49m\u001b[43mgids\u001b[49m\u001b[43m,\u001b[49m\u001b[43m \u001b[49m\u001b[43muid\u001b[49m\u001b[43m,\u001b[49m\u001b[43m \u001b[49m\u001b[43mumask\u001b[49m\u001b[43m,\u001b[49m\n\u001b[32m   1047\u001b[39m \u001b[43m                        \u001b[49m\u001b[43mstart_new_session\u001b[49m\u001b[43m,\u001b[49m\u001b[43m \u001b[49m\u001b[43mprocess_group\u001b[49m\u001b[43m)\u001b[49m\n\u001b[32m   1048\u001b[39m \u001b[38;5;28;01mexcept\u001b[39;00m:\n\u001b[32m   1049\u001b[39m     \u001b[38;5;66;03m# Cleanup if the child failed starting.\u001b[39;00m\n\u001b[32m   1050\u001b[39m     \u001b[38;5;28;01mfor\u001b[39;00m f \u001b[38;5;129;01min\u001b[39;00m \u001b[38;5;28mfilter\u001b[39m(\u001b[38;5;28;01mNone\u001b[39;00m, (\u001b[38;5;28mself\u001b[39m.stdin, \u001b[38;5;28mself\u001b[39m.stdout, \u001b[38;5;28mself\u001b[39m.stderr)):\n",
      "\u001b[36mFile \u001b[39m\u001b[32m/usr/local/Cellar/python@3.13/3.13.7/Frameworks/Python.framework/Versions/3.13/lib/python3.13/subprocess.py:1972\u001b[39m, in \u001b[36mPopen._execute_child\u001b[39m\u001b[34m(self, args, executable, preexec_fn, close_fds, pass_fds, cwd, env, startupinfo, creationflags, shell, p2cread, p2cwrite, c2pread, c2pwrite, errread, errwrite, restore_signals, gid, gids, uid, umask, start_new_session, process_group)\u001b[39m\n\u001b[32m   1970\u001b[39m     err_msg = os.strerror(errno_num)\n\u001b[32m   1971\u001b[39m \u001b[38;5;28;01mif\u001b[39;00m err_filename \u001b[38;5;129;01mis\u001b[39;00m \u001b[38;5;129;01mnot\u001b[39;00m \u001b[38;5;28;01mNone\u001b[39;00m:\n\u001b[32m-> \u001b[39m\u001b[32m1972\u001b[39m     \u001b[38;5;28;01mraise\u001b[39;00m child_exception_type(errno_num, err_msg, err_filename)\n\u001b[32m   1973\u001b[39m \u001b[38;5;28;01melse\u001b[39;00m:\n\u001b[32m   1974\u001b[39m     \u001b[38;5;28;01mraise\u001b[39;00m child_exception_type(errno_num, err_msg)\n",
      "\u001b[31mFileNotFoundError\u001b[39m: [Errno 2] No such file or directory: '\\n              ffmpeg -i test_5min.mov -i /var/folders/9g/509r85b95jz43885pc6n7zlr0000gn/T/tmp3nxx0913/rescaled_clip.mp4 -filter_complex \"\\n              [0:v]trim=0:290.001,setpts=PTS-STARTPTS[part1];\\n              color=c=black:size=854x480:d=10.0[black];\\n              [1:v]trim=2.0:12.0,setpts=PTS-STARTPTS,format=rgba,fade=t=out:st=7.0:d=3:alpha=1[ov];\\n              [black][ov]overlay=x=(main_w-overlay_w)/2:y=(main_h-overlay_h)/2:shortest=1[part2];\\n              [0:v]trim=300.001,setpts=PTS-STARTPTS[part3];\\n              [part1][part2][part3]concat=n=3:v=1:a=0[vout]\\n              \" -map \"[vout]\" -map 0:a -c:v libx264 -pix_fmt yuv420p -preset ultrafast -crf 30 -c:a copy -y \"test.mov\"\\n              '"
     ]
    }
   ],
   "source": [
    "from video_commands import *\n",
    "video_path=\"test_5min.mov\"\n",
    "video_duration = get_video_length(video_path)\n",
    "video1_path = \"letter.MP4\"  #overlay video\n",
    "video2_path = \"test_5min.mov\"   #main video\n",
    "overlay_start_main = parse_time(video_duration)-10 #\"13:09.8\",\"13:14.9\"\n",
    "overlay_end_main = video_duration\n",
    "extract_start_video1 = 2\n",
    "output_filename = \"test.mov\"\n",
    "overlay_video2(\n",
    "        video1_path,\n",
    "        video2_path,\n",
    "        overlay_start_main,\n",
    "        overlay_end_main,\n",
    "        extract_start_video1,\n",
    "        output_filename,\n",
    "        crf=30,\n",
    "        preset=\"ultrafast\",\n",
    "        fadeout=3\n",
    "    )\n"
   ]
  },
  {
   "cell_type": "code",
   "execution_count": 1,
   "id": "422cca44-e136-435d-8240-b43440ac3fb1",
   "metadata": {},
   "outputs": [
    {
     "name": "stdin",
     "output_type": "stream",
     "text": [
      "\"test2.mov\" already exists. Delete it? (y/n):  y\n"
     ]
    },
    {
     "name": "stdout",
     "output_type": "stream",
     "text": [
      "Deleted existing \"test2.mov\".\n",
      "Extracting clip from overlay video...\n",
      "FFmpeg command: ffmpeg -ss 2.0 -i 黄花菜地.mov -t 20.0 -c copy -y /var/folders/9g/509r85b95jz43885pc6n7zlr0000gn/T/tmpzwd_3t8s/extracted_clip.mp4\n",
      "Removing audio from extracted clip...\n",
      "FFmpeg command: ffmpeg -i /var/folders/9g/509r85b95jz43885pc6n7zlr0000gn/T/tmpzwd_3t8s/extracted_clip.mp4 -an -y /var/folders/9g/509r85b95jz43885pc6n7zlr0000gn/T/tmpzwd_3t8s/muted_clip.mp4\n",
      "Rescaling the muted clip...\n",
      "FFmpeg command: ffmpeg -y -i /var/folders/9g/509r85b95jz43885pc6n7zlr0000gn/T/tmpzwd_3t8s/muted_clip.mp4 -vf scale=654:480,pad=854:480:100:0:black -c:v libx264 -preset fast -crf 18 -c:a copy /var/folders/9g/509r85b95jz43885pc6n7zlr0000gn/T/tmpzwd_3t8s/rescaled_clip.mp4\n",
      "ffmpeg version 8.0 Copyright (c) 2000-2025 the FFmpeg developers\n",
      "  built with Apple clang version 15.0.0 (clang-1500.1.0.2.5)\n",
      "  configuration: --prefix=/usr/local/Cellar/ffmpeg/8.0 --enable-shared --enable-pthreads --enable-version3 --cc=clang --host-cflags= --host-ldflags='-Wl,-ld_classic' --enable-ffplay --enable-gnutls --enable-gpl --enable-libaom --enable-libaribb24 --enable-libbluray --enable-libdav1d --enable-libharfbuzz --enable-libjxl --enable-libmp3lame --enable-libopus --enable-librav1e --enable-librist --enable-librubberband --enable-libsnappy --enable-libsrt --enable-libssh --enable-libsvtav1 --enable-libtesseract --enable-libtheora --enable-libvidstab --enable-libvmaf --enable-libvorbis --enable-libvpx --enable-libwebp --enable-libx264 --enable-libx265 --enable-libxml2 --enable-libxvid --enable-lzma --enable-libfontconfig --enable-libfreetype --enable-frei0r --enable-libass --enable-libopencore-amrnb --enable-libopencore-amrwb --enable-libopenjpeg --enable-libspeex --enable-libsoxr --enable-libzmq --enable-libzimg --disable-libjack --disable-indev=jack --enable-videotoolbox --enable-audiotoolbox\n",
      "  libavutil      60.  8.100 / 60.  8.100\n",
      "  libavcodec     62. 11.100 / 62. 11.100\n",
      "  libavformat    62.  3.100 / 62.  3.100\n",
      "  libavdevice    62.  1.100 / 62.  1.100\n",
      "  libavfilter    11.  4.100 / 11.  4.100\n",
      "  libswscale      9.  1.100 /  9.  1.100\n",
      "  libswresample   6.  1.100 /  6.  1.100\n",
      "Input #0, mov,mp4,m4a,3gp,3g2,mj2, from '/var/folders/9g/509r85b95jz43885pc6n7zlr0000gn/T/tmpzwd_3t8s/muted_clip.mp4':\n",
      "  Metadata:\n",
      "    major_brand     : isom\n",
      "    minor_version   : 512\n",
      "    compatible_brands: isomiso2avc1mp41\n",
      "    encoder         : Lavf62.3.100\n",
      "  Duration: 00:00:20.07, start: 0.000000, bitrate: 1678 kb/s\n",
      "  Stream #0:0[0x1](und): Video: h264 (High) (avc1 / 0x31637661), yuv420p(tv, bt709, progressive), 654x480, 1674 kb/s, 30 fps, 30 tbr, 15360 tbn (default)\n",
      "    Metadata:\n",
      "      handler_name    : Core Media Video\n",
      "      vendor_id       : [0][0][0][0]\n",
      "      encoder         : Lavc62.11.100 libx264\n",
      "Stream mapping:\n",
      "  Stream #0:0 -> #0:0 (h264 (native) -> h264 (libx264))\n",
      "Press [q] to stop, [?] for help\n",
      "[libx264 @ 0x7f985e006d00] using cpu capabilities: MMX2 SSE2Fast SSSE3 SSE4.2 AVX FMA3 BMI2 AVX2\n",
      "[libx264 @ 0x7f985e006d00] profile High, level 3.1, 4:2:0, 8-bit\n",
      "[libx264 @ 0x7f985e006d00] 264 - core 164 r3108 31e19f9 - H.264/MPEG-4 AVC codec - Copyleft 2003-2023 - http://www.videolan.org/x264.html - options: cabac=1 ref=2 deblock=1:0:0 analyse=0x3:0x113 me=hex subme=6 psy=1 psy_rd=1.00:0.00 mixed_ref=1 me_range=16 chroma_me=1 trellis=1 8x8dct=1 cqm=0 deadzone=21,11 fast_pskip=1 chroma_qp_offset=-2 threads=6 lookahead_threads=1 sliced_threads=0 nr=0 decimate=1 interlaced=0 bluray_compat=0 constrained_intra=0 bframes=3 b_pyramid=2 b_adapt=1 b_bias=0 direct=1 weightb=1 open_gop=0 weightp=1 keyint=250 keyint_min=25 scenecut=40 intra_refresh=0 rc_lookahead=30 rc=crf mbtree=1 crf=18.0 qcomp=0.60 qpmin=0 qpmax=69 qpstep=4 ip_ratio=1.40 aq=1:1.00\n",
      "Output #0, mp4, to '/var/folders/9g/509r85b95jz43885pc6n7zlr0000gn/T/tmpzwd_3t8s/rescaled_clip.mp4':\n",
      "  Metadata:\n",
      "    major_brand     : isom\n",
      "    minor_version   : 512\n",
      "    compatible_brands: isomiso2avc1mp41\n",
      "    encoder         : Lavf62.3.100\n",
      "  Stream #0:0(und): Video: h264 (avc1 / 0x31637661), yuv420p(tv, bt709, progressive), 854x480, q=2-31, 30 fps, 15360 tbn (default)\n",
      "    Metadata:\n",
      "      encoder         : Lavc62.11.100 libx264\n",
      "      handler_name    : Core Media Video\n",
      "      vendor_id       : [0][0][0][0]\n",
      "    Side data:\n",
      "      cpb: bitrate max/min/avg: 0/0/0 buffer size: 0 vbv_delay: N/A\n",
      "frame=    1 fps=0.0 q=24.0 size=       0KiB time=-00:00:00.03 bitrate=N/A speed=N/A elapsed=0:00:00.50    \n",
      "frame=   21 fps= 21 q=24.0 size=     256KiB time=00:00:00.63 bitrate=3311.9kbits/s speed=0.63x elapsed=0:00:01.00    \n",
      "frame=   37 fps= 25 q=24.0 size=     256KiB time=00:00:01.16 bitrate=1797.9kbits/s speed=0.775x elapsed=0:00:01.50    \n",
      "frame=   53 fps= 26 q=24.0 size=     512KiB time=00:00:01.70 bitrate=2467.5kbits/s speed=0.845x elapsed=0:00:02.01    \n",
      "frame=   61 fps= 24 q=24.0 size=     512KiB time=00:00:01.96 bitrate=2132.9kbits/s speed=0.783x elapsed=0:00:02.51    \n",
      "frame=   73 fps= 24 q=24.0 size=     768KiB time=00:00:02.36 bitrate=2658.5kbits/s speed=0.786x elapsed=0:00:03.01    \n",
      "frame=   85 fps= 24 q=24.0 size=     768KiB time=00:00:02.76 bitrate=2274.2kbits/s speed=0.787x elapsed=0:00:03.51    \n",
      "frame=   95 fps= 24 q=24.0 size=    1024KiB time=00:00:03.10 bitrate=2706.1kbits/s speed=0.771x elapsed=0:00:04.01    \n",
      "frame=  109 fps= 24 q=24.0 size=    1024KiB time=00:00:03.56 bitrate=2352.1kbits/s speed=0.789x elapsed=0:00:04.52    \n",
      "frame=  125 fps= 25 q=24.0 size=    1280KiB time=00:00:04.10 bitrate=2557.6kbits/s speed=0.816x elapsed=0:00:05.02    \n",
      "frame=  141 fps= 26 q=24.0 size=    1280KiB time=00:00:04.63 bitrate=2263.2kbits/s speed=0.839x elapsed=0:00:05.52    \n",
      "frame=  157 fps= 26 q=24.0 size=    1536KiB time=00:00:05.16 bitrate=2435.5kbits/s speed=0.857x elapsed=0:00:06.02    \n",
      "frame=  173 fps= 27 q=24.0 size=    1792KiB time=00:00:05.70 bitrate=2575.5kbits/s speed=0.873x elapsed=0:00:06.52    \n",
      "frame=  189 fps= 27 q=24.0 size=    2048KiB time=00:00:06.23 bitrate=2691.6kbits/s speed=0.887x elapsed=0:00:07.03    \n",
      "frame=  205 fps= 27 q=24.0 size=    2048KiB time=00:00:06.76 bitrate=2479.4kbits/s speed=0.898x elapsed=0:00:07.53    \n",
      "frame=  220 fps= 27 q=24.0 size=    2304KiB time=00:00:07.26 bitrate=2597.4kbits/s speed=0.904x elapsed=0:00:08.03    \n",
      "frame=  237 fps= 28 q=24.0 size=    2560KiB time=00:00:07.83 bitrate=2677.3kbits/s speed=0.917x elapsed=0:00:08.53    \n",
      "frame=  250 fps= 28 q=24.0 size=    2560KiB time=00:00:08.26 bitrate=2536.9kbits/s speed=0.914x elapsed=0:00:09.04    \n",
      "frame=  261 fps= 27 q=24.0 size=    2816KiB time=00:00:08.63 bitrate=2672.1kbits/s speed=0.905x elapsed=0:00:09.54    \n",
      "frame=  269 fps= 27 q=24.0 size=    2816KiB time=00:00:08.90 bitrate=2592.0kbits/s speed=0.885x elapsed=0:00:10.05    \n",
      "frame=  279 fps= 26 q=24.0 size=    2816KiB time=00:00:09.23 bitrate=2498.5kbits/s speed=0.875x elapsed=0:00:10.55    \n",
      "frame=  287 fps= 26 q=24.0 size=    3072KiB time=00:00:09.50 bitrate=2649.1kbits/s speed=0.859x elapsed=0:00:11.05    \n",
      "frame=  296 fps= 26 q=24.0 size=    3072KiB time=00:00:09.80 bitrate=2568.0kbits/s speed=0.846x elapsed=0:00:11.57    \n",
      "frame=  307 fps= 25 q=24.0 size=    3328KiB time=00:00:10.16 bitrate=2681.6kbits/s speed=0.841x elapsed=0:00:12.08    \n",
      "frame=  315 fps= 25 q=24.0 size=    3328KiB time=00:00:10.43 bitrate=2613.1kbits/s speed=0.829x elapsed=0:00:12.58    \n",
      "frame=  327 fps= 25 q=24.0 size=    3584KiB time=00:00:10.83 bitrate=2710.2kbits/s speed=0.828x elapsed=0:00:13.08    \n",
      "frame=  332 fps= 24 q=24.0 size=    3584KiB time=00:00:11.00 bitrate=2669.1kbits/s speed=0.81x elapsed=0:00:13.58    \n",
      "frame=  339 fps= 24 q=24.0 size=    3584KiB time=00:00:11.23 bitrate=2613.7kbits/s speed=0.798x elapsed=0:00:14.08    \n",
      "frame=  341 fps= 23 q=24.0 size=    3584KiB time=00:00:11.30 bitrate=2598.3kbits/s speed=0.774x elapsed=0:00:14.60    \n",
      "frame=  349 fps= 23 q=24.0 size=    3840KiB time=00:00:11.56 bitrate=2719.7kbits/s speed=0.766x elapsed=0:00:15.10    \n",
      "frame=  353 fps= 23 q=24.0 size=    3840KiB time=00:00:11.70 bitrate=2688.7kbits/s speed=0.749x elapsed=0:00:15.61    \n",
      "frame=  361 fps= 22 q=24.0 size=    3840KiB time=00:00:11.96 bitrate=2628.8kbits/s speed=0.743x elapsed=0:00:16.11    \n",
      "frame=  369 fps= 22 q=24.0 size=    3840KiB time=00:00:12.23 bitrate=2571.5kbits/s speed=0.736x elapsed=0:00:16.61    \n",
      "frame=  377 fps= 22 q=24.0 size=    4096KiB time=00:00:12.50 bitrate=2684.4kbits/s speed=0.73x elapsed=0:00:17.12    \n",
      "frame=  383 fps= 22 q=24.0 size=    4096KiB time=00:00:12.70 bitrate=2642.1kbits/s speed=0.72x elapsed=0:00:17.63    \n",
      "frame=  389 fps= 21 q=24.0 size=    4096KiB time=00:00:12.90 bitrate=2601.1kbits/s speed=0.71x elapsed=0:00:18.15    \n",
      "frame=  397 fps= 21 q=24.0 size=    4352KiB time=00:00:13.16 bitrate=2707.7kbits/s speed=0.706x elapsed=0:00:18.66    \n",
      "frame=  403 fps= 21 q=24.0 size=    4352KiB time=00:00:13.36 bitrate=2667.2kbits/s speed=0.697x elapsed=0:00:19.16    \n",
      "frame=  410 fps= 21 q=24.0 size=    4352KiB time=00:00:13.60 bitrate=2621.5kbits/s speed=0.691x elapsed=0:00:19.66    \n",
      "frame=  417 fps= 21 q=24.0 size=    4608KiB time=00:00:13.83 bitrate=2728.9kbits/s speed=0.686x elapsed=0:00:20.17    \n",
      "frame=  425 fps= 21 q=24.0 size=    4608KiB time=00:00:14.10 bitrate=2677.2kbits/s speed=0.682x elapsed=0:00:20.67    \n",
      "frame=  429 fps= 20 q=24.0 size=    4608KiB time=00:00:14.23 bitrate=2652.2kbits/s speed=0.672x elapsed=0:00:21.18    \n",
      "frame=  437 fps= 20 q=24.0 size=    4864KiB time=00:00:14.50 bitrate=2748.0kbits/s speed=0.668x elapsed=0:00:21.69    \n",
      "frame=  442 fps= 20 q=24.0 size=    4864KiB time=00:00:14.66 bitrate=2716.8kbits/s speed=0.661x elapsed=0:00:22.20    \n",
      "frame=  449 fps= 20 q=24.0 size=    4864KiB time=00:00:14.90 bitrate=2674.2kbits/s speed=0.656x elapsed=0:00:22.71    \n",
      "frame=  457 fps= 20 q=24.0 size=    4864KiB time=00:00:15.16 bitrate=2627.2kbits/s speed=0.653x elapsed=0:00:23.22    \n",
      "frame=  462 fps= 19 q=24.0 size=    5120KiB time=00:00:15.33 bitrate=2735.4kbits/s speed=0.646x elapsed=0:00:23.73    \n",
      "frame=  469 fps= 19 q=24.0 size=    5120KiB time=00:00:15.56 bitrate=2694.4kbits/s speed=0.642x elapsed=0:00:24.24    \n",
      "frame=  477 fps= 19 q=24.0 size=    5120KiB time=00:00:15.83 bitrate=2649.1kbits/s speed=0.64x elapsed=0:00:24.75    \n",
      "frame=  482 fps= 19 q=24.0 size=    5376KiB time=00:00:16.00 bitrate=2752.5kbits/s speed=0.633x elapsed=0:00:25.26    \n",
      "frame=  489 fps= 19 q=24.0 size=    5376KiB time=00:00:16.23 bitrate=2713.0kbits/s speed=0.63x elapsed=0:00:25.77    \n",
      "frame=  493 fps= 19 q=24.0 size=    5376KiB time=00:00:16.36 bitrate=2690.9kbits/s speed=0.623x elapsed=0:00:26.28    \n",
      "frame=  498 fps= 19 q=24.0 size=    5376KiB time=00:00:16.53 bitrate=2663.7kbits/s speed=0.617x elapsed=0:00:26.79    \n",
      "frame=  503 fps= 18 q=24.0 size=    5632KiB time=00:00:16.70 bitrate=2762.7kbits/s speed=0.612x elapsed=0:00:27.29    \n",
      "frame=  513 fps= 18 q=24.0 size=    5632KiB time=00:00:17.03 bitrate=2708.7kbits/s speed=0.613x elapsed=0:00:27.80    \n",
      "frame=  525 fps= 19 q=24.0 size=    5888KiB time=00:00:17.43 bitrate=2766.8kbits/s speed=0.616x elapsed=0:00:28.30    \n",
      "frame=  533 fps= 19 q=24.0 size=    5888KiB time=00:00:17.70 bitrate=2725.1kbits/s speed=0.615x elapsed=0:00:28.80    \n",
      "frame=  545 fps= 19 q=24.0 size=    6144KiB time=00:00:18.10 bitrate=2780.8kbits/s speed=0.618x elapsed=0:00:29.30    \n",
      "frame=  557 fps= 19 q=24.0 size=    6400KiB time=00:00:18.50 bitrate=2834.0kbits/s speed=0.621x elapsed=0:00:29.81    \n",
      "frame=  573 fps= 19 q=24.0 size=    6400KiB time=00:00:19.03 bitrate=2754.6kbits/s speed=0.628x elapsed=0:00:30.31    \n",
      "frame=  587 fps= 19 q=24.0 size=    6656KiB time=00:00:19.50 bitrate=2796.2kbits/s speed=0.633x elapsed=0:00:30.82    \n",
      "[out#0/mp4 @ 0x7f985e0051c0] video:7054KiB audio:0KiB subtitle:0KiB other streams:0KiB global headers:0KiB muxing overhead: 0.113389%\n",
      "frame=  602 fps= 19 q=-1.0 Lsize=    7062KiB time=00:00:20.00 bitrate=2892.4kbits/s speed=0.64x elapsed=0:00:31.23    \n",
      "[libx264 @ 0x7f985e006d00] frame I:3     Avg QP:15.05  size: 68440\n",
      "[libx264 @ 0x7f985e006d00] frame P:152   Avg QP:18.88  size: 29836\n",
      "[libx264 @ 0x7f985e006d00] frame B:447   Avg QP:22.89  size:  5552\n",
      "[libx264 @ 0x7f985e006d00] consecutive B-frames:  0.7%  0.7%  1.0% 97.7%\n",
      "[libx264 @ 0x7f985e006d00] mb I  I16..4: 14.5% 36.2% 49.3%\n",
      "[libx264 @ 0x7f985e006d00] mb P  I16..4:  0.6%  1.4%  1.4%  P16..4: 33.5% 24.4% 14.3%  0.0%  0.0%    skip:24.4%\n",
      "[libx264 @ 0x7f985e006d00] mb B  I16..4:  2.1%  0.8%  0.1%  B16..8: 26.0% 10.9%  1.6%  direct:14.7%  skip:43.8%  L0:41.0% L1:39.5% BI:19.6%\n",
      "[libx264 @ 0x7f985e006d00] 8x8 transform intra:32.0% inter:28.3%\n",
      "[libx264 @ 0x7f985e006d00] coded y,uvDC,uvAC intra: 37.9% 73.5% 35.1% inter: 27.3% 35.3% 1.5%\n",
      "[libx264 @ 0x7f985e006d00] i16 v,h,dc,p: 19% 45% 22% 14%\n",
      "[libx264 @ 0x7f985e006d00] i8 v,h,dc,ddl,ddr,vr,hd,vl,hu: 11% 33% 37%  1%  3%  2%  6%  1%  5%\n",
      "[libx264 @ 0x7f985e006d00] i4 v,h,dc,ddl,ddr,vr,hd,vl,hu: 25% 15% 17%  5%  9%  7% 10%  6%  8%\n",
      "[libx264 @ 0x7f985e006d00] i8c dc,h,v,p: 50% 22% 24%  4%\n",
      "[libx264 @ 0x7f985e006d00] Weighted P-Frames: Y:1.3% UV:0.7%\n",
      "[libx264 @ 0x7f985e006d00] ref P L0: 59.8% 40.2%\n",
      "[libx264 @ 0x7f985e006d00] ref B L0: 77.5% 22.5%\n",
      "[libx264 @ 0x7f985e006d00] ref B L1: 95.0%  5.0%\n",
      "[libx264 @ 0x7f985e006d00] kb/s:2850.88\n",
      "Successfully created /var/folders/9g/509r85b95jz43885pc6n7zlr0000gn/T/tmpzwd_3t8s/rescaled_clip.mp4\n"
     ]
    },
    {
     "name": "stderr",
     "output_type": "stream",
     "text": [
      "ffmpeg version 8.0 Copyright (c) 2000-2025 the FFmpeg developers\n",
      "  built with Apple clang version 15.0.0 (clang-1500.1.0.2.5)\n",
      "  configuration: --prefix=/usr/local/Cellar/ffmpeg/8.0 --enable-shared --enable-pthreads --enable-version3 --cc=clang --host-cflags= --host-ldflags='-Wl,-ld_classic' --enable-ffplay --enable-gnutls --enable-gpl --enable-libaom --enable-libaribb24 --enable-libbluray --enable-libdav1d --enable-libharfbuzz --enable-libjxl --enable-libmp3lame --enable-libopus --enable-librav1e --enable-librist --enable-librubberband --enable-libsnappy --enable-libsrt --enable-libssh --enable-libsvtav1 --enable-libtesseract --enable-libtheora --enable-libvidstab --enable-libvmaf --enable-libvorbis --enable-libvpx --enable-libwebp --enable-libx264 --enable-libx265 --enable-libxml2 --enable-libxvid --enable-lzma --enable-libfontconfig --enable-libfreetype --enable-frei0r --enable-libass --enable-libopencore-amrnb --enable-libopencore-amrwb --enable-libopenjpeg --enable-libspeex --enable-libsoxr --enable-libzmq --enable-libzimg --disable-libjack --disable-indev=jack --enable-videotoolbox --enable-audiotoolbox\n",
      "  libavutil      60.  8.100 / 60.  8.100\n",
      "  libavcodec     62. 11.100 / 62. 11.100\n",
      "  libavformat    62.  3.100 / 62.  3.100\n",
      "  libavdevice    62.  1.100 / 62.  1.100\n",
      "  libavfilter    11.  4.100 / 11.  4.100\n",
      "  libswscale      9.  1.100 /  9.  1.100\n",
      "  libswresample   6.  1.100 /  6.  1.100\n",
      "Input #0, mov,mp4,m4a,3gp,3g2,mj2, from 'test_5min.mov':\n",
      "  Metadata:\n",
      "    major_brand     : qt  \n",
      "    minor_version   : 512\n",
      "    compatible_brands: qt  \n",
      "    encoder         : Lavf62.3.100\n",
      "  Duration: 00:05:00.00, start: 0.000000, bitrate: 1319 kb/s\n",
      "  Stream #0:0[0x1]: Video: h264 (High) (avc1 / 0x31637661), yuv420p(tv, bt709, progressive), 854x480 [SAR 1:1 DAR 427:240], 1186 kb/s, 25 fps, 25 tbr, 12800 tbn (default)\n",
      "    Metadata:\n",
      "      handler_name    : VideoHandler\n",
      "      vendor_id       : FFMP\n",
      "      encoder         : Lavc62.11.100 libx264\n",
      "  Stream #0:1[0x2]: Audio: aac (LC) (mp4a / 0x6134706D), 44100 Hz, stereo, fltp, 125 kb/s (default)\n",
      "    Metadata:\n",
      "      handler_name    : Core Media Audio\n",
      "      vendor_id       : [0][0][0][0]\n",
      "Input #1, mov,mp4,m4a,3gp,3g2,mj2, from '/var/folders/9g/509r85b95jz43885pc6n7zlr0000gn/T/tmpzwd_3t8s/rescaled_clip.mp4':\n",
      "  Metadata:\n",
      "    major_brand     : isom\n",
      "    minor_version   : 512\n",
      "    compatible_brands: isomiso2avc1mp41\n",
      "    encoder         : Lavf62.3.100\n",
      "  Duration: 00:00:20.07, start: 0.000000, bitrate: 2882 kb/s\n",
      "  Stream #1:0[0x1](und): Video: h264 (High) (avc1 / 0x31637661), yuv420p(tv, bt709, progressive), 854x480, 2879 kb/s, 30 fps, 30 tbr, 15360 tbn (default)\n",
      "    Metadata:\n",
      "      handler_name    : Core Media Video\n",
      "      vendor_id       : [0][0][0][0]\n",
      "      encoder         : Lavc62.11.100 libx264\n",
      "Stream mapping:\n",
      "  Stream #0:0 (h264) -> overlay\n",
      "  Stream #1:0 (h264) -> setpts:default\n",
      "  overlay:default -> Stream #0:0 (libx264)\n",
      "  Stream #0:1 -> #0:1 (copy)\n",
      "Press [q] to stop, [?] for help\n",
      "[libx264 @ 0x7f87dbf061c0] using SAR=1/1\n",
      "[libx264 @ 0x7f87dbf061c0] using cpu capabilities: MMX2 SSE2Fast SSSE3 SSE4.2 AVX FMA3 BMI2 AVX2\n",
      "[libx264 @ 0x7f87dbf061c0] profile Constrained Baseline, level 3.0, 4:2:0, 8-bit\n",
      "[libx264 @ 0x7f87dbf061c0] 264 - core 164 r3108 31e19f9 - H.264/MPEG-4 AVC codec - Copyleft 2003-2023 - http://www.videolan.org/x264.html - options: cabac=0 ref=1 deblock=0:0:0 analyse=0:0 me=dia subme=0 psy=1 psy_rd=1.00:0.00 mixed_ref=0 me_range=16 chroma_me=1 trellis=0 8x8dct=0 cqm=0 deadzone=21,11 fast_pskip=1 chroma_qp_offset=0 threads=6 lookahead_threads=1 sliced_threads=0 nr=0 decimate=1 interlaced=0 bluray_compat=0 constrained_intra=0 bframes=0 weightp=0 keyint=250 keyint_min=25 scenecut=0 intra_refresh=0 rc=crf mbtree=0 crf=30.0 qcomp=0.60 qpmin=0 qpmax=69 qpstep=4 ip_ratio=1.40 aq=0\n",
      "Output #0, mov, to 'test2.mov':\n",
      "  Metadata:\n",
      "    major_brand     : qt  \n",
      "    minor_version   : 512\n",
      "    compatible_brands: qt  \n",
      "    encoder         : Lavf62.3.100\n",
      "  Stream #0:0: Video: h264 (avc1 / 0x31637661), yuv420p(tv, bt709, progressive), 854x480 [SAR 1:1 DAR 427:240], q=2-31, 25 fps, 12800 tbn\n",
      "    Metadata:\n",
      "      encoder         : Lavc62.11.100 libx264\n",
      "    Side data:\n",
      "      cpb: bitrate max/min/avg: 0/0/0 buffer size: 0 vbv_delay: N/A\n",
      "  Stream #0:1: Audio: aac (LC) (mp4a / 0x6134706D), 44100 Hz, stereo, fltp, 125 kb/s (default)\n",
      "    Metadata:\n",
      "      handler_name    : Core Media Audio\n",
      "      vendor_id       : [0][0][0][0]\n",
      "frame= 7388 fps=193 q=27.0 size=   24576KiB time=00:04:55.52 bitrate= 681.3kbits/s speed=7.74x elapsed=0:00:38.18    "
     ]
    },
    {
     "name": "stdout",
     "output_type": "stream",
     "text": [
      "Creating final overlay...\n",
      "FFmpeg command: ffmpeg -i test_5min.mov -i /var/folders/9g/509r85b95jz43885pc6n7zlr0000gn/T/tmpzwd_3t8s/rescaled_clip.mp4 -filter_complex [1:v]setpts=PTS+30.0/TB[v1];[0:v][v1]overlay=0:0:enable='between(t,30.0,50.0)' -c:a copy -c:v libx264 -crf 30 -preset ultrafast -y test2.mov\n",
      "Final video saved as test2.mov\n"
     ]
    },
    {
     "name": "stderr",
     "output_type": "stream",
     "text": [
      "[out#0/mov @ 0x7f87dbf04bc0] video:20404KiB audio:4608KiB subtitle:0KiB other streams:0KiB global headers:0KiB muxing overhead: 0.754278%\n",
      "frame= 7500 fps=194 q=-1.0 Lsize=   25200KiB time=00:05:00.00 bitrate= 688.1kbits/s speed=7.77x elapsed=0:00:38.62    \n",
      "[libx264 @ 0x7f87dbf061c0] frame I:30    Avg QP:24.27  size: 22147\n",
      "[libx264 @ 0x7f87dbf061c0] frame P:7470  Avg QP:26.81  size:  2708\n",
      "[libx264 @ 0x7f87dbf061c0] mb I  I16..4: 100.0%  0.0%  0.0%\n",
      "[libx264 @ 0x7f87dbf061c0] mb P  I16..4:  5.6%  0.0%  0.0%  P16..4: 25.9%  0.0%  0.0%  0.0%  0.0%    skip:68.4%\n",
      "[libx264 @ 0x7f87dbf061c0] coded y,uvDC,uvAC intra: 20.1% 19.8% 2.3% inter: 8.5% 5.3% 0.1%\n",
      "[libx264 @ 0x7f87dbf061c0] i16 v,h,dc,p: 42% 25% 17% 16%\n",
      "[libx264 @ 0x7f87dbf061c0] i8c dc,h,v,p: 61% 16% 17%  6%\n",
      "[libx264 @ 0x7f87dbf061c0] kb/s:557.14\n"
     ]
    }
   ],
   "source": [
    "from video_commands import *\n",
    "video_path=\"test_5min.mov\"\n",
    "video1_path = \"黄花菜地.mov\"  #overlay video\n",
    "video2_path = \"test_5min.mov\"   #main video\n",
    "overlay_start_main = \"0:30\" #\"13:09.8\",\"13:14.9\"\n",
    "overlay_end_main =  \"0:50\"\n",
    "extract_start_video1 = 2\n",
    "output_filename = \"test2.mov\"\n",
    "overlay_video2(\n",
    "        video1_path,\n",
    "        video2_path,\n",
    "        overlay_start_main,\n",
    "        overlay_end_main,\n",
    "        extract_start_video1,\n",
    "        output_filename,\n",
    "        crf=30,\n",
    "        preset=\"ultrafast\",\n",
    "        fadeout=0\n",
    "    )"
   ]
  },
  {
   "cell_type": "code",
   "execution_count": null,
   "id": "d90aab02-f7c0-4b34-92eb-f1b76d423475",
   "metadata": {},
   "outputs": [],
   "source": []
  },
  {
   "cell_type": "markdown",
   "id": "d5ed9c15-a6d6-4835-aa86-74e74f589061",
   "metadata": {},
   "source": [
    "1.automatic rescale of images and videos in the code or do reencoding in the preprocessing<br>\n",
    "2.insert multiple black stills<br>\n",
    "3.insert multiple images and videos<br>\n",
    "4.overlay a single image, or list image<br>\n",
    "overlay multiple videos<br>\n",
    "5.overlay_black_still not working in github<br>\n",
    "6. add preprocessing<br>\n",
    "7. 更改片尾字幕resolution<br>\n",
    "8. convert the following to python:<br>\n",
    "ffmpeg -i B0815_1mosaic_better_quality.mov -i 黄花菜地_muted.mov -filter_complex \"<br>\n",
    "[0:v]trim=0:1601,setpts=PTS-STARTPTS[part1];<br>\n",
    "color=c=black:size=854x480<br>\n",
    ":d=21[blackpart];<br>\n",
    "[1:v]trim=0:21,setpts=PTS-STARTPTS,format=rgba,fade=t=out:st=19:d=2:alpha=1[ov];<br>\n",
    "[blackpart][ov]overlay=x=(main_w-overlay_w)/2:y=(main_h-overlay_h)/2:shortest=1[part2];<br>\n",
    "[part1][part2]concat=n=2:v=1:a=0[vout]<br>\n",
    "\" -map \"[vout]\" -map 0:a -c:v libx264 -pix_fmt yuv420p -preset veryfast -crf 18 -c:a copy B0815_2flower.mov<br>\n",
    "9. convert it to python for overlay. start overlay time is 789.8s, upto 794.9 <br>\n",
    "ffmpeg -i B0815_subtitle.mov -i video_folder/letter_muted.mp4 -filter_complex \\\n",
    "\"[1:v]setpts=PTS+789.8/TB[v1]; \\\n",
    " [0:v][v1]overlay=0:0:enable='between(t,789.8,794.9)'\" \\\n",
    "-c:a copy -c:v libx264 -crf 30 -preset ultrafast output.mov\n",
    "\n"
   ]
  },
  {
   "cell_type": "markdown",
   "id": "c5eb6657-e176-4e81-8c25-da0393af3ad9",
   "metadata": {},
   "source": []
  },
  {
   "cell_type": "markdown",
   "id": "65419c4d-a55e-4ade-8c5d-53dbb8650902",
   "metadata": {},
   "source": [
    "<h3> ***continue here , burn in subtitle </h3>"
   ]
  },
  {
   "cell_type": "code",
   "execution_count": null,
   "id": "ad0a827a-0350-439f-a27c-88c8b49a29d2",
   "metadata": {},
   "outputs": [],
   "source": []
  }
 ],
 "metadata": {
  "kernelspec": {
   "display_name": "Python 3 (ipykernel)",
   "language": "python",
   "name": "python3"
  },
  "language_info": {
   "codemirror_mode": {
    "name": "ipython",
    "version": 3
   },
   "file_extension": ".py",
   "mimetype": "text/x-python",
   "name": "python",
   "nbconvert_exporter": "python",
   "pygments_lexer": "ipython3",
   "version": "3.13.7"
  }
 },
 "nbformat": 4,
 "nbformat_minor": 5
}
