{
 "cells": [
  {
   "cell_type": "code",
   "execution_count": null,
   "id": "131f3624-76c5-41a1-b135-b2f10cec1b70",
   "metadata": {},
   "outputs": [],
   "source": [
    "from video_commands import *\n",
    "main_video = \"B0815_subtitle.mov\"\n",
    "width,height = get_media_dimensions(main_video)\n",
    "print(width,height)"
   ]
  },
  {
   "cell_type": "markdown",
   "id": "9e9dcb3c-0db9-4251-bfc2-caaea289581e",
   "metadata": {},
   "source": [
    "## check dimensions of a file"
   ]
  },
  {
   "cell_type": "code",
   "execution_count": null,
   "id": "ca72b90e-b48a-4fea-a771-14117d9844ff",
   "metadata": {},
   "outputs": [],
   "source": [
    "width,height = get_media_dimensions(\"black.mov\")\n",
    "print(width,height)\n",
    "\n"
   ]
  },
  {
   "cell_type": "markdown",
   "id": "47e58258-8bf9-4da8-a568-eca41f328847",
   "metadata": {},
   "source": [
    "## trim Video\n",
    "outvideo = \"test.mov\"<br>\n",
    "invideo = \"B0815.mov\"<br>\n",
    "starttime,endtime = \"0:10\" , \"0:18\"<br>"
   ]
  },
  {
   "cell_type": "code",
   "execution_count": null,
   "id": "76a322d4-6dd4-4026-b8e7-0509f0f0c510",
   "metadata": {
    "scrolled": true
   },
   "outputs": [],
   "source": [
    "from video_commands import *\n",
    "#outvideo = \"test_5min.mov\"\n",
    "#invideo = \"B0815_2flower.mov\"\n",
    "#starttime,endtime = \"17:10\" , \"20:10\"\n",
    "#trim_video(invideo, \"16:30\" , \"21:30\", outvideo)\n",
    "\n",
    "trim_video(\"LETTER.mp4\", \"00:00\" , \"00:15\", \"letter_tmp.mov\")\n",
    "trim_video(\"黄花菜地.mov\", \"00:02\" , \"00:22\", \"黄花菜地_tmp.mov\")\n",
    "trim_video(\"war.mov\", \"00:00\" , \"00:10\", \"war_tmp.mov\")\n",
    "x, muted_video1, z = separate_audio_video(\"letter_tmp.mov\",\".\",0)\n",
    "x, muted_video2, z =separate_audio_video(\"黄花菜地_tmp.mov\",\".\",0)\n",
    "x, muted_video3, z =separate_audio_video(\"war_tmp.mov\",\".\",0)\n",
    "a_list = [muted_video1, muted_video2, muted_video3]\n",
    "a,b=reencode_to_match(outvideo,a_list,crf=\"30\",preset=\"veryfast\")\n",
    "print(a)\n",
    "print_media_info(a)\n"
   ]
  },
  {
   "cell_type": "markdown",
   "id": "3e799b12-4342-4e0b-98a3-3dd39374f70a",
   "metadata": {
    "scrolled": true
   },
   "source": [
    "## add a black still and insert in video<br>\n",
    "input_video = \"test_1min.mov\"<br>\n",
    "outfile = \"test.mov\"<br>\n",
    "insert_black_stills(input_video=input_video,black_list=black_list,output_file=outfile,crf=18,preset=\"fast\")\n",
    "\n"
   ]
  },
  {
   "cell_type": "markdown",
   "id": "690c46f7-606b-4ad1-bb5b-5bacf3ec57b5",
   "metadata": {
    "scrolled": true
   },
   "source": [
    "# # ADD multiple black stills and insert into video\n",
    "<font color = \"red\">add def, insert multiple new black stills using concat. Ask me to delete original mov</font>\n",
    "\n"
   ]
  },
  {
   "cell_type": "code",
   "execution_count": null,
   "id": "a315b7ed-e1da-47d6-b4fb-85d54d782f04",
   "metadata": {
    "scrolled": true
   },
   "outputs": [],
   "source": [
    "from video_commands import *\n",
    "input_video = \"test_5min.mov\"\n",
    "start_time = 0#\"17:00.5\" #5\n",
    "end_time = 5#\"17:03.5\"   #10\n",
    "crf = 10\n",
    "preset = \"fast\"\n",
    "input_file=[[\"28年后的巨变\",\"black1.mov\"],[\"日本留学\",\"black2.mov\"],[\"回国梦\",\"black3.mov\"]]\n",
    "#for i in input_file:\n",
    "#    create_black_still(input_video, i[0],start_time , end_time, i[1], font_name=\"Arial\",font_size=130,font_color=\"&H00FFFFFF\")\n",
    "\n",
    "video_duration = get_video_length(input_video)\n",
    "sections = [\"0:00-1:00\", \"1:00-2:00\", \"2:00-3:00\",f\"3:00-{video_duration}\"]\n",
    "input_file = \"test_5min.mov\"\n",
    "outputfiles = [\"video1.mov\",\"video2.mov\",\"video3.mov\",\"video4.mov\"]\n",
    "#for section, outfile in zip(sections, outputfiles):\n",
    "#     split_video(input_file, [section], [outfile])\n",
    "video_list =[\"video1.mov\",\"black1.mov\",\"video2.mov\",\"black2.mov\",\"video3.mov\",\"black3.mov\",\"video4.mov\"]\n",
    "#combine_video(video_list,primary_video_index= ,output_file=\"test.mov\", crf=40, preset=\"ultrafast\")\n",
    "combine_video(video_list,0,output_file=\"test_final3.mov\", crf=30, preset=\"veryfast\")"
   ]
  },
  {
   "cell_type": "code",
   "execution_count": null,
   "id": "b13fe0af-d26c-43ad-a105-cec9c0fd6b80",
   "metadata": {
    "scrolled": true
   },
   "outputs": [],
   "source": []
  },
  {
   "cell_type": "code",
   "execution_count": null,
   "id": "bb98c17b-1433-47e3-bf50-a3a10ea481c0",
   "metadata": {
    "scrolled": true
   },
   "outputs": [],
   "source": [
    "from video_commands import * \n",
    "success, temp_muted, audio_file = separate_audio_video(\"war_muted.mov\",\".\",0)\n",
    "main_video = \"test_3min.mov\"\n",
    "list_to_reencode = ['war_muted.mov']\n",
    "a,b = reencode_to_match(main_video, list_to_reencode,crf=\"18\",preset=\"fast\")\n",
    "print(a) # names of reencoded videos\n",
    "print(b) #dictionary with original and reencoded name\n",
    "a = [\"tmp/test_3min_reencoded_padded.mov\",\"tmp/rescaled_clip_reencoded_padded.mov\"]\n",
    "print_media_info(a)\n",
    "a = get_video_length(\"test_3min.mov\")\n",
    "print(a)\n"
   ]
  },
  {
   "cell_type": "code",
   "execution_count": null,
   "id": "6a89e027-20fc-41f3-a451-f566e34751f8",
   "metadata": {
    "scrolled": true
   },
   "outputs": [],
   "source": [
    "from video_commands import *\n"
   ]
  },
  {
   "cell_type": "code",
   "execution_count": null,
   "id": "f2d86d92-2d2f-4da0-bb27-16529df8ed09",
   "metadata": {
    "scrolled": true
   },
   "outputs": [],
   "source": []
  },
  {
   "cell_type": "code",
   "execution_count": null,
   "id": "10797a3e-97c9-407e-a36c-0176d53fa7a7",
   "metadata": {
    "scrolled": true
   },
   "outputs": [],
   "source": [
    "\n"
   ]
  },
  {
   "cell_type": "code",
   "execution_count": null,
   "id": "cb7294ad-1389-4fdd-be53-d4ca4b98eb74",
   "metadata": {},
   "outputs": [],
   "source": []
  },
  {
   "cell_type": "code",
   "execution_count": null,
   "id": "8fdf904d-2fe1-461b-86de-babf1add51ab",
   "metadata": {},
   "outputs": [],
   "source": []
  },
  {
   "cell_type": "code",
   "execution_count": null,
   "id": "9da4040d-e1c2-405e-bd86-9e2a4072523a",
   "metadata": {},
   "outputs": [],
   "source": []
  },
  {
   "cell_type": "code",
   "execution_count": null,
   "id": "d6b9f398-cf8c-48d3-aa23-e8903f9ed00e",
   "metadata": {
    "scrolled": true
   },
   "outputs": [],
   "source": [
    "\n"
   ]
  },
  {
   "cell_type": "code",
   "execution_count": null,
   "id": "a6c1ea51-328b-45b0-a316-df620f186e9c",
   "metadata": {
    "scrolled": true
   },
   "outputs": [],
   "source": [
    "\n"
   ]
  },
  {
   "cell_type": "code",
   "execution_count": null,
   "id": "498f9942-c313-4fa8-ba76-2e1b8135d0ed",
   "metadata": {
    "scrolled": true
   },
   "outputs": [],
   "source": [
    "\n"
   ]
  },
  {
   "cell_type": "code",
   "execution_count": null,
   "id": "b9778e88-e84d-498a-9596-da6a3bebc107",
   "metadata": {
    "scrolled": true
   },
   "outputs": [],
   "source": [
    "\n"
   ]
  },
  {
   "cell_type": "code",
   "execution_count": null,
   "id": "bed14510-1297-484a-be3f-66af24d41399",
   "metadata": {},
   "outputs": [],
   "source": []
  },
  {
   "cell_type": "code",
   "execution_count": null,
   "id": "0118a60f-f8b8-4a04-bc0f-641771e90934",
   "metadata": {
    "scrolled": true
   },
   "outputs": [],
   "source": [
    "\n"
   ]
  },
  {
   "cell_type": "code",
   "execution_count": null,
   "id": "5435c4ab-ce3d-4256-891e-1ee27813eb4b",
   "metadata": {},
   "outputs": [],
   "source": []
  },
  {
   "cell_type": "code",
   "execution_count": null,
   "id": "8beacc49-bd7c-488d-b5e1-f37cf068fed3",
   "metadata": {},
   "outputs": [],
   "source": []
  },
  {
   "cell_type": "code",
   "execution_count": null,
   "id": "3810311b-b5c3-4f88-a586-6aaa6eb69f2e",
   "metadata": {},
   "outputs": [],
   "source": []
  },
  {
   "cell_type": "markdown",
   "id": "3ea14b51-61b6-49a0-84fb-eabdf56a6ed7",
   "metadata": {
    "scrolled": true
   },
   "source": [
    "## Audio - converting mp3 to wav<br>\n",
    "mp3_file = \"music/darkness.mp3\""
   ]
  },
  {
   "cell_type": "code",
   "execution_count": null,
   "id": "a490cbd1-cc92-4b34-b3b0-ad02fc959e96",
   "metadata": {
    "scrolled": true
   },
   "outputs": [],
   "source": [
    "mp3_file = \"music/darkness.mp3\"\n",
    "mp3_to_wav(mp3_file)"
   ]
  },
  {
   "cell_type": "markdown",
   "id": "1f740b44-ce5b-47be-aa00-114f9b60bfbd",
   "metadata": {
    "scrolled": true
   },
   "source": [
    "## Audio - adjusting volume<br>\n",
    "wav_file = \"music/darkness.wav\" <br>\n",
    "volume_factor = 0.1"
   ]
  },
  {
   "cell_type": "code",
   "execution_count": null,
   "id": "516b047f-cabf-4b88-9b3b-d723976de18c",
   "metadata": {},
   "outputs": [],
   "source": [
    "wav_file = \"music/darkness.wav\"\n",
    "volume_factor = 0.1\n",
    "adjust_wav_volume(wav_file, volume_factor)"
   ]
  },
  {
   "cell_type": "markdown",
   "id": "61e04a33-5376-493a-9b34-ff2ed31a801d",
   "metadata": {
    "scrolled": true
   },
   "source": [
    "## split video into sections<br>\n",
    "sections = [\"0:00-5:00\", \"5:00-8:00\", \"9:00-12:00\"]<br>\n",
    "split_video(\"xxx.mov\", sections)<br>\n",
    "output:test_5min_0005-0100.mov,test_5min_0100-0200.mov,test_5min_0220-0300.mov\n"
   ]
  },
  {
   "cell_type": "code",
   "execution_count": null,
   "id": "73ec8233-fdd9-4707-b39f-88901ddbcc35",
   "metadata": {},
   "outputs": [],
   "source": [
    "sections = [\"0:05-1:00\", \"1:00-2:00\", \"2:20-3:00\"]\n",
    "input_file = \"test_5min.mov\"\n",
    "split_video(input_file, sections)"
   ]
  },
  {
   "cell_type": "markdown",
   "id": "d890bec3-5141-4ab8-8c4a-13b17f94fca7",
   "metadata": {},
   "source": [
    "## extract voice from a video and convert to srt file\n",
    "lang can be None\n"
   ]
  },
  {
   "cell_type": "code",
   "execution_count": null,
   "id": "973213d9-6bee-4ae8-8973-1b67b9f95cb2",
   "metadata": {},
   "outputs": [],
   "source": [
    "input_video, output_srt,lang = \"test_1min.mov\", \"test_1min.srt\",\"zh\"\n",
    "voice_to_srt(input_video, output_srt, lang=lang)#en,ja,k"
   ]
  },
  {
   "cell_type": "markdown",
   "id": "61959d26-49f6-4aa6-8e0c-6be6e51c2afa",
   "metadata": {},
   "source": [
    "## srt to ass"
   ]
  },
  {
   "cell_type": "code",
   "execution_count": null,
   "id": "453895f3-c732-4057-af8e-4635c1db2d85",
   "metadata": {},
   "outputs": [],
   "source": [
    "srt_file = \"test_1min.srt\" #input file\n",
    "ass_file = \"test_1min.ass\" #new file\n",
    "srt_to_ass(srt_file, ass_file,width,height,fontname=\"宋体\", fontsize=30)\n",
    "burn_subtitles(\"test_1min.mov\", \"test_1min.ass\", \"output.mov\", \"Arial\")\n"
   ]
  },
  {
   "cell_type": "markdown",
   "id": "08913abb-6632-45ec-85df-bd06d1fbfcf2",
   "metadata": {},
   "source": [
    "## Translation and Combine Different Translations for proofreading\n",
    "<h3>only for srt!!!</h3>"
   ]
  },
  {
   "cell_type": "code",
   "execution_count": null,
   "id": "14844c02-ce80-4331-a5ee-d95ce7a4316d",
   "metadata": {},
   "outputs": [],
   "source": [
    "inputfile,outputfile,lang = \"test_1min.srt\",\"test_1min_jp.srt\",\"JA\" #lang = target language\n",
    "deepl_translate_srt(inputfile, outputfile ,lang=lang)#EN-US KO zh JA"
   ]
  },
  {
   "cell_type": "code",
   "execution_count": null,
   "id": "8880ccaf-7dd6-4434-8395-46724ea8a873",
   "metadata": {
    "scrolled": true
   },
   "outputs": [],
   "source": [
    "inputfile = \"test_1min.srt\"\n",
    "outputfile = \"test_1min_jp.srt\"\n",
    "combined_file = \"combined_chi_jp.srt\"  #new file, oneline chinese one line japanese\n",
    "combine_srt(inputfile,outputfile, combined_file)"
   ]
  },
  {
   "cell_type": "markdown",
   "id": "777ecb0f-69cc-4068-b8d0-08cc0be91df9",
   "metadata": {},
   "source": [
    "## Add grid to a screenshot for mosaic\n",
    "add_numbered_grid(<br>\n",
    "    input_file,output_file,width,height,interval=100,line_color=\"red\",<br>\n",
    "    number_color=\"yellow\",number_size=30,number_offset=5)"
   ]
  },
  {
   "cell_type": "code",
   "execution_count": null,
   "id": "283f67d0-d16c-4883-8347-4fd9180ed1c9",
   "metadata": {},
   "outputs": [],
   "source": [
    "time_and_name = [\n",
    "        [\"1:10\", \"test1.png\"],           # 1 minute 10 seconds\n",
    "        [\"70\", \"test2.jpg\"],             # 70 seconds\n",
    "        [\"1:30.5\", \"test3.png\"],         # 1 minute 30.5 seconds\n",
    "        [\"00:01:45\", \"test4.jpg\"],       # 1 minute 45 seconds (full format)\n",
    "        [\"00:02:30.750\", \"test5.png\"],   # 2 minutes 30.75 seconds\n",
    "        [\"4:41\", \"test6.jpg\"]            # 4 minutes 41 seconds\n",
    "        ]\n",
    "extract_frames(\"test_5min.mov\", time_and_name)"
   ]
  },
  {
   "cell_type": "code",
   "execution_count": null,
   "id": "05f0a00a-034a-464e-87ac-d6ad48bc68bf",
   "metadata": {},
   "outputs": [],
   "source": [
    "for i in time_and_name:\n",
    "    outscreenshot = f\"{i[1].split(\".\")[0]+\"_grid.png\"}\"\n",
    "    add_numbered_grid(\n",
    "    i[1],\n",
    "    outscreenshot,\n",
    "    width,\n",
    "    height,\n",
    "    interval=50,\n",
    "    line_color=\"red\",\n",
    "    number_color=\"yellow\",\n",
    "    number_size=30,\n",
    "    number_offset=5\n",
    ")"
   ]
  },
  {
   "cell_type": "markdown",
   "id": "f53a161d-8a48-4141-8b43-6ba7f7fee4f7",
   "metadata": {},
   "source": [
    "# Apply Mosaic"
   ]
  },
  {
   "cell_type": "markdown",
   "id": "ebbd2e3c-ded3-4ecd-958a-0cec37aca35c",
   "metadata": {},
   "source": [
    "## example: <br>\n",
    "mosaic_list=[<br>\n",
    "        [50, 50, 100, 50, 10, 0, 10],      <br>\n",
    "        [800, 0, 200, 200, 15, \"1:20.5\", \"3:00\"]]  <br>\n",
    "    # position of top-left corner<br>\n",
    "    x=50,y=50,width=100,height=50<br>\n",
    "    pixelization level=10<br>\n",
    "    start seconds=0,end seconds=10<br>"
   ]
  },
  {
   "cell_type": "code",
   "execution_count": null,
   "id": "6412e221-8891-41d0-a707-ab78eb86fed6",
   "metadata": {},
   "outputs": [],
   "source": [
    "input_video,output_video = \"test_5min.mov\",\"test_5min_mosaic.mov\"\n",
    "mosaic_list = [[65, 50, 200, 170, 15, 0, 30],[width-260, 60, 285, 140, 15, \"1:20.5\", \"2:30\"]]\n",
    "apply_mosaics(input_video, output_video, mosaic_list)"
   ]
  },
  {
   "cell_type": "markdown",
   "id": "5a0ea7c5-c386-4374-83f1-0518c7dfee32",
   "metadata": {},
   "source": [
    "## srt to ass and burn in subtitles <br>\n",
    "srt_file = \"../中文字幕.srt\" #input file <br>\n",
    "ass_file = \"中文字幕.ass\" #new file <br>\n",
    "input_video = \"B0815_4letter.mov\" <br>\n",
    "output_video = \"B0815_subtitle.mov\" <br>\n",
    "#srt_to_ass(srt_file, ass_file,width,height,fontname=\"宋体\", fontsize=30) <br>\n",
    "burn_subtitles(input_video, ass_file, output_video, \"Arial\",crf =\"18\",preset=\"veryfast\") <br>"
   ]
  },
  {
   "cell_type": "code",
   "execution_count": null,
   "id": "95c94d7f-d0d7-4920-8c92-631e3b4489f4",
   "metadata": {},
   "outputs": [],
   "source": [
    "srt_file = \"中文字幕.srt\" #input file\n",
    "ass_file = \"中文字幕.ass\" #new file\n",
    "input_video = \"B0815_4letter.mov\"\n",
    "output_video = \"B0815_subtitle.mov\"\n",
    "srt_to_ass(srt_file, ass_file,width,height,fontname=\"宋体\", fontsize=30)\n",
    "burn_subtitles(input_video, ass_file, output_video, \"Arial\",crf =\"10\",preset=\"fast\")"
   ]
  },
  {
   "cell_type": "code",
   "execution_count": null,
   "id": "abe04004-2300-49e6-aaaa-9cb2cd2c91b7",
   "metadata": {},
   "outputs": [],
   "source": [
    "srt_file = \"test_1min.srt\" #input file\n",
    "ass_file = \"test_1min.ass\" #new file\n",
    "input_video = \"test_1min.mov\"\n",
    "output_video = \"test.mov\"\n",
    "srt_to_ass(srt_file, ass_file,width,height,fontname=\"宋体\", fontsize=30)\n",
    "burn_subtitles(input_video, ass_file, output_video, \"Arial\")"
   ]
  },
  {
   "cell_type": "markdown",
   "id": "ab8acbe7-bbc1-4daf-b276-d7a2471dbce5",
   "metadata": {},
   "source": [
    "## End film\n",
    "input \"end_subtitle_txt\" in the end film this way:<br>\n",
    "编导演播：翰 光<br>\n",
    "音乐：Chad Cannon<br>\n",
    "照片提供： 小林熏<br>\n",
    "         李晓斌<br>\n",
    "\n",
    "The content of <b>end_subtitle_txt</b> is inserted into <b>end_subtitle_template</b> <br>\n",
    "as <b>end_subtitle_ass</b> by <b><i>end_credits_ass</b></i>.<br>\n",
    "Then <b><i>create_ending_film</b></i> is called to create <b>end_output</b> with <b>end_song</b> as background music.<br>\n",
    "The dimension of  <b>end_output</b> is the same as the <b>main_video</b>. The background music has an adjustable volume<br>\n",
    "and fade-in,fade-out time. <b>end_second</b> is the silent time before the end of the film and after the end of the song.\n",
    "You can add a background video with an adjustable fade-out time. <br>\n",
    "Remember to use <b><i>preprocess</b></i> to rescale it first.<br>\n",
    "Add rescale to match the scale"
   ]
  },
  {
   "cell_type": "code",
   "execution_count": null,
   "id": "f9fc3757-5360-4b29-ae6a-23b227c86ad6",
   "metadata": {
    "scrolled": true
   },
   "outputs": [],
   "source": [
    "from video_commands import *\n",
    "width,height = get_media_dimensions(\"test_3min.mov\")\n",
    "print(width,height)\n",
    "\n",
    "end_subtitle_ass= \"2508credits2.ass\"\n",
    "end_subtitle_txt= \"end_subtitle.txt\"\n",
    "end_subtitle_template = \"end_subtitle_template.ass\"\n",
    "end_song = \"music/end_song.wav\"\n",
    "end_output3 = \"end_vol4.mov\"\n",
    "end_credits_ass2(end_subtitle_template, end_subtitle_txt, end_subtitle_ass,width, height,first_start=\"0:00:01.40\", \n",
    "                 each_duration_s=6.0,line_offset_s=0.60, fallback_duration_s=4.0)\n",
    "create_ending_film(end_subtitle_ass, end_song, end_output3, width, height,\n",
    "                       volume=3, end_second=5, fadein=3, fadeout=10,\n",
    "                       bg_video=None,video_fadeout=4)"
   ]
  },
  {
   "cell_type": "markdown",
   "id": "f4a80560-82dc-48d3-b283-247a5db7c827",
   "metadata": {},
   "source": [
    "## Reencode and combine \n",
    "Do the reencoding inside\n",
    "output_file=\"B0815_final1.5.mp4\" not ok,must be <br>\n",
    "output_file=\"B0815_final1.mp4\", no \".\" in between"
   ]
  },
  {
   "cell_type": "code",
   "execution_count": null,
   "id": "f48686d1-1b4e-402d-bc69-c3936e2cfd09",
   "metadata": {},
   "outputs": [],
   "source": [
    "from video_commands import *\n",
    "#main_video = \"test_3min.mov\"\n",
    "#width,height = get_media_dimensions(main_video)\n",
    "list_to_reencode = [\"beginning_ban.mp4\",\"end_vol3.mov\"]\n",
    "video_list = [\"letter.MP4\",\"test_3min.mov\",\"end_vol4.mov\"]\n",
    "#make_rescaled_image(width, height, \"beginning_ban.mp4\", \"beginning_ban_rescaled.mp4\")\n",
    "#make_rescaled_image(width, height, \"end_vol3.mov\", \"end_vol3_rescaled.mov4\")\n",
    "#a,b= reencode_to_match2(main_video, list_to_reencode)\n",
    "#print(a)\n",
    "#print(b)\n",
    "#files = [\"tmp/1_test_3min_reencoded.mov\",\"tmp/0_beginning_ban_reencoded.mov\",\"tmp/2_end_vol3_reencoded.mov\"]\n",
    "#print_media_info([\"end_vol4.mov\"])\n",
    "#a,b =reencode_to_match(\"test_3min.mov\",[\"end_vol4.mov\"],purpose=\"combine\",crf=40,preset=\"ultrafast\")\n",
    "#make_rescaled_image(854, 480,\"end_vol4.mov\", \"combine\",\"test_rescaled.mov\",crf=30,preset=\"ultrafast\")\n",
    "\"\"\"\n",
    "a=[\"test_3min_reencoded_padded.mov\",\"end_vol4_reencoded_padded.mov\"]\n",
    "print_media_info(a)\n",
    "a,b = get_media_dimensions(\"end_vol4_reencoded_padded.mov\")\n",
    "print(a,b)\n",
    "a,b = get_media_dimensions(\"end_vol4.mov\")\n",
    "print(a,b)\n",
    "\"\"\"\n",
    "combine_video(video_list, primary_index=1,output_file=\"B0815_final_3min.mov\", crf=30,preset=\"ultrafast\")\n",
    "#reencode_to_match(primary_video, list_to_reencode,purpose=\"combine\",crf=crf, preset=preset)\n",
    "#make_rescaled_image(video_width, video_height, image_name, purpose,output_filename,crf=18,preset=\"fast\"):"
   ]
  },
  {
   "cell_type": "code",
   "execution_count": null,
   "id": "5b8757e4-313e-4d8a-8bb4-85d99b653855",
   "metadata": {
    "scrolled": true
   },
   "outputs": [],
   "source": [
    "#complicated method\n",
    "time1,time2 = \"13:09.8\",\"13:14.9\"\n",
    "duration = parse_time(time2)-parse_time(time1)\n",
    "print(duration)\n",
    "overlay_video_split_and_combine(\n",
    "    main_video=\"B0815_3flower.mov\",\n",
    "    overlay_video=\"video_folder/letter_muted.mp4\",\n",
    "    overlay_start=\"0:02\",         # trim overlay from 0:02-0:02+duration\n",
    "    overlay_duration = duration,        # modify to the end\n",
    "    main_insert_at= time1,    \n",
    "    output_file=\"B0815_4letter.mov\",# insert overlay at 5:00 of main\n",
    "    crf=10,\n",
    "    preset=\"fast\",\n",
    "    keep_intermediates=True\n",
    ")\n",
    "\n"
   ]
  },
  {
   "cell_type": "code",
   "execution_count": null,
   "id": "c1d23a4a-5f2b-4809-a90a-297e589af5ca",
   "metadata": {},
   "outputs": [],
   "source": [
    "make_rescaled_image(width, height, \"班和保人.png\", \"test.png\")"
   ]
  },
  {
   "cell_type": "code",
   "execution_count": null,
   "id": "d90aab02-f7c0-4b34-92eb-f1b76d423475",
   "metadata": {},
   "outputs": [],
   "source": [
    "from video_commands import *\n",
    "main_video = \"test_3min.mov\"\n",
    "output_file = \"overlay_test2.mov\"\n",
    "para_list = [[\"letter.MP4\",\"1:30\",\"1:45\",\"0:00\",\"2\"],[\"war.mov\",\"2:00\",\"2:20\",\"0:02\",\"0\"],[\"taiwan.MP4\",\"2:40\",\"2:50\",\"0:01\",\"5\"],\n",
    "            [\"残留夫人.png\",\"1:50\",\"1:55\",\"0:00\",\"1\"],[\"班和保人.png\",\"2:30\",\"2:35\",\"0:00\",\"2\"]]\n",
    "    \n",
    "overlay_video_and_img(main_video,para_list,output_file,crf=\"30\",preset=\"veryfast\")"
   ]
  },
  {
   "cell_type": "markdown",
   "id": "d5ed9c15-a6d6-4835-aa86-74e74f589061",
   "metadata": {},
   "source": [
    "1.insert multiple images to overlay_video<br>\n",
    "2.overlay a single image, or list image<br>\n",
    "3.overlay_black_still not working in github<br>\n",
    "4. 更改片尾字幕resolution<br>\n",
    "5.overlay_music<br>\n",
    "6. use the following to check real video size to adjust rescaling for vertical videos<br>\n",
    "ffmpeg -i video.mp4 -vf \"cropdetect=24:16:0\" -frames:v 1 -f null -<br>\n",
    "or<br>\n",
    "import cv2<br>\n",
    "import numpy as np<br>\n",
    "<br>\n",
    "cap = cv2.VideoCapture(\"video.mp4\")<br>\n",
    "ret, frame = cap.read()<br>\n",
    "if ret:<br>\n",
    "    gray = cv2.cvtColor(frame, cv2.COLOR_BGR2GRAY)<br>\n",
    "    # Count non-black pixels<br>\n",
    "    non_black = np.sum(gray > 16)<br>\n",
    "    total_pixels = gray.size<br>\n",
    "    # Simple ratio of non-black region<br>\n",
    "    ratio = non_black / total_pixels<br>\n",
    "    print(\"Non-black ratio:\", ratio)<br>\n",
    "cap.release()<br>\n",
    "\n"
   ]
  },
  {
   "cell_type": "markdown",
   "id": "c5eb6657-e176-4e81-8c25-da0393af3ad9",
   "metadata": {},
   "source": [
    "from video_commands import *\n",
    "a,b = get_media_dimensions(\"xingxing.MP4\")\n",
    "c,d = get_media_active_dimensions(file_path)"
   ]
  },
  {
   "cell_type": "markdown",
   "id": "5a65850c-c10c-4daa-914f-68a220f624a0",
   "metadata": {},
   "source": []
  },
  {
   "cell_type": "markdown",
   "id": "65419c4d-a55e-4ade-8c5d-53dbb8650902",
   "metadata": {},
   "source": [
    "<h3> ***continue here , burn in subtitle </h3>"
   ]
  },
  {
   "cell_type": "code",
   "execution_count": null,
   "id": "ad0a827a-0350-439f-a27c-88c8b49a29d2",
   "metadata": {},
   "outputs": [],
   "source": [
    "from video_commands import *\n",
    "video_width, video_height = get_media_dimensions(\"test_3min.mov\")\n",
    "\"\"\"\n",
    "infile=\"黄花菜地.mov\"\n",
    "infile = \"xingxing.mp4\"\n",
    "c,d = get_media_active_dimensions(infile)\n",
    "print(\"main_video dimensions: \",video_width, video_height)\n",
    "print(f\"{infile} active dimensions: \",c,d)\n",
    "a,c = get_media_dimensions(infile)\n",
    "print(f\"{infile} dimensions: \",a,c)\n",
    "#make_rescaled_image(video_width, video_height, infile, \"test_rescaled.MP4\")\n",
    "#make_rescaled_image2(video_width, video_height, infile, \"test_rescaled.MP4\")\n",
    "a,b = reencode_to_match(\"test_1min.mov\", [infile], crf=\"23\", preset=\"fast\")\n",
    "print_media_info(a)\n",
    "\"\"\"\n",
    "make_rescaled_image(video_width, video_height, \"残留夫人.png\", \"combine\", \"残留夫人_rescaled.png\")\n",
    "add_numbered_grid(\n",
    "    \"残留夫人_rescaled.png\",\n",
    "    \"残留夫人_grid.png\",\n",
    "    video_width,\n",
    "    video_height,\n",
    "    interval=50,\n",
    "    line_color=\"red\",\n",
    "    number_color=\"yellow\",\n",
    "    number_size=30,\n",
    "    number_offset=5)"
   ]
  },
  {
   "cell_type": "code",
   "execution_count": null,
   "id": "bfc366d5-d7a9-449e-8fe7-a337c2283175",
   "metadata": {},
   "outputs": [],
   "source": [
    "from video_commands import *\n",
    "main_video = \"test_3min.mov\"\n",
    "output_file = \"overlay_test3.mov\"\n",
    "img_name,x_pos,y_pos,img_duration,zoom_start,zoom_max,out_file = \"班和保人.png\",\"620\",\"200\",\"0:05\",\"0:01\",\"2\",\"班和保人.mov\"\n",
    "img_name2,x_pos2,y_pos2,img_duration2,zoom_start2,zoom_max2,out_file2 = \"残留夫人.png\",\"400\",\"170\",\"0:05\",\"0:01\",\"2\",\"残留夫人.mov\"\n",
    "image_list = [[img_name,x_pos,y_pos,img_duration,zoom_start,zoom_max,out_file],\n",
    "              [img_name2,x_pos2,y_pos2,img_duration2,zoom_start2,zoom_max2,out_file2]]\n",
    "#create_zoom(image_list, main_video, crf=23, preset=\"veryfast\")\n",
    "\n",
    "para_list = [[\"班和保人.mov\",\"0:30\",\"0:35\",\"0:00\",\"0\"],[\"黄花菜地.mov\",\"1:00\",\"1:20\",\"0:00\",\"2\"],[\"letter.MP4\",\"2:00\",\"2:10\",\"0:05\",\"2\"],\n",
    "             [\"班和保人.png\",\"2:30\",\"2:35\",\"0\"],[\"残留夫人.png\",\"2:45\",\"2:50\",\"2\"]]\n",
    "#test with only 1 video, and i image, then change img2 to 1\n",
    "overlay_video_and_img2(main_video,para_list,output_file,crf=\"30\",preset=\"ultrafast\")\n",
    "\n",
    "para_list = [[\"班和保人.mov\",\"0:30\",\"0:35\",\"0:00\",\"0\"],[\"黄花菜地.mov\",\"1:00\",\"1:20\",\"0:00\",\"2\"],[\"letter.MP4\",\"2:00\",\"2:10\",\"0:05\",\"2\"]]\n",
    "#test with only 1 video, and i image, then change img2 to 1\n",
    "overlay_video_and_img2(main_video,para_list,\"test_vidoe_only.mov\",crf=\"30\",preset=\"ultrafast\")\n",
    "\n",
    "para_list = [[\"班和保人.png\",\"2:30\",\"2:35\",\"0\"],[\"残留夫人.png\",\"2:45\",\"2:50\",\"2\"]]\n",
    "#test with only 1 video, and i image, then change img2 to 1\n",
    "overlay_video_and_img2(main_video,para_list,\"test_img_only.mov\",crf=\"30\",preset=\"ultrafast\")\n",
    "\n",
    "para_list = [[\"黄花菜地.mov\",\"1:00\",\"1:20\",\"0:00\",\"2\"],]\n",
    "#test with only 1 video, and i image, then change img2 to 1\n",
    "overlay_video_and_img2(main_video,para_list,\"test_one_video.mov\",crf=\"30\",preset=\"ultrafast\")\n",
    "\n",
    "para_list = [[\"残留夫人.png\",\"2:45\",\"2:50\",\"2\"]]\n",
    "#test with only 1 video, and i image, then change img2 to 1\n",
    "overlay_video_and_img2(main_video,para_list,\"test_one_img.mov\",crf=\"30\",preset=\"ultrafast\")\n",
    "\n",
    "end_time = get_video_length(main_video)\n",
    "end_time = parse_time(end_time)\n",
    "end_start = end_time - 10\n",
    "para_list = [[\"黄花菜地.mov\",end_start,end_time,\"0:5\",\"2\"]]\n",
    "#test with only 1 video, and i image, then change img2 to 1\n",
    "overlay_video_and_img2(main_video,para_list,\"test_end.mov\",crf=\"30\",preset=\"ultrafast\")\n",
    "\n",
    "\n",
    "\n"
   ]
  },
  {
   "cell_type": "markdown",
   "id": "21e44e95-1f02-420e-ae97-3ebcffab8e28",
   "metadata": {},
   "source": [
    "    cmd = [\n",
    "        \"ffmpeg\",\n",
    "        \"-y\",\n",
    "        \"-ss\", start_time,\n",
    "        \"-to\", end_time,\n",
    "        \"-i\", input_file,\n",
    "        \"-c:v\", \"libx264\",\n",
    "        \"-preset\", \"fast\",\n",
    "        \"-crf\", \"18\",\n",
    "        \"-c:a\", \"copy\",\n",
    "        output_file\n",
    "]"
   ]
  },
  {
   "cell_type": "raw",
   "id": "450fbac2-0cb7-42b2-8d8a-669d367a4dc8",
   "metadata": {},
   "source": []
  },
  {
   "cell_type": "code",
   "execution_count": null,
   "id": "565cd009-5947-4775-9495-a304f1d3d023",
   "metadata": {},
   "outputs": [],
   "source": [
    "from video_commands import *\n",
    "main_video = \"test_3min_final.mov\"\n",
    "output_file = \"overlay_test.mov\"\n",
    "para_list = [ [\"黄花菜地.mov\",\"2:30\",\"2:35\",\"0:00\",\"2\"],\n",
    "              [\"letter.MP4\",\"3:00\",\"3:15\",\"0:00\",\"2\"],\n",
    "             [\"班和保人_rescaled.png\",\"2:30\",\"2:35\",\"2\"]]\n",
    "    \n",
    "overlay_video_and_img(main_video,para_list,output_file,crf=\"40\",preset=\"ultrafast\")"
   ]
  },
  {
   "cell_type": "code",
   "execution_count": null,
   "id": "0e28cb4d-568c-45e1-8c29-1fb146a4c29c",
   "metadata": {},
   "outputs": [],
   "source": [
    "from video_commands import *\n",
    "images = [\n",
    "    [\"班和保人.png\",\"620\",\"200\",\"5.0\",\"1.5\",\"2\",\"output1.mov\"],\n",
    "    [\"残留夫人.png\",\"300\",\"100\",\"5.0\",\"1.0\",\"1.5\",\"output2.mov\"]\n",
    "]\n",
    "create_zoom(images, main_video=\"test_3min_final.mov\", crf=20, preset=\"veryfast\")\n",
    "a=[\"output1.mov\",\"output2.mov\"]\n",
    "print_media_info(a)"
   ]
  },
  {
   "cell_type": "code",
   "execution_count": null,
   "id": "c62be221-b6a9-4c72-a009-26de6d8712c7",
   "metadata": {},
   "outputs": [],
   "source": []
  },
  {
   "cell_type": "code",
   "execution_count": null,
   "id": "e3bb4430-e20e-4c45-95fa-0782355538d2",
   "metadata": {},
   "outputs": [],
   "source": [
    "\n"
   ]
  },
  {
   "cell_type": "code",
   "execution_count": null,
   "id": "969b8b90-2a7c-4943-b7a9-414a3e0f8f0f",
   "metadata": {},
   "outputs": [],
   "source": []
  },
  {
   "cell_type": "code",
   "execution_count": null,
   "id": "effbb7b7-9725-4006-9e16-658a830f8b69",
   "metadata": {},
   "outputs": [],
   "source": [
    "add_numbered_grid(\n",
    "    \"班和保人_rescaled.png\",\n",
    "    \"班和保人_grid.png\",\n",
    "    854,\n",
    "    480,\n",
    "    interval=50,\n",
    "    line_color=\"red\",\n",
    "    number_color=\"yellow\",\n",
    "    number_size=30,\n",
    "    number_offset=5)"
   ]
  },
  {
   "cell_type": "markdown",
   "id": "0b33c3a4-9320-4a2c-a8f3-15f8163e80ed",
   "metadata": {
    "jupyter": {
     "source_hidden": true
    }
   },
   "source": [
    "## notes\n",
    "reencode_to_match()<br>\n",
    "reencode videos in aac, but supposed to be in pcm"
   ]
  },
  {
   "cell_type": "code",
   "execution_count": null,
   "id": "9c6a731c-358a-4c4e-b017-4cb1dc6306ba",
   "metadata": {},
   "outputs": [],
   "source": [
    "trim soong from 30 s to 60s\n",
    "ffmpeg -ss 30 -i xxx.wav -t 30 -c copy xxx2.wav\n",
    "\n"
   ]
  },
  {
   "cell_type": "code",
   "execution_count": null,
   "id": "8a6b2365-0928-4b90-8b96-aba07a437c03",
   "metadata": {},
   "outputs": [],
   "source": []
  },
  {
   "cell_type": "code",
   "execution_count": null,
   "id": "afdb2570-f7cf-4791-b73b-236ffaf2b34d",
   "metadata": {},
   "outputs": [],
   "source": []
  },
  {
   "cell_type": "code",
   "execution_count": null,
   "id": "47bdcbf0-06eb-4ea7-b2db-2b1d0137f911",
   "metadata": {},
   "outputs": [],
   "source": []
  },
  {
   "cell_type": "markdown",
   "id": "cb606031-0cec-4ac5-9424-fb3eb93de129",
   "metadata": {},
   "source": [
    "# correct ,copy to markdown<br>\n",
    "ffmpeg -i test_3min_final.mov -i 黄花菜地_final.mov -i letter_final.mov -i 班和保人_rescaled.png \\\n",
    "-filter_complex \"\n",
    "color=black:size=854x480:d=5[black1];\n",
    "color=black:size=854x480:d=15[black2];\n",
    "[1:v]trim=0:5,setpts=PTS-STARTPTS,format=rgba,fade=t=out:st=3:d=2:alpha=1[ov1];\n",
    "[2:v]trim=0:15,setpts=PTS-STARTPTS,format=rgba,fade=t=out:st=13:d=2:alpha=1[ov2];\n",
    "[black1][ov1]overlay=x=(W-overlay_w)/2:y=(H-overlay_h)/2:shortest=1[ov_final1];\n",
    "[black2][ov2]overlay=x=(W-overlay_w)/2:y=(H-overlay_h)/2:shortest=1[ov_final2];\n",
    "[3:v]loop=loop=-1:size=1:start=0,setpts=PTS-STARTPTS,format=rgba,scale=w=min(iw\\,854):h=min(ih\\,480):force_original_aspect_ratio=decrease,pad=854:480:(ow-iw)/2:(oh-ih)/2:color=black,fade=t=in:st=150:d=0:alpha=1,fade=t=out:st=153:d=2:alpha=1[img1];\n",
    "[0:v]trim=0:150,setpts=PTS-STARTPTS[main_pre1];\n",
    "[0:v]trim=150:155,setpts=PTS-STARTPTS[main_mid1];\n",
    "[0:v]trim=155:180,setpts=PTS-STARTPTS[main_pre2];\n",
    "[0:v]trim=180:195,setpts=PTS-STARTPTS[main_mid2];\n",
    "[0:v]trim=195,setpts=PTS-STARTPTS[main_post];\n",
    "[main_mid1][ov_final1]overlay[main_ov1];\n",
    "[main_mid2][ov_final2]overlay[main_ov2];\n",
    "[main_pre1][main_ov1][main_pre2][main_ov2][main_post]concat=n=5:v=1:a=0[vout];\n",
    "[vout][img1]overlay=enable='between(t,150,155)':shortest=1[vout_final]\n",
    "\" -map \"[vout_final]\" -map 0:a -c:v libx264 -pix_fmt yuv420p -preset ultrafast -crf 40 -c:a aac -b:a 192k -movflags +faststart -y overlay_test.mov"
   ]
  },
  {
   "cell_type": "code",
   "execution_count": null,
   "id": "a6ec6bb9-4b33-41ea-9e9b-8d9dc1b89dd4",
   "metadata": {},
   "outputs": [],
   "source": []
  },
  {
   "cell_type": "code",
   "execution_count": null,
   "id": "e4731ce5-2e33-4165-bc09-ab9dc68d10f8",
   "metadata": {},
   "outputs": [],
   "source": []
  },
  {
   "cell_type": "code",
   "execution_count": null,
   "id": "4f36cf7c-49d1-4530-b5f8-c2aa393e4231",
   "metadata": {},
   "outputs": [],
   "source": []
  },
  {
   "cell_type": "code",
   "execution_count": null,
   "id": "1663cca4-ac43-4ecd-a4c5-84c1ce9a2a55",
   "metadata": {},
   "outputs": [],
   "source": [
    "music/end_vol30.mov\",\"1:30\",\"2:00\",\"0:00\",\"2\"  #start time, end time, fade in, fade out , volume factor"
   ]
  },
  {
   "cell_type": "code",
   "execution_count": null,
   "id": "494b9a52-14a1-4186-a9bc-639614cce8b3",
   "metadata": {},
   "outputs": [],
   "source": [
    "from video_commands import *\n",
    "main_video = \"test_3min.mov\"\n",
    "output_file = \"overlay_com.mov\"\n",
    "para_list = [[\"黄花菜地.mov\",\"0:30\",\"0:50\",\"0:02\",\"2\"],[\"war.mov\",\"1:00\",\"1:30\",\"0:02\",\"2\"],[\"letter.MP4\",\"1:40\",\"1:55\",\"0:02\",\"2\"],\n",
    "             [\"残留夫人.png\",\"1:30\",\"1:35\",\"2\"],[\"班和保人.png\",\"1:40\",\"1:45\",\"2\"],[\"曾大爷.png\",\"2:00\",\"2:10\",\"2\"],\n",
    "             [\"music/end_song30.wav\",\"1:00\",\"2:00\",\"2\",\"2\",\"0.2\"], [\"music/end_song.mp3\",\"2:30\",\"3:00\",\"2\",\"2\",\"0.2\"]]\n",
    "#[\"黄花菜地.mov\",\"0:30\",\"0:50\",\"0:02\",\"2\"],    \"0:02 \"黄花菜地.mov start time\n",
    "overlay_video_img_music(main_video,para_list,output_file,crf=\"30\",preset=\"ultrafast\")\n",
    "#\"music/end_song.mp3\",\"1:00\",\"2:00\",\"2\",\"2\",\"0.2 2=fadein and fadeout , 0.2 = volume factor"
   ]
  },
  {
   "cell_type": "code",
   "execution_count": 1,
   "id": "a5dc27f5-4661-4286-8d90-a277deeae48c",
   "metadata": {},
   "outputs": [
    {
     "name": "stdout",
     "output_type": "stream",
     "text": [
      "temp_dir: /var/folders/9g/509r85b95jz43885pc6n7zlr0000gn/T/tmpeqsn63hx\n"
     ]
    },
    {
     "name": "stderr",
     "output_type": "stream",
     "text": [
      "ffmpeg version 8.0 Copyright (c) 2000-2025 the FFmpeg developers\n",
      "  built with Apple clang version 15.0.0 (clang-1500.1.0.2.5)\n",
      "  configuration: --prefix=/usr/local/Cellar/ffmpeg/8.0 --enable-shared --enable-pthreads --enable-version3 --cc=clang --host-cflags= --host-ldflags='-Wl,-ld_classic' --enable-ffplay --enable-gnutls --enable-gpl --enable-libaom --enable-libaribb24 --enable-libbluray --enable-libdav1d --enable-libharfbuzz --enable-libjxl --enable-libmp3lame --enable-libopus --enable-librav1e --enable-librist --enable-librubberband --enable-libsnappy --enable-libsrt --enable-libssh --enable-libsvtav1 --enable-libtesseract --enable-libtheora --enable-libvidstab --enable-libvmaf --enable-libvorbis --enable-libvpx --enable-libwebp --enable-libx264 --enable-libx265 --enable-libxml2 --enable-libxvid --enable-lzma --enable-libfontconfig --enable-libfreetype --enable-frei0r --enable-libass --enable-libopencore-amrnb --enable-libopencore-amrwb --enable-libopenjpeg --enable-libspeex --enable-libsoxr --enable-libzmq --enable-libzimg --disable-libjack --disable-indev=jack --enable-videotoolbox --enable-audiotoolbox\n",
      "  libavutil      60.  8.100 / 60.  8.100\n",
      "  libavcodec     62. 11.100 / 62. 11.100\n",
      "  libavformat    62.  3.100 / 62.  3.100\n",
      "  libavdevice    62.  1.100 / 62.  1.100\n",
      "  libavfilter    11.  4.100 / 11.  4.100\n",
      "  libswscale      9.  1.100 /  9.  1.100\n",
      "  libswresample   6.  1.100 /  6.  1.100\n",
      "[mp3 @ 0x7ff6ef8048c0] Estimating duration from bitrate, this may be inaccurate\n",
      "Input #0, mp3, from 'music/end_song.mp3':\n",
      "  Metadata:\n",
      "    date            : 2014-04-15 19:59\n",
      "    id3v2_priv.XMP  : <?xpacket begin=\"\\xef\\xbb\\xbf\" id=\"W5M0MpCehiHzreSzNTczkc9d\"?>\\x0a<x:xmpmeta xmlns:x=\"adobe:ns:meta/\" x:xmptk=\"Adobe XMP Core 5.5-c021 79.155241, 2013/11/25-21:10:40        \">\\x0a <rdf:RDF xmlns:rdf=\"http://www.w3.org/1999/02/22-rdf-syntax-ns#\">\\x0a  <rdf\n",
      "  Duration: 00:02:27.29, start: 0.000000, bitrate: 320 kb/s\n",
      "  Stream #0:0: Audio: mp3 (mp3float), 44100 Hz, stereo, fltp, 320 kb/s\n",
      "Stream mapping:\n",
      "  Stream #0:0 -> #0:0 (mp3 (mp3float) -> pcm_s16le (native))\n",
      "Press [q] to stop, [?] for help\n",
      "Output #0, wav, to 'music/end_song.wav':\n",
      "  Metadata:\n",
      "    ICRD            : 2014-04-15 19:59\n",
      "    id3v2_priv.XMP  : <?xpacket begin=\"\\xef\\xbb\\xbf\" id=\"W5M0MpCehiHzreSzNTczkc9d\"?>\\x0a<x:xmpmeta xmlns:x=\"adobe:ns:meta/\" x:xmptk=\"Adobe XMP Core 5.5-c021 79.155241, 2013/11/25-21:10:40        \">\\x0a <rdf:RDF xmlns:rdf=\"http://www.w3.org/1999/02/22-rdf-syntax-ns#\">\\x0a  <rdf\n",
      "    ISFT            : Lavf62.3.100\n",
      "  Stream #0:0: Audio: pcm_s16le ([1][0][0][0] / 0x0001), 44100 Hz, stereo, s16, 1411 kb/s\n",
      "    Metadata:\n",
      "      encoder         : Lavc62.11.100 pcm_s16le\n",
      "[out#0/wav @ 0x7ff6eef04340] video:0KiB audio:25394KiB subtitle:0KiB other streams:0KiB global headers:0KiB muxing overhead: 0.000400%\n",
      "size=   25394KiB time=00:02:27.40 bitrate=1411.2kbits/s speed= 133x elapsed=0:00:01.10    \n"
     ]
    },
    {
     "name": "stdout",
     "output_type": "stream",
     "text": [
      "Converted: music/end_song.mp3 -> music/end_song.wav\n",
      "⚡ Re-encoding audio to PCM: test_3min.mov → test_3min_tmp.mov\n"
     ]
    },
    {
     "name": "stderr",
     "output_type": "stream",
     "text": [
      "ffmpeg version 8.0 Copyright (c) 2000-2025 the FFmpeg developers\n",
      "  built with Apple clang version 15.0.0 (clang-1500.1.0.2.5)\n",
      "  configuration: --prefix=/usr/local/Cellar/ffmpeg/8.0 --enable-shared --enable-pthreads --enable-version3 --cc=clang --host-cflags= --host-ldflags='-Wl,-ld_classic' --enable-ffplay --enable-gnutls --enable-gpl --enable-libaom --enable-libaribb24 --enable-libbluray --enable-libdav1d --enable-libharfbuzz --enable-libjxl --enable-libmp3lame --enable-libopus --enable-librav1e --enable-librist --enable-librubberband --enable-libsnappy --enable-libsrt --enable-libssh --enable-libsvtav1 --enable-libtesseract --enable-libtheora --enable-libvidstab --enable-libvmaf --enable-libvorbis --enable-libvpx --enable-libwebp --enable-libx264 --enable-libx265 --enable-libxml2 --enable-libxvid --enable-lzma --enable-libfontconfig --enable-libfreetype --enable-frei0r --enable-libass --enable-libopencore-amrnb --enable-libopencore-amrwb --enable-libopenjpeg --enable-libspeex --enable-libsoxr --enable-libzmq --enable-libzimg --disable-libjack --disable-indev=jack --enable-videotoolbox --enable-audiotoolbox\n",
      "  libavutil      60.  8.100 / 60.  8.100\n",
      "  libavcodec     62. 11.100 / 62. 11.100\n",
      "  libavformat    62.  3.100 / 62.  3.100\n",
      "  libavdevice    62.  1.100 / 62.  1.100\n",
      "  libavfilter    11.  4.100 / 11.  4.100\n",
      "  libswscale      9.  1.100 /  9.  1.100\n",
      "  libswresample   6.  1.100 /  6.  1.100\n",
      "Input #0, mov,mp4,m4a,3gp,3g2,mj2, from 'test_3min.mov':\n",
      "  Metadata:\n",
      "    major_brand     : qt  \n",
      "    minor_version   : 512\n",
      "    compatible_brands: qt  \n",
      "    encoder         : Lavf62.3.100\n",
      "  Duration: 00:03:00.01, start: 0.000000, bitrate: 1021 kb/s\n",
      "  Stream #0:0[0x1]: Video: h264 (High) (avc1 / 0x31637661), yuv420p(tv, bt709, progressive), 854x480 [SAR 1:1 DAR 427:240], 887 kb/s, 25 fps, 25 tbr, 12800 tbn (default)\n",
      "    Metadata:\n",
      "      handler_name    : VideoHandler\n",
      "      vendor_id       : FFMP\n",
      "      encoder         : Lavc62.11.100 libx264\n",
      "  Stream #0:1[0x2]: Audio: aac (LC) (mp4a / 0x6134706D), 44100 Hz, stereo, fltp, 125 kb/s (default)\n",
      "    Metadata:\n",
      "      handler_name    : Core Media Audio\n",
      "      vendor_id       : [0][0][0][0]\n",
      "Stream mapping:\n",
      "  Stream #0:0 -> #0:0 (h264 (native) -> h264 (libx264))\n",
      "  Stream #0:1 -> #0:1 (aac (native) -> pcm_s16le (native))\n",
      "Press [q] to stop, [?] for help\n",
      "[libx264 @ 0x7f7fce906640] using SAR=1/1\n",
      "[libx264 @ 0x7f7fce906640] using cpu capabilities: MMX2 SSE2Fast SSSE3 SSE4.2 AVX FMA3 BMI2 AVX2\n",
      "[libx264 @ 0x7f7fce906640] profile Constrained Baseline, level 3.0, 4:2:0, 8-bit\n",
      "[libx264 @ 0x7f7fce906640] 264 - core 164 r3108 31e19f9 - H.264/MPEG-4 AVC codec - Copyleft 2003-2023 - http://www.videolan.org/x264.html - options: cabac=0 ref=1 deblock=0:0:0 analyse=0:0 me=dia subme=0 psy=1 psy_rd=1.00:0.00 mixed_ref=0 me_range=16 chroma_me=1 trellis=0 8x8dct=0 cqm=0 deadzone=21,11 fast_pskip=1 chroma_qp_offset=0 threads=6 lookahead_threads=1 sliced_threads=0 nr=0 decimate=1 interlaced=0 bluray_compat=0 constrained_intra=0 bframes=0 weightp=0 keyint=250 keyint_min=25 scenecut=0 intra_refresh=0 rc=crf mbtree=0 crf=30.0 qcomp=0.60 qpmin=0 qpmax=69 qpstep=4 ip_ratio=1.40 aq=0\n",
      "Output #0, mov, to 'test_3min_tmp.mov':\n",
      "  Metadata:\n",
      "    major_brand     : qt  \n",
      "    minor_version   : 512\n",
      "    compatible_brands: qt  \n",
      "    encoder         : Lavf62.3.100\n",
      "  Stream #0:0: Video: h264 (avc1 / 0x31637661), yuv420p(tv, bt709, progressive), 854x480 [SAR 1:1 DAR 427:240], q=2-31, 25 fps, 12800 tbn (default)\n",
      "    Metadata:\n",
      "      encoder         : Lavc62.11.100 libx264\n",
      "      handler_name    : VideoHandler\n",
      "      vendor_id       : FFMP\n",
      "    Side data:\n",
      "      cpb: bitrate max/min/avg: 0/0/0 buffer size: 0 vbv_delay: N/A\n",
      "  Stream #0:1: Audio: pcm_s16le (sowt / 0x74776F73), 44100 Hz, stereo, s16, 1411 kb/s (default)\n",
      "    Metadata:\n",
      "      encoder         : Lavc62.11.100 pcm_s16le\n",
      "      handler_name    : Core Media Audio\n",
      "      vendor_id       : [0][0][0][0]\n",
      "[out#0/mov @ 0x7f7fce904800] video:6404KiB audio:31009KiB subtitle:0KiB other streams:0KiB global headers:0KiB muxing overhead: 0.222782%\n",
      "frame= 4500 fps=254 q=-1.0 Lsize=   37496KiB time=00:03:00.00 bitrate=1706.5kbits/s speed=10.2x elapsed=0:00:17.69    \n",
      "[libx264 @ 0x7f7fce906640] frame I:18    Avg QP:22.33  size: 22415\n",
      "[libx264 @ 0x7f7fce906640] frame P:4482  Avg QP:24.96  size:  1373\n",
      "[libx264 @ 0x7f7fce906640] mb I  I16..4: 100.0%  0.0%  0.0%\n",
      "[libx264 @ 0x7f7fce906640] mb P  I16..4:  2.8%  0.0%  0.0%  P16..4: 16.5%  0.0%  0.0%  0.0%  0.0%    skip:80.7%\n",
      "[libx264 @ 0x7f7fce906640] coded y,uvDC,uvAC intra: 13.3% 33.1% 3.0% inter: 3.9% 4.9% 0.1%\n",
      "[libx264 @ 0x7f7fce906640] i16 v,h,dc,p: 58% 17% 12% 13%\n",
      "[libx264 @ 0x7f7fce906640] i8c dc,h,v,p: 50% 20% 23%  7%\n",
      "[libx264 @ 0x7f7fce906640] kb/s:291.41\n"
     ]
    },
    {
     "name": "stdout",
     "output_type": "stream",
     "text": [
      "new width height: 854 480\n",
      "FFmpeg command: ffmpeg -y -i test_3min_tmp.mov -vf scale=854:480,pad=854:480:0:0:black -c:v libx264 -preset ultrafast -crf 30 -c:a copy test_3min_reencoded.mov\n",
      "ffmpeg version 8.0 Copyright (c) 2000-2025 the FFmpeg developers\n",
      "  built with Apple clang version 15.0.0 (clang-1500.1.0.2.5)\n",
      "  configuration: --prefix=/usr/local/Cellar/ffmpeg/8.0 --enable-shared --enable-pthreads --enable-version3 --cc=clang --host-cflags= --host-ldflags='-Wl,-ld_classic' --enable-ffplay --enable-gnutls --enable-gpl --enable-libaom --enable-libaribb24 --enable-libbluray --enable-libdav1d --enable-libharfbuzz --enable-libjxl --enable-libmp3lame --enable-libopus --enable-librav1e --enable-librist --enable-librubberband --enable-libsnappy --enable-libsrt --enable-libssh --enable-libsvtav1 --enable-libtesseract --enable-libtheora --enable-libvidstab --enable-libvmaf --enable-libvorbis --enable-libvpx --enable-libwebp --enable-libx264 --enable-libx265 --enable-libxml2 --enable-libxvid --enable-lzma --enable-libfontconfig --enable-libfreetype --enable-frei0r --enable-libass --enable-libopencore-amrnb --enable-libopencore-amrwb --enable-libopenjpeg --enable-libspeex --enable-libsoxr --enable-libzmq --enable-libzimg --disable-libjack --disable-indev=jack --enable-videotoolbox --enable-audiotoolbox\n",
      "  libavutil      60.  8.100 / 60.  8.100\n",
      "  libavcodec     62. 11.100 / 62. 11.100\n",
      "  libavformat    62.  3.100 / 62.  3.100\n",
      "  libavdevice    62.  1.100 / 62.  1.100\n",
      "  libavfilter    11.  4.100 / 11.  4.100\n",
      "  libswscale      9.  1.100 /  9.  1.100\n",
      "  libswresample   6.  1.100 /  6.  1.100\n",
      "Input #0, mov,mp4,m4a,3gp,3g2,mj2, from 'test_3min_tmp.mov':\n",
      "  Metadata:\n",
      "    major_brand     : qt  \n",
      "    minor_version   : 512\n",
      "    compatible_brands: qt  \n",
      "    encoder         : Lavf62.3.100\n",
      "  Duration: 00:03:00.01, start: 0.000000, bitrate: 1706 kb/s\n",
      "  Stream #0:0[0x1]: Video: h264 (Constrained Baseline) (avc1 / 0x31637661), yuv420p(tv, bt709, progressive), 854x480 [SAR 1:1 DAR 427:240], 291 kb/s, 25 fps, 25 tbr, 12800 tbn (default)\n",
      "    Metadata:\n",
      "      handler_name    : VideoHandler\n",
      "      vendor_id       : FFMP\n",
      "      encoder         : Lavc62.11.100 libx264\n",
      "  Stream #0:1[0x2]: Audio: pcm_s16le (sowt / 0x74776F73), 44100 Hz, stereo, s16, 1411 kb/s (default)\n",
      "    Metadata:\n",
      "      handler_name    : Core Media Audio\n",
      "      vendor_id       : [0][0][0][0]\n",
      "Stream mapping:\n",
      "  Stream #0:0 -> #0:0 (h264 (native) -> h264 (libx264))\n",
      "  Stream #0:1 -> #0:1 (copy)\n",
      "Press [q] to stop, [?] for help\n",
      "[libx264 @ 0x7fbdb8710b00] using SAR=1/1\n",
      "[libx264 @ 0x7fbdb8710b00] using cpu capabilities: MMX2 SSE2Fast SSSE3 SSE4.2 AVX FMA3 BMI2 AVX2\n",
      "[libx264 @ 0x7fbdb8710b00] profile Constrained Baseline, level 3.0, 4:2:0, 8-bit\n",
      "[libx264 @ 0x7fbdb8710b00] 264 - core 164 r3108 31e19f9 - H.264/MPEG-4 AVC codec - Copyleft 2003-2023 - http://www.videolan.org/x264.html - options: cabac=0 ref=1 deblock=0:0:0 analyse=0:0 me=dia subme=0 psy=1 psy_rd=1.00:0.00 mixed_ref=0 me_range=16 chroma_me=1 trellis=0 8x8dct=0 cqm=0 deadzone=21,11 fast_pskip=1 chroma_qp_offset=0 threads=6 lookahead_threads=1 sliced_threads=0 nr=0 decimate=1 interlaced=0 bluray_compat=0 constrained_intra=0 bframes=0 weightp=0 keyint=250 keyint_min=25 scenecut=0 intra_refresh=0 rc=crf mbtree=0 crf=30.0 qcomp=0.60 qpmin=0 qpmax=69 qpstep=4 ip_ratio=1.40 aq=0\n",
      "Output #0, mov, to 'test_3min_reencoded.mov':\n",
      "  Metadata:\n",
      "    major_brand     : qt  \n",
      "    minor_version   : 512\n",
      "    compatible_brands: qt  \n",
      "    encoder         : Lavf62.3.100\n",
      "  Stream #0:0: Video: h264 (avc1 / 0x31637661), yuv420p(tv, bt709, progressive), 854x480 [SAR 1:1 DAR 427:240], q=2-31, 25 fps, 12800 tbn (default)\n",
      "    Metadata:\n",
      "      encoder         : Lavc62.11.100 libx264\n",
      "      handler_name    : VideoHandler\n",
      "      vendor_id       : FFMP\n",
      "    Side data:\n",
      "      cpb: bitrate max/min/avg: 0/0/0 buffer size: 0 vbv_delay: N/A\n",
      "  Stream #0:1: Audio: pcm_s16le (sowt / 0x74776F73), 44100 Hz, stereo, s16, 1411 kb/s (default)\n",
      "    Metadata:\n",
      "      handler_name    : Core Media Audio\n",
      "      vendor_id       : [0][0][0][0]\n",
      "frame=  168 fps=0.0 q=25.0 size=    1280KiB time=00:00:06.72 bitrate=1560.4kbits/s speed=13.3x elapsed=0:00:00.50    \n",
      "frame=  361 fps=359 q=24.0 size=    2816KiB time=00:00:14.44 bitrate=1597.6kbits/s speed=14.4x elapsed=0:00:01.00    \n",
      "frame=  516 fps=342 q=23.0 size=    4096KiB time=00:00:20.64 bitrate=1625.7kbits/s speed=13.7x elapsed=0:00:01.51    \n",
      "frame=  703 fps=350 q=23.0 size=    5632KiB time=00:00:28.12 bitrate=1640.7kbits/s speed=  14x elapsed=0:00:02.01    \n",
      "frame=  927 fps=369 q=24.0 size=    7424KiB time=00:00:37.12 bitrate=1638.4kbits/s speed=14.8x elapsed=0:00:02.51    \n",
      "frame= 1100 fps=365 q=24.0 size=    8960KiB time=00:00:44.00 bitrate=1668.2kbits/s speed=14.6x elapsed=0:00:03.01    \n",
      "frame= 1291 fps=367 q=26.0 size=   10752KiB time=00:00:51.64 bitrate=1705.7kbits/s speed=14.7x elapsed=0:00:03.51    \n",
      "frame= 1481 fps=368 q=24.0 size=   12288KiB time=00:00:59.24 bitrate=1699.3kbits/s speed=14.7x elapsed=0:00:04.02    \n",
      "frame= 1699 fps=375 q=24.0 size=   14080KiB time=00:01:07.96 bitrate=1697.2kbits/s speed=  15x elapsed=0:00:04.52    \n",
      "frame= 1911 fps=380 q=19.0 size=   15872KiB time=00:01:16.44 bitrate=1701.0kbits/s speed=15.2x elapsed=0:00:05.03    \n",
      "frame= 2118 fps=383 q=25.0 size=   17664KiB time=00:01:24.72 bitrate=1708.0kbits/s speed=15.3x elapsed=0:00:05.53    \n",
      "frame= 2325 fps=385 q=23.0 size=   19456KiB time=00:01:33.00 bitrate=1713.8kbits/s speed=15.4x elapsed=0:00:06.03    \n",
      "frame= 2513 fps=384 q=25.0 size=   20992KiB time=00:01:40.52 bitrate=1710.8kbits/s speed=15.4x elapsed=0:00:06.53    \n",
      "frame= 2694 fps=382 q=24.0 size=   22528KiB time=00:01:47.76 bitrate=1712.6kbits/s speed=15.3x elapsed=0:00:07.04    \n",
      "frame= 2854 fps=378 q=24.0 size=   23808KiB time=00:01:54.16 bitrate=1708.4kbits/s speed=15.1x elapsed=0:00:07.54    \n",
      "frame= 2969 fps=369 q=23.0 size=   24832KiB time=00:01:58.76 bitrate=1712.9kbits/s speed=14.8x elapsed=0:00:08.04    \n",
      "frame= 3149 fps=368 q=20.0 size=   26112KiB time=00:02:05.96 bitrate=1698.2kbits/s speed=14.7x elapsed=0:00:08.55    \n",
      "frame= 3349 fps=370 q=23.0 size=   27904KiB time=00:02:13.96 bitrate=1706.4kbits/s speed=14.8x elapsed=0:00:09.05    \n",
      "frame= 3566 fps=373 q=23.0 size=   29696KiB time=00:02:22.64 bitrate=1705.5kbits/s speed=14.9x elapsed=0:00:09.55    \n",
      "frame= 3809 fps=379 q=22.0 size=   31744KiB time=00:02:32.36 bitrate=1706.8kbits/s speed=15.1x elapsed=0:00:10.05    \n",
      "frame= 4002 fps=379 q=24.0 size=   33280KiB time=00:02:40.08 bitrate=1703.1kbits/s speed=15.2x elapsed=0:00:10.56    \n",
      "frame= 4204 fps=380 q=24.0 size=   34816KiB time=00:02:48.20 bitrate=1695.7kbits/s speed=15.2x elapsed=0:00:11.06    \n",
      "frame= 4384 fps=379 q=24.0 size=   36352KiB time=00:02:55.36 bitrate=1698.2kbits/s speed=15.2x elapsed=0:00:11.56    \n",
      "[out#0/mov @ 0x7fbdb8705f80] video:6538KiB audio:31009KiB subtitle:0KiB other streams:0KiB global headers:0KiB muxing overhead: 0.221983%\n",
      "frame= 4500 fps=381 q=-1.0 Lsize=   37631KiB time=00:03:00.00 bitrate=1712.6kbits/s speed=15.2x elapsed=0:00:11.82    \n",
      "[libx264 @ 0x7fbdb8710b00] frame I:18    Avg QP:20.78  size: 22775\n",
      "[libx264 @ 0x7fbdb8710b00] frame P:4482  Avg QP:23.20  size:  1402\n",
      "[libx264 @ 0x7fbdb8710b00] mb I  I16..4: 100.0%  0.0%  0.0%\n",
      "[libx264 @ 0x7fbdb8710b00] mb P  I16..4:  2.3%  0.0%  0.0%  P16..4: 16.5%  0.0%  0.0%  0.0%  0.0%    skip:81.1%\n",
      "[libx264 @ 0x7fbdb8710b00] coded y,uvDC,uvAC intra: 15.1% 39.3% 3.4% inter: 3.7% 5.1% 0.1%\n",
      "[libx264 @ 0x7fbdb8710b00] i16 v,h,dc,p: 58% 18% 13% 12%\n",
      "[libx264 @ 0x7fbdb8710b00] i8c dc,h,v,p: 48% 21% 24%  8%\n",
      "[libx264 @ 0x7fbdb8710b00] kb/s:297.54\n",
      "Successfully created test_3min_reencoded.mov\n",
      "⚡ Padding audio to match video: test_3min_reencoded.mov → test_3min_reencoded_padded.mov\n"
     ]
    },
    {
     "name": "stderr",
     "output_type": "stream",
     "text": [
      "ffmpeg version 8.0 Copyright (c) 2000-2025 the FFmpeg developers\n",
      "  built with Apple clang version 15.0.0 (clang-1500.1.0.2.5)\n",
      "  configuration: --prefix=/usr/local/Cellar/ffmpeg/8.0 --enable-shared --enable-pthreads --enable-version3 --cc=clang --host-cflags= --host-ldflags='-Wl,-ld_classic' --enable-ffplay --enable-gnutls --enable-gpl --enable-libaom --enable-libaribb24 --enable-libbluray --enable-libdav1d --enable-libharfbuzz --enable-libjxl --enable-libmp3lame --enable-libopus --enable-librav1e --enable-librist --enable-librubberband --enable-libsnappy --enable-libsrt --enable-libssh --enable-libsvtav1 --enable-libtesseract --enable-libtheora --enable-libvidstab --enable-libvmaf --enable-libvorbis --enable-libvpx --enable-libwebp --enable-libx264 --enable-libx265 --enable-libxml2 --enable-libxvid --enable-lzma --enable-libfontconfig --enable-libfreetype --enable-frei0r --enable-libass --enable-libopencore-amrnb --enable-libopencore-amrwb --enable-libopenjpeg --enable-libspeex --enable-libsoxr --enable-libzmq --enable-libzimg --disable-libjack --disable-indev=jack --enable-videotoolbox --enable-audiotoolbox\n",
      "  libavutil      60.  8.100 / 60.  8.100\n",
      "  libavcodec     62. 11.100 / 62. 11.100\n",
      "  libavformat    62.  3.100 / 62.  3.100\n",
      "  libavdevice    62.  1.100 / 62.  1.100\n",
      "  libavfilter    11.  4.100 / 11.  4.100\n",
      "  libswscale      9.  1.100 /  9.  1.100\n",
      "  libswresample   6.  1.100 /  6.  1.100\n",
      "Input #0, mov,mp4,m4a,3gp,3g2,mj2, from 'test_3min_reencoded.mov':\n",
      "  Metadata:\n",
      "    major_brand     : qt  \n",
      "    minor_version   : 512\n",
      "    compatible_brands: qt  \n",
      "    encoder         : Lavf62.3.100\n",
      "  Duration: 00:03:00.01, start: 0.000000, bitrate: 1712 kb/s\n",
      "  Stream #0:0[0x1]: Video: h264 (Constrained Baseline) (avc1 / 0x31637661), yuv420p(tv, bt709, progressive), 854x480 [SAR 1:1 DAR 427:240], 297 kb/s, 25 fps, 25 tbr, 12800 tbn (default)\n",
      "    Metadata:\n",
      "      handler_name    : VideoHandler\n",
      "      vendor_id       : FFMP\n",
      "      encoder         : Lavc62.11.100 libx264\n",
      "  Stream #0:1[0x2]: Audio: pcm_s16le (sowt / 0x74776F73), 44100 Hz, stereo, s16, 1411 kb/s (default)\n",
      "    Metadata:\n",
      "      handler_name    : Core Media Audio\n",
      "      vendor_id       : [0][0][0][0]\n",
      "Stream mapping:\n",
      "  Stream #0:0 -> #0:0 (copy)\n",
      "  Stream #0:1 -> #0:1 (pcm_s16le (native) -> aac (native))\n",
      "Press [q] to stop, [?] for help\n",
      "Output #0, mov, to 'test_3min_reencoded_padded.mov':\n",
      "  Metadata:\n",
      "    major_brand     : qt  \n",
      "    minor_version   : 512\n",
      "    compatible_brands: qt  \n",
      "    encoder         : Lavf62.3.100\n",
      "  Stream #0:0: Video: h264 (Constrained Baseline) (avc1 / 0x31637661), yuv420p(tv, bt709, progressive), 854x480 [SAR 1:1 DAR 427:240], q=2-31, 297 kb/s, 25 fps, 25 tbr, 12800 tbn (default)\n",
      "    Metadata:\n",
      "      handler_name    : VideoHandler\n",
      "      vendor_id       : FFMP\n",
      "      encoder         : Lavc62.11.100 libx264\n",
      "  Stream #0:1: Audio: aac (LC) (mp4a / 0x6134706D), 44100 Hz, stereo, fltp, 128 kb/s (default)\n",
      "    Metadata:\n",
      "      encoder         : Lavc62.11.100 aac\n",
      "      handler_name    : Core Media Audio\n",
      "      vendor_id       : [0][0][0][0]\n",
      "[out#0/mov @ 0x7f7838a0ed80] video:6538KiB audio:2786KiB subtitle:0KiB other streams:0KiB global headers:0KiB muxing overhead: 1.220392%\n",
      "frame= 4500 fps=294 q=-1.0 Lsize=    9438KiB time=00:03:00.00 bitrate= 429.5kbits/s speed=11.8x elapsed=0:00:15.28    \n",
      "[aac @ 0x7f7838a104c0] Qavg: 2198.720\n"
     ]
    },
    {
     "name": "stdout",
     "output_type": "stream",
     "text": [
      "✅ Final re-encoded + padded file: test_3min_reencoded_padded.mov\n",
      "Generated ffmpeg command:\n",
      " ffmpeg -i /var/folders/9g/509r85b95jz43885pc6n7zlr0000gn/T/tmpeqsn63hx/test_3min_reencoded_padded.mov \\\n",
      "-stream_loop -1 -i /var/folders/9g/509r85b95jz43885pc6n7zlr0000gn/T/tmpeqsn63hx/music_0.wav \\\n",
      "-filter_complex \"\n",
      "[0:v]trim=0,setpts=PTS-STARTPTS[main_post];\n",
      " [main_post]concat=n=1:v=1:a=0[vout];\n",
      " [1:a]atrim=0:30.0,asetpts=PTS-STARTPTS,volume=0.2,afade=t=in:st=0:d=2.0,afade=t=out:st=28.0:d=2.0,adelay=150000|150000[a1];\n",
      " [0:a][a1]amix=inputs=2:normalize=0[aout]\n",
      "\" -map \"[vout]\" -map \"[aout]\" -c:v libx264 -pix_fmt yuv420p -preset ultrafast -crf 30 -c:a aac -b:a 192k -movflags +faststart -y overlay_1_music.mov\n"
     ]
    },
    {
     "name": "stderr",
     "output_type": "stream",
     "text": [
      "ffmpeg version 8.0 Copyright (c) 2000-2025 the FFmpeg developers\n",
      "  built with Apple clang version 15.0.0 (clang-1500.1.0.2.5)\n",
      "  configuration: --prefix=/usr/local/Cellar/ffmpeg/8.0 --enable-shared --enable-pthreads --enable-version3 --cc=clang --host-cflags= --host-ldflags='-Wl,-ld_classic' --enable-ffplay --enable-gnutls --enable-gpl --enable-libaom --enable-libaribb24 --enable-libbluray --enable-libdav1d --enable-libharfbuzz --enable-libjxl --enable-libmp3lame --enable-libopus --enable-librav1e --enable-librist --enable-librubberband --enable-libsnappy --enable-libsrt --enable-libssh --enable-libsvtav1 --enable-libtesseract --enable-libtheora --enable-libvidstab --enable-libvmaf --enable-libvorbis --enable-libvpx --enable-libwebp --enable-libx264 --enable-libx265 --enable-libxml2 --enable-libxvid --enable-lzma --enable-libfontconfig --enable-libfreetype --enable-frei0r --enable-libass --enable-libopencore-amrnb --enable-libopencore-amrwb --enable-libopenjpeg --enable-libspeex --enable-libsoxr --enable-libzmq --enable-libzimg --disable-libjack --disable-indev=jack --enable-videotoolbox --enable-audiotoolbox\n",
      "  libavutil      60.  8.100 / 60.  8.100\n",
      "  libavcodec     62. 11.100 / 62. 11.100\n",
      "  libavformat    62.  3.100 / 62.  3.100\n",
      "  libavdevice    62.  1.100 / 62.  1.100\n",
      "  libavfilter    11.  4.100 / 11.  4.100\n",
      "  libswscale      9.  1.100 /  9.  1.100\n",
      "  libswresample   6.  1.100 /  6.  1.100\n",
      "Input #0, mov,mp4,m4a,3gp,3g2,mj2, from '/var/folders/9g/509r85b95jz43885pc6n7zlr0000gn/T/tmpeqsn63hx/test_3min_reencoded_padded.mov':\n",
      "  Metadata:\n",
      "    major_brand     : qt  \n",
      "    minor_version   : 512\n",
      "    compatible_brands: qt  \n",
      "    encoder         : Lavf62.3.100\n",
      "  Duration: 00:03:00.00, start: 0.000000, bitrate: 429 kb/s\n",
      "  Stream #0:0[0x1]: Video: h264 (Constrained Baseline) (avc1 / 0x31637661), yuv420p(tv, bt709, progressive), 854x480 [SAR 1:1 DAR 427:240], 297 kb/s, 25 fps, 25 tbr, 12800 tbn (default)\n",
      "    Metadata:\n",
      "      handler_name    : VideoHandler\n",
      "      vendor_id       : FFMP\n",
      "      encoder         : Lavc62.11.100 libx264\n",
      "  Stream #0:1[0x2]: Audio: aac (LC) (mp4a / 0x6134706D), 44100 Hz, stereo, fltp, 126 kb/s (default)\n",
      "    Metadata:\n",
      "      handler_name    : Core Media Audio\n",
      "      vendor_id       : [0][0][0][0]\n",
      "[aist#1:0/pcm_s16le @ 0x7f9e94a07180] Guessed Channel Layout: stereo\n",
      "Input #1, wav, from '/var/folders/9g/509r85b95jz43885pc6n7zlr0000gn/T/tmpeqsn63hx/music_0.wav':\n",
      "  Metadata:\n",
      "    date            : 2014-04-15 19:59\n",
      "    encoder         : Lavf62.3.100\n",
      "  Duration: 00:02:27.41, bitrate: 1411 kb/s\n",
      "  Stream #1:0: Audio: pcm_s16le ([1][0][0][0] / 0x0001), 44100 Hz, stereo, s16, 1411 kb/s\n",
      "Stream mapping:\n",
      "  Stream #0:0 (h264) -> trim:default\n",
      "  Stream #0:1 (aac) -> amix\n",
      "  Stream #1:0 (pcm_s16le) -> atrim:default\n",
      "  concat:out:v0 -> Stream #0:0 (libx264)\n",
      "  amix:default -> Stream #0:1 (aac)\n",
      "Press [q] to stop, [?] for help\n",
      "[libx264 @ 0x7f9e94a09f00] using SAR=1/1\n",
      "[libx264 @ 0x7f9e94a09f00] using cpu capabilities: MMX2 SSE2Fast SSSE3 SSE4.2 AVX FMA3 BMI2 AVX2\n",
      "[libx264 @ 0x7f9e94a09f00] profile Constrained Baseline, level 3.0, 4:2:0, 8-bit\n",
      "[libx264 @ 0x7f9e94a09f00] 264 - core 164 r3108 31e19f9 - H.264/MPEG-4 AVC codec - Copyleft 2003-2023 - http://www.videolan.org/x264.html - options: cabac=0 ref=1 deblock=0:0:0 analyse=0:0 me=dia subme=0 psy=1 psy_rd=1.00:0.00 mixed_ref=0 me_range=16 chroma_me=1 trellis=0 8x8dct=0 cqm=0 deadzone=21,11 fast_pskip=1 chroma_qp_offset=0 threads=6 lookahead_threads=1 sliced_threads=0 nr=0 decimate=1 interlaced=0 bluray_compat=0 constrained_intra=0 bframes=0 weightp=0 keyint=250 keyint_min=25 scenecut=0 intra_refresh=0 rc=crf mbtree=0 crf=30.0 qcomp=0.60 qpmin=0 qpmax=69 qpstep=4 ip_ratio=1.40 aq=0\n",
      "Output #0, mov, to 'overlay_1_music.mov':\n",
      "  Metadata:\n",
      "    major_brand     : qt  \n",
      "    minor_version   : 512\n",
      "    compatible_brands: qt  \n",
      "    encoder         : Lavf62.3.100\n",
      "  Stream #0:0: Video: h264 (avc1 / 0x31637661), yuv420p(tv, bt709, progressive), 854x480 [SAR 1:1 DAR 427:240], q=2-31, 25 fps, 12800 tbn\n",
      "    Metadata:\n",
      "      encoder         : Lavc62.11.100 libx264\n",
      "    Side data:\n",
      "      cpb: bitrate max/min/avg: 0/0/0 buffer size: 0 vbv_delay: N/A\n",
      "  Stream #0:1: Audio: aac (LC) (mp4a / 0x6134706D), 44100 Hz, stereo, fltp, 192 kb/s\n",
      "    Metadata:\n",
      "      encoder         : Lavc62.11.100 aac\n",
      "[mov @ 0x7f9e94a08f80] Starting second pass: moving the moov atom to the beginning of the file elapsed=0:00:20.59    \n",
      "[out#0/mov @ 0x7f9e94a073c0] video:6023KiB audio:4158KiB subtitle:0KiB other streams:0KiB global headers:0KiB muxing overhead: 1.117614%\n",
      "frame= 4500 fps=213 q=-1.0 Lsize=   10295KiB time=00:03:00.00 bitrate= 468.5kbits/s speed=8.53x elapsed=0:00:21.09    \n",
      "[libx264 @ 0x7f9e94a09f00] frame I:18    Avg QP:20.56  size: 22556\n",
      "[libx264 @ 0x7f9e94a09f00] frame P:4482  Avg QP:23.00  size:  1285\n",
      "[libx264 @ 0x7f9e94a09f00] mb I  I16..4: 100.0%  0.0%  0.0%\n",
      "[libx264 @ 0x7f9e94a09f00] mb P  I16..4:  2.1%  0.0%  0.0%  P16..4: 15.7%  0.0%  0.0%  0.0%  0.0%    skip:82.1%\n",
      "[libx264 @ 0x7f9e94a09f00] coded y,uvDC,uvAC intra: 16.0% 39.2% 3.6% inter: 3.3% 4.4% 0.1%\n",
      "[libx264 @ 0x7f9e94a09f00] i16 v,h,dc,p: 58% 18% 13% 11%\n",
      "[libx264 @ 0x7f9e94a09f00] i8c dc,h,v,p: 48% 21% 24%  7%\n",
      "[libx264 @ 0x7f9e94a09f00] kb/s:274.07\n",
      "[aac @ 0x7f9e94a052c0] Qavg: 2158.795\n"
     ]
    }
   ],
   "source": [
    "from video_commands import *\n",
    "main_video = \"test_3min.mov\"\n",
    "output_file = \"overlay_1_music.mov\"\n",
    "para_list = [[\"music/end_song.mp3\",\"2:30\",\"3:00\",\"2\",\"2\",\"0.2\"]]\n",
    "    \n",
    "overlay_video_and_img3(main_video,para_list,output_file,crf=\"30\",preset=\"ultrafast\")"
   ]
  },
  {
   "cell_type": "code",
   "execution_count": null,
   "id": "aaefcf39-5080-4adb-a5d5-5f08c7435808",
   "metadata": {},
   "outputs": [],
   "source": [
    "\n"
   ]
  },
  {
   "cell_type": "code",
   "execution_count": null,
   "id": "83213da4-2531-4eac-bc08-4045f556f7ba",
   "metadata": {},
   "outputs": [],
   "source": []
  },
  {
   "cell_type": "code",
   "execution_count": null,
   "id": "6ee19e91-6858-4003-8023-0e17d172e358",
   "metadata": {},
   "outputs": [],
   "source": []
  },
  {
   "cell_type": "code",
   "execution_count": null,
   "id": "799e4357-9dca-45e8-83f8-e5b3306850da",
   "metadata": {},
   "outputs": [],
   "source": []
  },
  {
   "cell_type": "code",
   "execution_count": null,
   "id": "468db17a-3a3b-4b17-b13c-31d19c6299dd",
   "metadata": {},
   "outputs": [],
   "source": []
  },
  {
   "cell_type": "code",
   "execution_count": null,
   "id": "3db83021-0b71-4656-90d9-f081222fd24e",
   "metadata": {},
   "outputs": [],
   "source": []
  }
 ],
 "metadata": {
  "kernelspec": {
   "display_name": "Python 3 (ipykernel)",
   "language": "python",
   "name": "python3"
  },
  "language_info": {
   "codemirror_mode": {
    "name": "ipython",
    "version": 3
   },
   "file_extension": ".py",
   "mimetype": "text/x-python",
   "name": "python",
   "nbconvert_exporter": "python",
   "pygments_lexer": "ipython3",
   "version": "3.13.7"
  }
 },
 "nbformat": 4,
 "nbformat_minor": 5
}
