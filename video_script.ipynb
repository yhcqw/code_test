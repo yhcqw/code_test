{
 "cells": [
  {
   "cell_type": "markdown",
   "id": "40dfe5c0-3cd0-4be5-9b5c-7583a9fcf62c",
   "metadata": {},
   "source": [
    "<h3 align = center>How to make a simple video using FFMPEG</h3>\n",
    "last update: Sept 2025<br>"
   ]
  },
  {
   "cell_type": "markdown",
   "id": "24cf15a3-3d2f-46df-ba49-bb2b7e86551a",
   "metadata": {},
   "source": [
    "\n",
    "- [adjust wav volume](#adjust-wav-volume)\n",
    "- [black still](#Creating-a-black-still)\n",
    "- [burning in subtitle](#Burning-in-subtitle)\n",
    "- [concatenating videos](#concatenating-videos)\n",
    "- [download](#pip3-download)\n",
    "- [end credis](#Creating-End-Credits)\n",
    "- [final concatenation](#final-concatenation)\n",
    "- [demucs](#Separating-different-audio-channels-from-a-video)\n",
    "- [media dimensions](#media-dimensions)\n",
    "- [mp3 to wav](#mp3-to-wav)\n",
    "- [mosaic](#adding-mosaic)\n",
    "- [Overlaying everything](#Overlaying-everything)\n",
    "- [Package used](#Package-used)\n",
    "- [pages to txt](#extract-pages-to-txt)\n",
    "- [parse time](#parse-time)\n",
    "- [Reencoding](#Reencoding)\n",
    "- [screen shot](#extracting-screen-shot)\n",
    "- [srt to ass](#srt-to-ass)\n",
    "- [Splitting a video into section](#Splitting-a-video-into-sections)\n",
    "- [Translation](#Translation)\n",
    "- [combining translations for proofreading](#combining-translations-for-proofreading)\n",
    "- [Separating translation after proofreading](#Separating-translation-after-proofreading)\n",
    "- [Trimming a video](#Trimming-a-video)\n",
    "- [Video Codec](#Printing-video-info)\n",
    "- [voice to subtitles](#extracting-voice-to-subtitles)\n",
    "- [zoom video](#creating-zoom-video)\n",
    "\n"
   ]
  },
  {
   "cell_type": "markdown",
   "id": "d610483c-2557-4681-a5f4-45795e83b230",
   "metadata": {},
   "source": [
    "## Package used:\n",
    "<i>ffmpeg, ffprobe,re, datetime, math, json, PIL, fractions, matplotlib, tempfile, pdfplumber,zipfile <br>\n",
    "shutil, numpy, openai-whisper, deep_translator, deepl, openai, demucs, opencc, opencv-python</i> <br>\n",
    "\n",
    "whisper environment: \n",
    " <i>openai-whisper</i> , <i>demucs</i>, <i>deepl</i>, <i>openai</i> <br>\n",
    "\n",
    "How to install:<br>\n",
    "<i>!pip3 install openai-whisper</i>\n",
    "\n",
    "The code we are using here is in <b><i>video_commands.py</i></b>.\n"
   ]
  },
  {
   "cell_type": "markdown",
   "id": "475c2024-5b9d-4a3d-a09b-cf2e4bc99bf7",
   "metadata": {},
   "source": [
    "### Trimming a video\n",
    "we want to extract <i>11:00 to 16:00</i> :<br>\n",
    "<i>ffmpeg -y -ss 11:00 -to 16:00 -i Marines_at_Tarawa_Return_to_Guam.mp4 -c:v libx264 -preset veryfast -crf 18 -c:a copy  marines_5min.mov</i> <br><br>\n",
    "\n",
    "\n"
   ]
  },
  {
   "cell_type": "code",
   "execution_count": null,
   "id": "1fabe0b9-ac33-49dd-bc48-31c3d4e7b302",
   "metadata": {},
   "outputs": [],
   "source": [
    "from video_commands import * \n",
    "main_video = \"Marines_at_Tarawa_Return_to_Guam.mp4\"\n",
    "start_time = \"11:00\" #you can enter as 1)an interger which is second, 2)mm:ss, or 3)hh:mm:ss\n",
    "end_time = \"16:00\" \n",
    "output_file = \"marines_5min.mov\"\n",
    "trim_video(main_video, start_time, end_time, output_file,crf=23, preset = \"fast\")"
   ]
  },
  {
   "cell_type": "code",
   "execution_count": null,
   "id": "cd3484ba-8459-4bce-ab7a-1d9a668b9284",
   "metadata": {},
   "outputs": [],
   "source": [
    "from video_commands import * \n",
    "main_video = \"\"\n",
    "start_time = \"11:00\" #you can enter as 1)an interger which is second, 2)mm:ss, or 3)hh:mm:ss\n",
    "end_time = \"16:00\" \n",
    "output_file = \"\"\n",
    "trim_video(main_video, start_time, end_time, output_file,crf=23, preset = \"fast\")"
   ]
  },
  {
   "cell_type": "markdown",
   "id": "f841262e-07cc-43d0-a0b4-dd032bbf3e67",
   "metadata": {},
   "source": [
    "## Printing video info\n",
    "ffprobe code for video: <br>\n",
    "<i>ffprobe -v error -select_streams v:0 -show_entries stream=codec_name,width,height,r_frame_rate,pix_fmt -of csv=p=0 marines_5min.mov</i><br>\n",
    "ffmpeg code for audio: <br>\n",
    "<i>ffprobe -v error -select_streams a:0 -show_entries stream=codec_name,sample_rate,channels -of csv=p=0 marines_5min.mov</i>\n",
    "<br><br>\n",
    "Now let's run the python code below:<br>"
   ]
  },
  {
   "cell_type": "code",
   "execution_count": null,
   "id": "3982c896-3204-4eae-8fe6-09664e0a808c",
   "metadata": {},
   "outputs": [],
   "source": [
    "file_list = [\"marines_5min.mov\"]\n",
    "print_media_info(file_list)"
   ]
  },
  {
   "cell_type": "code",
   "execution_count": null,
   "id": "047bd8a5-ea94-4b79-9d0e-fe238fd7dd35",
   "metadata": {},
   "outputs": [],
   "source": [
    "from video_commands import * \n",
    "file_list = [\"\"]\n",
    "print_media_info(file_list)"
   ]
  },
  {
   "cell_type": "markdown",
   "id": "aae6388b-89ac-4393-9282-5b4f51241dd4",
   "metadata": {},
   "source": [
    "## Splitting a video into sections\n",
    "4 sections:<br>\n",
    "1) 0:00 - 1:30 <br>\n",
    "2) 1:30 - 2:30 <br>\n",
    "3) 2:30 - 4:00 <br>\n",
    "4) 4:00 - the end <br>\n",
    "\n",
    "<i>ffmpeg -y -ss 0.000 -i marines_5min.mov -t 90.000 -c:v libx264 -preset fast -c:a pcm_s16le -ar 48000 -ac 2 -movflags +faststart video1.mov</i><br>\n",
    "<i> ffmpeg -y -ss 90.000 -i marines_5min.mov -t 60.000 -c:v libx264 -preset fast -c:a pcm_s16le -ar 48000 -ac 2 -movflags +faststart video2.mov</i><br>\n",
    "<i>ffmpeg -y -ss 150.000 -i marines_5min.mov -t 90.000 -c:v libx264 -preset fast -c:a pcm_s16le -ar 48000 -ac 2 -movflags +faststart video3.mov </i><br>\n",
    "<i>ffmpeg -y -ss 240.000 -i marines_5min.mov -t 60.009 -c:v libx264 -preset fast -c:a pcm_s16le -ar 48000 -ac 2 -movflags +faststart video4.mov\n",
    " </i><br><br>\n",
    "\n",
    " Below is the python code to implement the above. Let's run it.<br>\n"
   ]
  },
  {
   "cell_type": "code",
   "execution_count": null,
   "id": "6349cf43-64b1-4bc5-8197-843f70700c44",
   "metadata": {},
   "outputs": [],
   "source": [
    "main_video = \"marines_5min.mov\"\n",
    "the_end = get_video_length(main_video) #we retrive the exact end time in hh:mm:ss by calling this function\n",
    "sections = [\"0:00 - 1:30\",\"1:30 - 2:30\",\"2:30 - 4:00\",f\"4:00-{the_end}\"]\n",
    "#Below are the output files. The length of this list has to match the length of the above list \"sections\"\n",
    "output_files = [\"video1.mov\",\"video2.mov\",\"video3.mov\",\"video4.mov\"] \n",
    "split_video(main_video, sections, output_files, audio_codec=\"wav\")"
   ]
  },
  {
   "cell_type": "code",
   "execution_count": null,
   "id": "bdc9a3f1-0774-4c45-b2f0-1d57a5968dac",
   "metadata": {},
   "outputs": [],
   "source": [
    "from video_commands import * \n",
    "main_video = \".mov\"\n",
    "the_end = get_video_length(main_video) #we retrive the exact end time in hh:mm:ss by calling this function\n",
    "sections = [\"0:00 - 1:30\",\"1:30 - 2:30\",\"2:30 - 4:00\",f\"4:00-{the_end}\"]\n",
    "#Below are the output files. The length of this list has to match the length of the above list \"sections\"\n",
    "output_files = [\"video1.mov\",\"video2.mov\",\"video3.mov\",\"video4.mov\"] \n",
    "split_video(main_video, sections, output_files, audio_codec=\"wav\")"
   ]
  },
  {
   "cell_type": "markdown",
   "id": "db3b466b-6ad5-483c-9212-d92aa7d9b6ca",
   "metadata": {},
   "source": [
    "## Creating a black still\n",
    "creating blank black still:<br>\n",
    "\n",
    "<i>ffmpeg -y -f lavfi -i color=c=black:s=556x412:r=25.0:d=5 -f lavfi -i anullsrc=r=44100:cl=stereo -shortest -c:v libx264 -pix_fmt yuv420p -c:a pcm_s16le temp_black.mp4</i><br>\n",
    "\n",
    "Then python creates an ass file (a subtitle format, this is a text file) with the text called <i>temp_sub.ass</i>. Finally <i>temp_sub.ass</i> is burnt in to <i>temp_black.mp4</i> and the final output is what we want.\n",
    "\n",
    "<i>ffmpeg -y -i temp_black.mp4 -vf ass=temp_sub.ass -c:v libx264 -pix_fmt yuv420p -c:a copy black1.mov</i>\n",
    "\n",
    "<b>Note that if the numbers(like <i>1</i> in <i>\"Section 1\"</i>) appear strange (maybe bigger than the text) in <i>black1.mov</i>, you need to install some fonts. I don't remember how to do it, but I do remember I asked chatgpt.<br></b>\n"
   ]
  },
  {
   "cell_type": "code",
   "execution_count": null,
   "id": "80869c5e-4324-4ba4-b46a-604c99fba1d3",
   "metadata": {
    "scrolled": true
   },
   "outputs": [],
   "source": [
    "main_video = \"marines_5min.mov\"\n",
    "text = [\"Section 1\",\"Section 2\",\"Section 3\"]\n",
    "output_files = [\"black1.mov\",\"black2.mov\",\"black3.mov\"]\n",
    "duration = 5 # in seconds\n",
    "for txt,output_names in zip(text,output_files):\n",
    "    output_file = create_black_still(main_video,txt,duration,output_names,font_name=\"Arial\",font_size=72,\n",
    "    font_color=\"&H00FFFFFF\" #Solid White\n",
    ")"
   ]
  },
  {
   "cell_type": "code",
   "execution_count": null,
   "id": "cdc5db77-78ee-4366-b253-ce3502b7b484",
   "metadata": {},
   "outputs": [],
   "source": [
    "from video_commands import * \n",
    "main_video = \".mov\"\n",
    "text = [\"\",\"\",\"\"]\n",
    "output_files = [\"black1.mov\",\"black2.mov\",\"black3.mov\"]\n",
    "duration = 5 # in seconds\n",
    "for txt,output_names in zip(text,output_files):\n",
    "    output_file = create_black_still(main_video,txt,duration,output_names,font_name=\"Arial\",font_size=72,\n",
    "    font_color=\"&H00FFFFFF\" #Solid White"
   ]
  },
  {
   "cell_type": "markdown",
   "id": "6c8a45a7-d7d2-428a-8b31-ef92195a2bd2",
   "metadata": {},
   "source": [
    "## Reencoding\n",
    "\n",
    "Here is the break down of <i>reencode_to_match()</i>:<br>\n",
    "1)Get main video's codec: <br>\n",
    "<i>ffprobe -v error -select_streams v:0 -show_entries stream=width,height,r_frame_rate,duration -of json marines_5min.mov\n",
    "</i><br>\n",
    "\n",
    "The codec is retrieved and put into the next step.<br>\n",
    "            \n",
    "2)Re-encode the main video to audio = PCM: <br>\n",
    "<i>ffmpeg -y -i media_files/marines_5min.mov -r 25.0 -c:v libx264 -c:a pcm_s16le -ar 44100 -ac 2 -preset fast -crf 18 marines_5min_tmp.mov</i><br><br>\n",
    "3)Rescale video to match the main video's dimension (yes, the main video is rescaled to the main video, it does the same to all other videos):<br>\n",
    "<i>ffmpeg -y -i marines_5min_tmp.mov -vf scale=556:412,pad=556:412:0:0:black -c:v libx264 -preset fast -crf 18 -c:a copy marines_5min_reencoded.mov</i><br><br>\n",
    "4)Pad/truncate audio to match video duration:<br>\n",
    "<i>ffmpeg -y -i marines_5min_reencoded.mov -c:v copy -af apad,atrim=0:300.000000 marines_5min_reencoded_padded.mov</i><br>\n",
    "\n",
    "So the final product we want is the last one - <i>marines_5min_reencoded_padded.mov</i>. The same procedure applies to other videos.\n",
    "\n"
   ]
  },
  {
   "cell_type": "code",
   "execution_count": null,
   "id": "120f0365-bca9-4e66-9ec6-ef15fbd03640",
   "metadata": {},
   "outputs": [],
   "source": [
    "main_video = \"marines_5min.mov\"\n",
    "# The main video serves as the \"standard\" codec for others to follow\n",
    "list_to_reencode = [main_video,\"video1.mov\",\"video2.mov\",\"video3.mov\",\"video4.mov\",\n",
    "            \"black1.mov\",\"black2.mov\",\"black3.mov\"]\n",
    "reencoded_file_names, reencoded_file_dict =reencode_to_match(main_video, list_to_reencode,crf=\"23\", preset=\"fast\")\n"
   ]
  },
  {
   "cell_type": "code",
   "execution_count": null,
   "id": "010dd1f1-2dfa-4143-a511-5f08e84a1e1f",
   "metadata": {},
   "outputs": [],
   "source": [
    "from video_commands import * \n",
    "main_video = \".mov\"\n",
    "# The main video serves as the \"standard\" codec for others to follow\n",
    "list_to_reencode = [main_video,\".mov\",\".mov\",\".mov\",\".mov\"]\n",
    "reencoded_file_names, reencoded_file_dict =reencode_to_match(main_video, list_to_reencode,crf=\"23\", preset=\"fast\")"
   ]
  },
  {
   "cell_type": "markdown",
   "id": "986492f1-1c91-45c0-8d15-b2655f927d0c",
   "metadata": {},
   "source": [
    "### concatenating videos"
   ]
  },
  {
   "cell_type": "code",
   "execution_count": null,
   "id": "836d9eea-b76b-410e-b7e2-7f233ea6585f",
   "metadata": {},
   "outputs": [],
   "source": [
    "#input the video list in order of concatenation\n",
    "video_list = [\"video1.mov\",\"black1.mov\",\"video2.mov\",\"black2.mov\",\"video3.mov\",\"black3.mov\",\"video4.mov\"]\n",
    "#primary index is the video which serves as a \"model\" for reencoding. All other videos will have the same codec as this one. \n",
    "#Note the first video has a primary_index \"1\", not \"0\"\n",
    "combine_video(video_list, primary_index=1, output_file=\"marines_5min_new.mov\", crf=23, preset=\"fast\")"
   ]
  },
  {
   "cell_type": "code",
   "execution_count": null,
   "id": "c4f56843-ca48-455a-accf-c66bb62191e6",
   "metadata": {},
   "outputs": [],
   "source": [
    "from video_commands import * \n",
    "video_list = [\"video1.mov\",\"black1.mov\",\"video2.mov\",\"black2.mov\",\"video3.mov\",\"black3.mov\",\"video4.mov\"]\n",
    "#primary index is the video which serves as a \"model\" for reencoding. All other videos will have the same codec as this one. \n",
    "#Note the first video has a primary_index \"1\", not \"0\"\n",
    "combine_video(video_list, primary_index=1, output_file=\"marines_5min_new.mov\", crf=23, preset=\"fast\")"
   ]
  },
  {
   "cell_type": "markdown",
   "id": "d889be63-ed74-473a-8035-e823e8161e1e",
   "metadata": {},
   "source": [
    "## Separating different audio channels from a video\n",
    "copy and paste the below to the terminal. Don't run it here! The output is in default folders <b><i>separated/htdemucs/marines_5min_new</i></b>\n",
    "\n",
    "<i><b>demucs marines_5min_new.mov</i></b>"
   ]
  },
  {
   "cell_type": "markdown",
   "id": "7a760f58-5917-42af-8596-0949cd1d83f7",
   "metadata": {},
   "source": [
    "## extracting voice to subtitles"
   ]
  },
  {
   "cell_type": "code",
   "execution_count": null,
   "id": "3eb082c6-5c4a-4fe5-a7e6-342583c9fafc",
   "metadata": {},
   "outputs": [],
   "source": [
    "#input can be a video or audio. If video, make sure the audio channel is \"clean\"\n",
    "video = \"separated/htdemucs/marines_5min_new/vocals.mp3\" #the original file is vocals.wav. \n",
    "outputsrt = \"subtitle.srt\"\n",
    "voice_to_srt(video, outputsrt)"
   ]
  },
  {
   "cell_type": "code",
   "execution_count": null,
   "id": "393b5fb9-ee8a-42d4-b4c4-bf438c1feb9d",
   "metadata": {},
   "outputs": [],
   "source": [
    "from video_commands import * \n",
    "video = \".mp3\" #the original file is vocals.wav. \n",
    "outputsrt = \".srt\"\n",
    "voice_to_srt(video, outputsrt)"
   ]
  },
  {
   "cell_type": "markdown",
   "id": "0e29fb99-4b0d-492d-817e-7be90b44a9de",
   "metadata": {},
   "source": [
    "## Translation\n",
    "\n",
    "<i>english = en<br>\n",
    "simplified chinese = \"zh-CN\" for google, \"zh\" for deepl<br>\n",
    "traditional chinese = \"zh-TW\" for google, \"zh\" for deepl<br>\n",
    "japanese = ja<br>\n",
    "korea = ko<br>\n",
    "german = de<br>\n",
    "french = fr<br></i>"
   ]
  },
  {
   "cell_type": "code",
   "execution_count": null,
   "id": "b563fe99-a84a-474a-a9d8-c3bb453cc607",
   "metadata": {},
   "outputs": [],
   "source": [
    "subtitle_file = \"subtitle.srt\" # the file we extract from the step above voice_to_srt()\n",
    "outputfile = \"subtitle_google_ja.srt\"\n",
    "target_lang = \"ja\"\n",
    "source_lang = \"en\" #not inputting this would set the value to auto-detect\n",
    "translate_srt_google(subtitle_file,outputfile, target_lang, source_lang)"
   ]
  },
  {
   "cell_type": "code",
   "execution_count": null,
   "id": "4aca004f-1bd3-43d1-b29b-100273fc7578",
   "metadata": {},
   "outputs": [],
   "source": [
    "from video_commands import * \n",
    "subtitle_file = \".srt\" # the file we extract from the step above voice_to_srt()\n",
    "outputfile = \"subtitle_google_.srt\"\n",
    "target_lang = \"\"\n",
    "source_lang = \"\" #not inputting this would set the value to auto-detect\n",
    "translate_srt_google(subtitle_file,outputfile, target_lang, source_lang)"
   ]
  },
  {
   "cell_type": "code",
   "execution_count": null,
   "id": "c84219e5-beed-48c3-9658-7cfefaddb1ff",
   "metadata": {},
   "outputs": [],
   "source": [
    "subtitle_file = \"subtitle.srt\"\n",
    "outputfile = \"subtitle_google_ja.srt\"\n",
    "target_lang = \"ja\" \n",
    "source_lang = \"en\" #not inputting this would set the value to auto-detect\n",
    "deepl_translate_srt(subtitle_file, outputfile,target_lang)"
   ]
  },
  {
   "cell_type": "code",
   "execution_count": null,
   "id": "1f0180f7-c495-4b5b-ab84-4abad7456207",
   "metadata": {},
   "outputs": [],
   "source": [
    "from video_commands import * \n",
    "subtitle_file = \".srt\"\n",
    "outputfile = \"subtitle_deepl_.srt\"\n",
    "target_lang = \"\" \n",
    "source_lang = \"\" #not inputting this would set the value to auto-detect\n",
    "deepl_translate_srt(subtitle_file, outputfile,target_lang)"
   ]
  },
  {
   "cell_type": "markdown",
   "id": "445dcb98-49de-4601-9809-97ebe0317a8a",
   "metadata": {},
   "source": [
    "## combining translations for proofreading"
   ]
  },
  {
   "cell_type": "markdown",
   "id": "ac9b7c4b-9c6b-4891-b73c-3aced5eab1b5",
   "metadata": {},
   "source": [
    "In order to make proofreading easier, you can combine the subtile in the original language and the translated language into one file. The file looks like this:<br><br>\n",
    "1<br>\n",
    "00:00:00.000 --> 00:00:03.399<br>\n",
    "about to our rectum pivions instead of machine guns.<br>\n",
    "マシンガンの代わりに直腸のピビオンを使う。<br><br>\n"
   ]
  },
  {
   "cell_type": "markdown",
   "id": "327053bd-0e87-4cbe-9a8f-be51b6630df7",
   "metadata": {},
   "source": [
    "file1_path = \"subtitle.srt\" #input file, make this the original language\n",
    "file2_path = \"subtitle_deepl_ja.srt\" #input file, make this the translated langauge\n",
    "output_path = \"subtitle_en_ja.srt\" #output file which combines two input files\n",
    "combine_srt(file1_path, file2_path, output_path)"
   ]
  },
  {
   "cell_type": "code",
   "execution_count": null,
   "id": "fa82cdb9-5e00-4d3b-9679-f1b46450eec1",
   "metadata": {},
   "outputs": [],
   "source": [
    "from video_commands import * \n",
    "file1_path = \".srt\" #input file, make this the original language\n",
    "file2_path = \".srt\" #input file, make this the translated langauge\n",
    "output_path = \".srt\" #output file which combines two input files\n",
    "combine_srt(file1_path, file2_path, output_path)"
   ]
  },
  {
   "cell_type": "markdown",
   "id": "5ec90b74-0e32-4f16-adc8-40b7f5097613",
   "metadata": {},
   "source": [
    "## Separating translation after proofreading"
   ]
  },
  {
   "cell_type": "markdown",
   "id": "0b88c632-c5cc-459b-a91f-14430c503f5d",
   "metadata": {},
   "source": [
    "input_file = \"subtitle_en_ja.srt\"\n",
    "\n",
    "language_choice = 2\n",
    "\n",
    "output_file = \"subtitle_ja.srt\"\n",
    "\n",
    "separate_srt_languages(input_file, language_choice, output_file)"
   ]
  },
  {
   "cell_type": "code",
   "execution_count": null,
   "id": "08c86acc-58ba-41e3-897e-77819e472da3",
   "metadata": {},
   "outputs": [],
   "source": [
    "from video_commands import * \n",
    "input_file = \"中日合并字幕_251开始.txt\"\n",
    "language_choice = 2\n",
    "output_file = \"subtitle_jp2.srt\"\n",
    "separate_srt_languages(input_file, language_choice, output_file)"
   ]
  },
  {
   "cell_type": "markdown",
   "id": "30793398-e131-4d34-9e22-576161fa6e87",
   "metadata": {},
   "source": [
    "## creating zoom video\n",
    "create a rescaled image and numbered grid first\n"
   ]
  },
  {
   "cell_type": "code",
   "execution_count": null,
   "id": "a6153fb5-5bce-493b-a670-fe4cbd93cbff",
   "metadata": {},
   "outputs": [],
   "source": [
    "main_video = \"marines_5min_new.mov\" #we need to rescale the input image to match the size of the main video\n",
    "video_width,video_height = get_media_dimensions(main_video) \n",
    "image_name = \"media_files/boat.jpg\" #the input image\n",
    "#the rescaled image which matches the dimensions of the main video. This file is used as the overlay\n",
    "output_filename = \"boat_rescaled.jpg\" \n",
    "make_rescaled_image(video_width, video_height, image_name, output_filename) #produce the rescaled image\n",
    "input_file = output_filename\n",
    "output_file = \"boat_rescaled_grid.jpg\"\n",
    "#add a grid to the rescaled image to retrieve pixel positions, setting an interval = 50 means the distance between the grid is 50 pixels\n",
    "add_numbered_grid(input_file, output_file,video_width,video_height,interval=50,line_color=\"red\",number_color=\"yellow\") \n"
   ]
  },
  {
   "cell_type": "code",
   "execution_count": null,
   "id": "d195e64d-1b6f-4884-9453-038548adc26a",
   "metadata": {},
   "outputs": [],
   "source": [
    "from video_commands import * \n",
    "main_video = \"\" #we need to rescale the input image to match the size of the main video\n",
    "video_width,video_height = get_media_dimensions(main_video) \n",
    "image_name = \" #the input image\n",
    "#the rescaled image which matches the dimensions of the main video. This file is used as the overlay\n",
    "output_filename = \"\" \n",
    "make_rescaled_image(video_width, video_height, image_name, output_filename) #produce the rescaled image\n",
    "input_file = output_filename\n",
    "output_file = \"\"\n",
    "#add a grid to the rescaled image to retrieve pixel positions, setting an interval = 50 means the distance between the grid is 50 pixels\n",
    "add_numbered_grid(input_file, output_file,video_width,video_height,interval=50,line_color=\"red\",number_color=\"yellow\") \n"
   ]
  },
  {
   "cell_type": "markdown",
   "id": "16328503-9285-466f-b93e-c14a23908a6b",
   "metadata": {},
   "source": [
    "<b>Top left corner has x = 0, y = 0 </b>. "
   ]
  },
  {
   "cell_type": "code",
   "execution_count": null,
   "id": "0bdc58d6-a899-4836-b49e-ebd17dd97006",
   "metadata": {},
   "outputs": [],
   "source": [
    "x_pos,y_pos = 275,275\n",
    "duration = 5\n",
    "zoom_start = 2\n",
    "zoom_max = 2\n",
    "out_file = \"boat_video.mov\"\n",
    "image_list = [[\"boat_rescaled.jpg\", x_pos, y_pos, duration, zoom_start, zoom_max, out_file]]\n",
    "create_zoom(image_list, main_video, crf=18, preset=\"fast\")"
   ]
  },
  {
   "cell_type": "code",
   "execution_count": null,
   "id": "016c9a73-dcbb-4d77-8fcd-a99b578d2163",
   "metadata": {},
   "outputs": [],
   "source": [
    "from video_commands import * \n",
    "x_pos,y_pos = ,\n",
    "duration = 5\n",
    "zoom_start = 2\n",
    "zoom_max = 2\n",
    "out_file = \".mov\"\n",
    "image_list = [[\".jpg\", x_pos, y_pos, duration, zoom_start, zoom_max, out_file]]\n",
    "create_zoom(image_list, main_video, crf=18, preset=\"fast\")"
   ]
  },
  {
   "cell_type": "markdown",
   "id": "b17ff20f-206d-4fd5-9939-89595ad59593",
   "metadata": {},
   "source": [
    "## Overlaying everything\n",
    "\n",
    "\n",
    "para_list = <br>\n",
    "<i>[[\"media_files/Aumun_Background.mov\",\"0:20\",\"0:30\",\"0:05\",0],</i>&nbsp;&nbsp;&nbsp;&nbsp;#0:20-0:30 of the main video, extract 0:05-0:15 of the overaly, no fade-out \n",
    "           <i>  [\"boat_video.mov\",\"3:30\",\"3:35\",\"0:00\",0], </i>&nbsp;&nbsp;&nbsp;&nbsp;#3:30-3:35 of the main video, extract 0:00-0:05 of the overaly, no fade-out<br>\n",
    "         <i>    [\"media_files/Mountain_Forest.mov\",\"4:00\",\"4:15\",\"0:00\",3],</i>&nbsp;&nbsp;&nbsp;&nbsp; #4:00-4:15 of the main video, extract 0:00-0:15 of the overaly, fade-out = 3s<br>\n",
    "          <i>    [\"media_files/kochi.jpg\",\"1:50\",\"1:55\",\"2\"],</i>&nbsp;&nbsp;&nbsp;&nbsp;#1:50-1:55 of the main video, fade-out = 2s<br>\n",
    "          <i>    [\"media_files/bridge.jpg\",\"2:00\",\"2:15\",\"5\"],</i>&nbsp;&nbsp;&nbsp;&nbsp;#2:00-2:15 of the main video, fade-out = 5s<br>\n",
    "          <i>    [\"media_files/cat.jpg\",\"3:00\",\"3:03\",\"0\"],</i>&nbsp;&nbsp;&nbsp;&nbsp;#3:00-3:03 of the main video, no fade-out<br>\n",
    "           <i>   [\"media_files/Mozart.wav\",\"0:10\",\"3:00\",5,5,3],</i>&nbsp;&nbsp;&nbsp;&nbsp;#0:10-3:00 of the main video, fade in = fade-out = 5s,3 times audio volume<br>\n",
    "           <i>   [\"media_files/Rachmaninoff.wav\",\"3:10\",f\"{end_time}\",0,0,1]]</i>&nbsp;&nbsp;&nbsp;&nbsp;#3:10-the end of the main video, no fadein fadeout,original audio volume<br>\n",
    "\n",
    "\n",
    "</i>\n",
    "\n",
    "Let's create the final product.<br>"
   ]
  },
  {
   "cell_type": "code",
   "execution_count": null,
   "id": "787468f7-2075-4825-8bec-aa952e60f8e0",
   "metadata": {},
   "outputs": [],
   "source": [
    "main_video = \"marines_5min_new.mov\"\n",
    "end_time = get_video_length(main_video)\n",
    "para_list = [[\"media_files/Aumun_Background.mov\",\"0:20\",\"0:30\",\"0:05\",0],\n",
    "[\"boat_video.mov\",\"3:30\",\"3:35\",\"0:00\",0],\n",
    "[\"media_files/Mountain_Forest.mov\",\"4:00\",\"4:15\",\"0:00\",3],\n",
    "[\"media_files/kochi.jpg\",\"1:50\",\"1:55\",\"2\"],\n",
    "[\"media_files/bridge.jpg\",\"2:00\",\"2:15\",\"5\"],\n",
    "[\"media_files/cat.jpg\",\"3:00\",\"3:03\",\"0\"],\n",
    "[\"media_files/Mozart.wav\",\"0:10\",\"3:00\",5,5,3],\n",
    "[\"media_files/Rachmaninoff.wav\",\"3:10\",f\"{end_time}\",0,0,1]]\n",
    "output_file = \"marines_5min_all_overlay.mov\"\n",
    "overlay_video_img_music(main_video, para_list, output_file, crf=23, preset=\"fast\")"
   ]
  },
  {
   "cell_type": "code",
   "execution_count": null,
   "id": "02cac55b-9105-4b60-9d88-455d05e3dec3",
   "metadata": {},
   "outputs": [],
   "source": [
    "from video_commands import * \n",
    "main_video = \"\"\n",
    "end_time = get_video_length(main_video)\n",
    "para_list = [[\".mov\",\"0:20\",\"0:30\",\"0:05\",0],\n",
    "[\".mov\",\"3:30\",\"3:35\",\"0:00\",0],\n",
    "[\".mov\",\"4:00\",\"4:15\",\"0:00\",3],\n",
    "[\".jpg\",\"1:50\",\"1:55\",\"2\"],\n",
    "[\".jpg\",\"2:00\",\"2:15\",\"5\"],\n",
    "[\".jpg\",\"3:00\",\"3:03\",\"0\"],\n",
    "[\".mp3\",\"0:10\",\"3:00\",5,5,3],\n",
    "[\".mp3\",\"3:10\",f\"{end_time}\",0,0,1]]\n",
    "output_file = \".mov\"\n",
    "overlay_video_img_music(main_video, para_list, output_file, crf=23, preset=\"fast\")"
   ]
  },
  {
   "cell_type": "markdown",
   "id": "2f8f035b-ef00-47bb-9f0c-80b7cda30b1d",
   "metadata": {},
   "source": [
    "## extracting screen shot"
   ]
  },
  {
   "cell_type": "code",
   "execution_count": null,
   "id": "7be35ba1-7391-4d70-847e-4db22e85cf5d",
   "metadata": {},
   "outputs": [],
   "source": [
    "#extract screen shot at 1:32 and name it to mosaic1.png, another at 0:10 and name it to mosiac2.png\n",
    "main_video = \"marines_5min_all_overlay.mov\"\n",
    "time_and_name_list = [[\"1:32\",\"mosaic1.png\"],[\"0:10\",\"mosaic2.png\"]] #list of list\n",
    "extract_frames(main_video, time_and_name_list, fast_seek=True)\n",
    "input_file = [\"mosaic1.png\",\"mosaic2.png\"]\n",
    "output_file = [\"mosaic1_grid.png\",\"mosaic2_griod.png\"]\n",
    "video_width,video_height = get_media_dimensions(main_video)\n",
    "for i,n in zip(input_file,output_file):\n",
    "      video_width,video_height = get_media_dimensions(main_video)\n",
    "      add_numbered_grid(i, n,video_width,video_height,interval=50,line_color=\"red\",number_color=\"black\")\n",
    "\n"
   ]
  },
  {
   "cell_type": "code",
   "execution_count": null,
   "id": "30fc3a65-3946-402f-8718-3d4f8f5386d1",
   "metadata": {},
   "outputs": [],
   "source": [
    "from video_commands import * \n",
    "#extract screen shot at 1:32 and name it to mosaic1.png, another at 0:10 and name it to mosiac2.png\n",
    "main_video = \".mov\"\n",
    "time_and_name_list = [[\"1:00\",\".png\"],[\"0:10\",\".png\"]] #list of list\n",
    "extract_frames(main_video, time_and_name_list, fast_seek=True)\n",
    "input_file = [\"mosaic1.png\",\"mosaic2.png\"]\n",
    "output_file = [\"mosaic1_grid.png\",\"mosaic2_griod.png\"]\n",
    "video_width,video_height = get_media_dimensions(main_video)\n",
    "for i,n in zip(input_file,output_file):\n",
    "      video_width,video_height = get_media_dimensions(main_video)\n",
    "      add_numbered_grid(i, n,video_width,video_height,interval=50,line_color=\"red\",number_color=\"black\")\n",
    "\n"
   ]
  },
  {
   "cell_type": "markdown",
   "id": "728f1369-1ec3-4386-9ae3-bfb58ca0267f",
   "metadata": {},
   "source": [
    " ## adding mosaic\n",
    " [25, 25, 100, 50, 15, 10, 15]<br>\n",
    " xpos,ypos,width,length,pixelation, start time, end time\n",
    " \n",
    " "
   ]
  },
  {
   "cell_type": "code",
   "execution_count": null,
   "id": "a09b4812-cb75-42bc-a87f-ff3c57ff63bf",
   "metadata": {},
   "outputs": [],
   "source": [
    "main_video = \"marines_5min_all_overlay.mov\"\n",
    "mosaic_list=[\n",
    "[25, 25, 100, 50, 15, 10, 15],\n",
    "[130, 175, 270, 120, 15, \"1:30\", \"1:35\"]]\n",
    "output_video = \"marines_5min_all_overlay_mosaic.mov\"\n",
    "apply_mosaics(main_video, output_video, mosaic_list)"
   ]
  },
  {
   "cell_type": "code",
   "execution_count": null,
   "id": "3c537f1c-89ce-45cf-a2f9-f45317038545",
   "metadata": {},
   "outputs": [],
   "source": [
    "from video_commands import * \n",
    "main_video = \".mov\"\n",
    "mosaic_list=[\n",
    "[25, 25, 100, 50, 15, 10, 15],\n",
    "[130, 175, 270, 120, 15, \"1:30\", \"1:35\"]]\n",
    "output_video = \".mov\"\n",
    "apply_mosaics(main_video, output_video, mosaic_list)"
   ]
  },
  {
   "cell_type": "markdown",
   "id": "ccd54123-e6df-40c2-bb2f-5c59cc12f652",
   "metadata": {},
   "source": [
    "## srt to ass\n"
   ]
  },
  {
   "cell_type": "markdown",
   "id": "c16323bf-c226-402b-b9d5-e733d011dd76",
   "metadata": {},
   "source": [
    "srt_file = \"subtitle.srt\" #input file\n",
    "ass_file = \"subtitle.ass\" #output file\n",
    "main_video = \"marines_5min_all_overlay_mosaic.mov\"\n",
    "#the ass file has a resolution which is the same as the dimension of the main video\n",
    "video_width, video_height = get_media_dimensions(main_video)\n",
    "srt_to_ass(srt_file, ass_file, video_width, video_height, fontname=\"Arial\", fontsize=24)"
   ]
  },
  {
   "cell_type": "code",
   "execution_count": null,
   "id": "6d1cec74-6f18-41cb-ba1a-74bdf8221cf7",
   "metadata": {},
   "outputs": [],
   "source": [
    "from video_commands import * \n",
    "srt_file = \"subtitle_jp.srt\" #input file\n",
    "ass_file = \"subtitle_jp.ass\" #output file\n",
    "main_video = \"B0815_4letter.mov\"\n",
    "#the ass file has a resolution which is the same as the dimension of the main video\n",
    "video_width, video_height = get_media_dimensions(main_video)\n",
    "srt_to_ass(srt_file, ass_file, video_width, video_height, fontname=\"Arial\", fontsize=30)"
   ]
  },
  {
   "cell_type": "markdown",
   "id": "e9d26ac5-f570-4572-9729-a50cd8fecd36",
   "metadata": {},
   "source": [
    "## Burning in subtitle"
   ]
  },
  {
   "cell_type": "markdown",
   "id": "08969f9a-f223-48fa-9987-bb9f8b406684",
   "metadata": {},
   "source": [
    "subtitle_file = \"subtitle.ass\"\n",
    "main_video = \"marines_5min_all_overlay_mosaic.mov\"\n",
    "output_video = \"marines_subtitle.mov\"\n",
    "#the font here is only for srt files\n",
    "burn_subtitles(main_video, subtitle_file, output_video, font=\"Arial\", crf =23, preset=\"fast\")"
   ]
  },
  {
   "cell_type": "code",
   "execution_count": null,
   "id": "fe960460-7e20-48c9-9314-8b673855e86b",
   "metadata": {},
   "outputs": [],
   "source": [
    "from video_commands import * \n",
    "subtitle_file = \"subtitle_jp.ass\"\n",
    "main_video = \"B0815_4letter.mov\"\n",
    "output_video = \"B0815_subtitle_jp.mov\"\n",
    "#the font here is only for srt files\n",
    "burn_subtitles(main_video, subtitle_file, output_video, font=\"Arial\", crf =23, preset=\"veryfast\")"
   ]
  },
  {
   "cell_type": "markdown",
   "id": "b8a85ee5-1084-43fa-9f92-031311b41a0a",
   "metadata": {},
   "source": [
    "## Creating End Credits \n",
    "<i>contributors.txt</i>:<br><br>\n",
    "<i>\n",
    "Director: XXX<br>\n",
    "Production Crew: AAA<br>\n",
    "&nbsp;&nbsp;&nbsp;&nbsp;&nbsp;&nbsp;&nbsp;&nbsp;&nbsp;&nbsp;&nbsp;&nbsp;&nbsp;&nbsp;&nbsp;&nbsp;&nbsp;&nbsp;&nbsp;&nbsp;&nbsp;&nbsp;&nbsp;&nbsp;&nbsp;&nbsp;&nbsp;&nbsp;&nbsp;&nbsp;ABC<br>\n",
    "Music: XYZ</i><br><br>\n",
    "\n"
   ]
  },
  {
   "cell_type": "markdown",
   "id": "70a9a1a2-0db4-4332-ba13-448b12d4d0da",
   "metadata": {},
   "source": [
    "template_file = \"end_credits_template_jp.ass\" # a template used everytime, txt_file below would be inserted\n",
    "txt_file = \"contributors.txt\" #insert the content of this to the template above\n",
    "output_file = \"end_credits.ass\" # This includes the above two files\n",
    "width, height = get_media_dimensions(main_video)\n",
    "#create an ass file\n",
    "end_credits_ass(template_file, txt_file, output_file, width, height,\n",
    "                   first_start=\"0:00:1.40\", each_duration_s=6.0,\n",
    "                   line_offset_s=0.60,\n",
    "                   fallback_duration_s=4.0)\n",
    "#embed the ass file to the video\n",
    "ass_file = output_file\n",
    "song_file = \"media_files/Mozart.wav\"\n",
    "output_file = \"end_credits_video.mov\"\n",
    "create_ending_film(ass_file, song_file, output_file, width, height,\n",
    "                       volume=1.0, end_second=5, fadein=5, fadeout=10,\n",
    "                       bg_video=None,video_fadeout=4)"
   ]
  },
  {
   "cell_type": "markdown",
   "id": "54fa758e-bad9-44ba-9b93-3d4c2d474ed4",
   "metadata": {},
   "source": [
    "from video_commands import * \n",
    "main_video = \"B0815_4letter.mov\"\n",
    "template_file = \"end_subtitle_template_jp.ass\" # a template used everytime, txt_file below would be inserted\n",
    "txt_file = \"contributors.txt\" #insert the content of this to the template above\n",
    "output_file = \"end_credits_jp.ass\" # This includes the above two files\n",
    "width, height = get_media_dimensions(main_video)\n",
    "#create an ass file\n",
    "end_credits_ass(template_file, txt_file, output_file, width, height,\n",
    "                   first_start=\"0:00:1.40\", each_duration_s=6.0,\n",
    "                   line_offset_s=0.60,\n",
    "                   fallback_duration_s=4.0)\n"
   ]
  },
  {
   "cell_type": "markdown",
   "id": "42144fb0-46a5-466f-a927-9b10ce207359",
   "metadata": {},
   "source": [
    "from video_commands import * \n",
    "#embed the ass file to the video\n",
    "ass_file = \"end_credits_jp.ass\"\n",
    "song_file = \"music/end_song.mp3\"\n",
    "output_file = \"end_film_jp.mov\"\n",
    "volume = 3\n",
    "create_ending_film(ass_file, song_file, output_file, width, height,\n",
    "                       volume=volume, end_second=5, fadein=5, fadeout=5,\n",
    "                       bg_video=None,video_fadeout=4)"
   ]
  },
  {
   "cell_type": "code",
   "execution_count": 6,
   "id": "0f154000-bf39-43be-b2b9-056e86033059",
   "metadata": {},
   "outputs": [],
   "source": [
    "from video_commands import * \n",
    "main_video = \"B0815_4letter.mov\"\n",
    "template_file = \"end_subtitle_template.ass\" # a template used everytime, txt_file below would be inserted\n",
    "txt_file = \"contributors_zh.txt\" #insert the content of this to the template above\n",
    "output_file = \"end_credits_zh.ass\" # This includes the above two files\n",
    "width, height = get_media_dimensions(main_video)\n",
    "#create an ass file\n",
    "end_credits_ass(template_file, txt_file, output_file, width, height,\n",
    "                   first_start=\"0:00:1.40\", each_duration_s=6.0,\n",
    "                   line_offset_s=0.60,\n",
    "                   fallback_duration_s=4.0)\n"
   ]
  },
  {
   "cell_type": "code",
   "execution_count": 7,
   "id": "9a838a3f-f334-43ab-ab72-8a5da875ad99",
   "metadata": {},
   "outputs": [
    {
     "name": "stdin",
     "output_type": "stream",
     "text": [
      "end_film_jp.mov already exists. Delete it? [y/N]:  y\n"
     ]
    },
    {
     "name": "stdout",
     "output_type": "stream",
     "text": [
      "Deleted end_film_jp.mov. Continuing...\n",
      "FFmpeg command:\n",
      " ffmpeg -y -f lavfi -i color=c=black:s=854x480:d=57.04 -i music/end_song.mp3 -filter_complex color=c=black:s=854x480:d=57.04[v0];[v0]subtitles=end_credits_jp.ass[v];[1:a]volume=3,afade=t=in:ss=0:d=5,afade=t=out:st=52.04:d=5[a] -map [v] -map [a] -c:v libx264 -c:a aac -shortest end_film_jp.mov\n"
     ]
    },
    {
     "name": "stderr",
     "output_type": "stream",
     "text": [
      "ffmpeg version 8.0 Copyright (c) 2000-2025 the FFmpeg developers\n",
      "  built with Apple clang version 15.0.0 (clang-1500.1.0.2.5)\n",
      "  configuration: --prefix=/usr/local/Cellar/ffmpeg/8.0 --enable-shared --enable-pthreads --enable-version3 --cc=clang --host-cflags= --host-ldflags='-Wl,-ld_classic' --enable-ffplay --enable-gnutls --enable-gpl --enable-libaom --enable-libaribb24 --enable-libbluray --enable-libdav1d --enable-libharfbuzz --enable-libjxl --enable-libmp3lame --enable-libopus --enable-librav1e --enable-librist --enable-librubberband --enable-libsnappy --enable-libsrt --enable-libssh --enable-libsvtav1 --enable-libtesseract --enable-libtheora --enable-libvidstab --enable-libvmaf --enable-libvorbis --enable-libvpx --enable-libwebp --enable-libx264 --enable-libx265 --enable-libxml2 --enable-libxvid --enable-lzma --enable-libfontconfig --enable-libfreetype --enable-frei0r --enable-libass --enable-libopencore-amrnb --enable-libopencore-amrwb --enable-libopenjpeg --enable-libspeex --enable-libsoxr --enable-libzmq --enable-libzimg --disable-libjack --disable-indev=jack --enable-videotoolbox --enable-audiotoolbox\n",
      "  libavutil      60.  8.100 / 60.  8.100\n",
      "  libavcodec     62. 11.100 / 62. 11.100\n",
      "  libavformat    62.  3.100 / 62.  3.100\n",
      "  libavdevice    62.  1.100 / 62.  1.100\n",
      "  libavfilter    11.  4.100 / 11.  4.100\n",
      "  libswscale      9.  1.100 /  9.  1.100\n",
      "  libswresample   6.  1.100 /  6.  1.100\n",
      "[Parsed_subtitles_1 @ 0x7fa638f04f80] libass API version: 0x1704000\n",
      "[Parsed_subtitles_1 @ 0x7fa638f04f80] libass source: tarball: 0.17.4\n",
      "[Parsed_subtitles_1 @ 0x7fa638f04f80] Shaper: FriBidi 1.0.16 (SIMPLE) HarfBuzz-ng 11.4.4 (COMPLEX)\n",
      "[Parsed_subtitles_1 @ 0x7fa638f04f80] Using font provider coretext\n",
      "Input #0, lavfi, from 'color=c=black:s=854x480:d=57.04':\n",
      "  Duration: N/A, start: 0.000000, bitrate: N/A\n",
      "  Stream #0:0: Video: wrapped_avframe, yuv420p, 854x480 [SAR 1:1 DAR 427:240], 25 fps, 25 tbr, 25 tbn\n",
      "[mp3 @ 0x7fa639e05180] Estimating duration from bitrate, this may be inaccurate\n",
      "Input #1, mp3, from 'music/end_song.mp3':\n",
      "  Metadata:\n",
      "    date            : 2014-04-15 19:59\n",
      "    id3v2_priv.XMP  : <?xpacket begin=\"\\xef\\xbb\\xbf\" id=\"W5M0MpCehiHzreSzNTczkc9d\"?>\\x0a<x:xmpmeta xmlns:x=\"adobe:ns:meta/\" x:xmptk=\"Adobe XMP Core 5.5-c021 79.155241, 2013/11/25-21:10:40        \">\\x0a <rdf:RDF xmlns:rdf=\"http://www.w3.org/1999/02/22-rdf-syntax-ns#\">\\x0a  <rdf\n",
      "  Duration: 00:02:27.29, start: 0.000000, bitrate: 320 kb/s\n",
      "  Stream #1:0: Audio: mp3 (mp3float), 44100 Hz, stereo, fltp, 320 kb/s\n",
      "Stream mapping:\n",
      "  Stream #1:0 (mp3float) -> volume:default\n",
      "  subtitles:default -> Stream #0:0 (libx264)\n",
      "  afade:default -> Stream #0:1 (aac)\n",
      "Press [q] to stop, [?] for help\n",
      "[Parsed_subtitles_1 @ 0x7fa638f07840] libass API version: 0x1704000\n",
      "[Parsed_subtitles_1 @ 0x7fa638f07840] libass source: tarball: 0.17.4\n",
      "[Parsed_subtitles_1 @ 0x7fa638f07840] Shaper: FriBidi 1.0.16 (SIMPLE) HarfBuzz-ng 11.4.4 (COMPLEX)\n",
      "[Parsed_subtitles_1 @ 0x7fa638f07840] Using font provider coretext\n",
      "[libx264 @ 0x7fa639906d00] using SAR=1/1\n",
      "[libx264 @ 0x7fa639906d00] using cpu capabilities: MMX2 SSE2Fast SSSE3 SSE4.2 AVX FMA3 BMI2 AVX2\n",
      "[libx264 @ 0x7fa639906d00] profile High, level 3.0, 4:2:0, 8-bit\n",
      "[libx264 @ 0x7fa639906d00] 264 - core 164 r3108 31e19f9 - H.264/MPEG-4 AVC codec - Copyleft 2003-2023 - http://www.videolan.org/x264.html - options: cabac=1 ref=3 deblock=1:0:0 analyse=0x3:0x113 me=hex subme=7 psy=1 psy_rd=1.00:0.00 mixed_ref=1 me_range=16 chroma_me=1 trellis=1 8x8dct=1 cqm=0 deadzone=21,11 fast_pskip=1 chroma_qp_offset=-2 threads=6 lookahead_threads=1 sliced_threads=0 nr=0 decimate=1 interlaced=0 bluray_compat=0 constrained_intra=0 bframes=3 b_pyramid=2 b_adapt=1 b_bias=0 direct=1 weightb=1 open_gop=0 weightp=2 keyint=250 keyint_min=25 scenecut=40 intra_refresh=0 rc_lookahead=40 rc=crf mbtree=1 crf=23.0 qcomp=0.60 qpmin=0 qpmax=69 qpstep=4 ip_ratio=1.40 aq=1:1.00\n",
      "Output #0, mov, to 'end_film_jp.mov':\n",
      "  Metadata:\n",
      "    encoder         : Lavf62.3.100\n",
      "  Stream #0:0: Video: h264 (avc1 / 0x31637661), yuv420p(tv, progressive), 854x480 [SAR 1:1 DAR 427:240], q=2-31, 25 fps, 12800 tbn\n",
      "    Metadata:\n",
      "      encoder         : Lavc62.11.100 libx264\n",
      "    Side data:\n",
      "      cpb: bitrate max/min/avg: 0/0/0 buffer size: 0 vbv_delay: N/A\n",
      "  Stream #0:1: Audio: aac (LC) (mp4a / 0x6134706D), 44100 Hz, stereo, fltp, 128 kb/s\n",
      "    Metadata:\n",
      "      encoder         : Lavc62.11.100 aac\n",
      "[Parsed_subtitles_1 @ 0x7fa638f07840] fontselect: (Arial, 400, 0) -> /System/Library/Fonts/Supplemental/Arial.ttf, -1, ArialMT\n",
      "[Parsed_subtitles_1 @ 0x7fa638f07840] Glyph 0x76E3 not found, selecting one more font for (Arial, 400, 0)\n",
      "[Parsed_subtitles_1 @ 0x7fa638f07840] fontselect: (Arial, 400, 0) -> /System/Library/Fonts/ヒラギノ角ゴシック W4.ttc, -1, HiraginoSans-W4\n",
      "[out#0/mov @ 0x7fa6398064c0] video:346KiB audio:898KiB subtitle:0KiB other streams:0KiB global headers:0KiB muxing overhead: 3.829129%\n",
      "frame= 1426 fps=180 q=-1.0 Lsize=    1291KiB time=00:00:56.96 bitrate= 185.7kbits/s speed=7.18x elapsed=0:00:07.93    \n",
      "[libx264 @ 0x7fa639906d00] frame I:10    Avg QP: 8.67  size:  5532\n",
      "[libx264 @ 0x7fa639906d00] frame P:506   Avg QP:14.54  size:   491\n",
      "[libx264 @ 0x7fa639906d00] frame B:910   Avg QP:13.25  size:    55\n",
      "[libx264 @ 0x7fa639906d00] consecutive B-frames:  7.6% 18.5% 10.5% 63.4%\n",
      "[libx264 @ 0x7fa639906d00] mb I  I16..4: 85.0%  9.5%  5.5%\n",
      "[libx264 @ 0x7fa639906d00] mb P  I16..4:  0.1%  0.1%  0.0%  P16..4:  2.2%  0.5%  0.2%  0.0%  0.0%    skip:96.9%\n",
      "[libx264 @ 0x7fa639906d00] mb B  I16..4:  0.0%  0.0%  0.0%  B16..8:  1.3%  0.1%  0.0%  direct: 0.0%  skip:98.5%  L0:57.2% L1:40.7% BI: 2.1%\n",
      "[libx264 @ 0x7fa639906d00] 8x8 transform intra:12.2% inter:16.1%\n",
      "[libx264 @ 0x7fa639906d00] coded y,uvDC,uvAC intra: 3.8% 0.0% 0.0% inter: 0.3% 0.0% 0.0%\n",
      "[libx264 @ 0x7fa639906d00] i16 v,h,dc,p: 91%  5%  4%  0%\n",
      "[libx264 @ 0x7fa639906d00] i8 v,h,dc,ddl,ddr,vr,hd,vl,hu: 50% 12% 37%  0%  0%  0%  0%  0%  0%\n",
      "[libx264 @ 0x7fa639906d00] i4 v,h,dc,ddl,ddr,vr,hd,vl,hu: 35% 24% 22%  3%  3%  3%  3%  4%  3%\n",
      "[libx264 @ 0x7fa639906d00] i8c dc,h,v,p: 100%  0%  0%  0%\n",
      "[libx264 @ 0x7fa639906d00] Weighted P-Frames: Y:0.4% UV:0.0%\n",
      "[libx264 @ 0x7fa639906d00] ref P L0: 84.2%  3.9%  7.7%  4.2%\n",
      "[libx264 @ 0x7fa639906d00] ref B L0: 87.5%  9.4%  3.1%\n",
      "[libx264 @ 0x7fa639906d00] ref B L1: 98.3%  1.7%\n",
      "[libx264 @ 0x7fa639906d00] kb/s:49.64\n",
      "[aac @ 0x7fa639908100] Qavg: 616.505\n"
     ]
    }
   ],
   "source": [
    "from video_commands import * \n",
    "#embed the ass file to the video\n",
    "ass_file = \"end_credits_jp.ass\"\n",
    "song_file = \"music/end_song.mp3\"\n",
    "output_file = \"end_film_jp.mov\"\n",
    "volume = 3\n",
    "create_ending_film(ass_file, song_file, output_file, width, height,\n",
    "                       volume=volume, end_second=5, fadein=5, fadeout=5,\n",
    "                       bg_video=None,video_fadeout=4)"
   ]
  },
  {
   "cell_type": "markdown",
   "id": "c850e229-96da-4c30-9e21-ea23c400e7d0",
   "metadata": {},
   "source": [
    "## final concatenation\n"
   ]
  },
  {
   "cell_type": "markdown",
   "id": "193633f4-ac72-413f-8c0b-1e5cb9251fce",
   "metadata": {},
   "source": [
    "main_video = \"marines_subtitle.mov\"\n",
    "video_list = [main_video,\"end_credits_video.mov\"]\n",
    "output_file = \"marines_5min_final.mov\"\n",
    "combine_video(video_list, primary_index=1, output_file=output_file, crf=23, preset=\"fast\")"
   ]
  },
  {
   "cell_type": "code",
   "execution_count": null,
   "id": "5f7dae3a-0a36-4fdf-a565-2412319c215c",
   "metadata": {},
   "outputs": [
    {
     "name": "stdout",
     "output_type": "stream",
     "text": [
      "Temp directory:The history saving thread hit an unexpected error (OperationalError('attempt to write a readonly database')).History will not be written to the database.\n",
      " /var/folders/9g/509r85b95jz43885pc6n7zlr0000gn/T/tmpjq0d9oyd\n",
      "Get main video's codec: \n",
      " ffprobe -v error -select_streams v:0 -show_entries stream=width,height,r_frame_rate,duration -of json end_film_jp.mov\n",
      "Re-encode to PCM: \n",
      " ffmpeg -y -i end_film_jp.mov -r 25.0 -c:v libx264 -c:a pcm_s16le -ar 44100 -ac 2 -preset veryfast -crf 23 end_film_jp_tmp.mov\n",
      "⚡ Re-encoding with audio: end_film_jp.mov → end_film_jp_tmp.mov\n"
     ]
    },
    {
     "name": "stderr",
     "output_type": "stream",
     "text": [
      "ffmpeg version 8.0 Copyright (c) 2000-2025 the FFmpeg developers\n",
      "  built with Apple clang version 15.0.0 (clang-1500.1.0.2.5)\n",
      "  configuration: --prefix=/usr/local/Cellar/ffmpeg/8.0 --enable-shared --enable-pthreads --enable-version3 --cc=clang --host-cflags= --host-ldflags='-Wl,-ld_classic' --enable-ffplay --enable-gnutls --enable-gpl --enable-libaom --enable-libaribb24 --enable-libbluray --enable-libdav1d --enable-libharfbuzz --enable-libjxl --enable-libmp3lame --enable-libopus --enable-librav1e --enable-librist --enable-librubberband --enable-libsnappy --enable-libsrt --enable-libssh --enable-libsvtav1 --enable-libtesseract --enable-libtheora --enable-libvidstab --enable-libvmaf --enable-libvorbis --enable-libvpx --enable-libwebp --enable-libx264 --enable-libx265 --enable-libxml2 --enable-libxvid --enable-lzma --enable-libfontconfig --enable-libfreetype --enable-frei0r --enable-libass --enable-libopencore-amrnb --enable-libopencore-amrwb --enable-libopenjpeg --enable-libspeex --enable-libsoxr --enable-libzmq --enable-libzimg --disable-libjack --disable-indev=jack --enable-videotoolbox --enable-audiotoolbox\n",
      "  libavutil      60.  8.100 / 60.  8.100\n",
      "  libavcodec     62. 11.100 / 62. 11.100\n",
      "  libavformat    62.  3.100 / 62.  3.100\n",
      "  libavdevice    62.  1.100 / 62.  1.100\n",
      "  libavfilter    11.  4.100 / 11.  4.100\n",
      "  libswscale      9.  1.100 /  9.  1.100\n",
      "  libswresample   6.  1.100 /  6.  1.100\n",
      "Input #0, mov,mp4,m4a,3gp,3g2,mj2, from 'end_film_jp.mov':\n",
      "  Metadata:\n",
      "    major_brand     : qt  \n",
      "    minor_version   : 512\n",
      "    compatible_brands: qt  \n",
      "    encoder         : Lavf62.3.100\n",
      "  Duration: 00:00:57.04, start: 0.000000, bitrate: 185 kb/s\n",
      "  Stream #0:0[0x1]: Video: h264 (High) (avc1 / 0x31637661), yuv420p(progressive), 854x480 [SAR 1:1 DAR 427:240], 49 kb/s, 25 fps, 25 tbr, 12800 tbn (default)\n",
      "    Metadata:\n",
      "      handler_name    : VideoHandler\n",
      "      vendor_id       : FFMP\n",
      "      encoder         : Lavc62.11.100 libx264\n",
      "  Stream #0:1[0x2]: Audio: aac (LC) (mp4a / 0x6134706D), 44100 Hz, stereo, fltp, 128 kb/s (default)\n",
      "    Metadata:\n",
      "      handler_name    : SoundHandler\n",
      "      vendor_id       : [0][0][0][0]\n",
      "Stream mapping:\n",
      "  Stream #0:0 -> #0:0 (h264 (native) -> h264 (libx264))\n",
      "  Stream #0:1 -> #0:1 (aac (native) -> pcm_s16le (native))\n",
      "Press [q] to stop, [?] for help\n",
      "[libx264 @ 0x7fd4b6906d40] using SAR=1/1\n",
      "[libx264 @ 0x7fd4b6906d40] using cpu capabilities: MMX2 SSE2Fast SSSE3 SSE4.2 AVX FMA3 BMI2 AVX2\n",
      "[libx264 @ 0x7fd4b6906d40] profile High, level 3.0, 4:2:0, 8-bit\n",
      "[libx264 @ 0x7fd4b6906d40] 264 - core 164 r3108 31e19f9 - H.264/MPEG-4 AVC codec - Copyleft 2003-2023 - http://www.videolan.org/x264.html - options: cabac=1 ref=1 deblock=1:0:0 analyse=0x3:0x113 me=hex subme=2 psy=1 psy_rd=1.00:0.00 mixed_ref=0 me_range=16 chroma_me=1 trellis=0 8x8dct=1 cqm=0 deadzone=21,11 fast_pskip=1 chroma_qp_offset=0 threads=6 lookahead_threads=2 sliced_threads=0 nr=0 decimate=1 interlaced=0 bluray_compat=0 constrained_intra=0 bframes=3 b_pyramid=2 b_adapt=1 b_bias=0 direct=1 weightb=1 open_gop=0 weightp=1 keyint=250 keyint_min=25 scenecut=40 intra_refresh=0 rc_lookahead=10 rc=crf mbtree=1 crf=23.0 qcomp=0.60 qpmin=0 qpmax=69 qpstep=4 ip_ratio=1.40 aq=1:1.00\n",
      "Output #0, mov, to 'end_film_jp_tmp.mov':\n",
      "  Metadata:\n",
      "    major_brand     : qt  \n",
      "    minor_version   : 512\n",
      "    compatible_brands: qt  \n",
      "    encoder         : Lavf62.3.100\n",
      "  Stream #0:0: Video: h264 (avc1 / 0x31637661), yuv420p(tv, progressive), 854x480 [SAR 1:1 DAR 427:240], q=2-31, 25 fps, 12800 tbn (default)\n",
      "    Metadata:\n",
      "      encoder         : Lavc62.11.100 libx264\n",
      "      handler_name    : VideoHandler\n",
      "      vendor_id       : FFMP\n",
      "    Side data:\n",
      "      cpb: bitrate max/min/avg: 0/0/0 buffer size: 0 vbv_delay: N/A\n",
      "  Stream #0:1: Audio: pcm_s16le (sowt / 0x74776F73), 44100 Hz, stereo, s16, 1411 kb/s (default)\n",
      "    Metadata:\n",
      "      encoder         : Lavc62.11.100 pcm_s16le\n",
      "      handler_name    : SoundHandler\n",
      "      vendor_id       : [0][0][0][0]\n",
      "[out#0/mov @ 0x7fd4b6905380] video:301KiB audio:9824KiB subtitle:0KiB other streams:0KiB global headers:0KiB muxing overhead: 0.370418%\n",
      "frame= 1426 fps=304 q=-1.0 Lsize=   10163KiB time=00:00:56.96 bitrate=1461.6kbits/s speed=12.1x elapsed=0:00:04.69    \n",
      "[libx264 @ 0x7fd4b6906d40] frame I:10    Avg QP: 8.19  size:  5070\n",
      "[libx264 @ 0x7fd4b6906d40] frame P:534   Avg QP:12.28  size:   392\n",
      "[libx264 @ 0x7fd4b6906d40] frame B:882   Avg QP:13.18  size:    55\n",
      "[libx264 @ 0x7fd4b6906d40] consecutive B-frames:  9.5% 19.9% 12.2% 58.3%\n",
      "[libx264 @ 0x7fd4b6906d40] mb I  I16..4: 94.5%  0.0%  5.5%\n",
      "[libx264 @ 0x7fd4b6906d40] mb P  I16..4:  0.4%  0.0%  0.0%  P16..4:  1.5%  0.4%  0.1%  0.0%  0.0%    skip:97.6%\n",
      "[libx264 @ 0x7fd4b6906d40] mb B  I16..4:  0.1%  0.0%  0.0%  B16..8:  0.9%  0.2%  0.0%  direct: 0.0%  skip:98.9%  L0:56.8% L1:39.4% BI: 3.8%\n",
      "[libx264 @ 0x7fd4b6906d40] 8x8 transform intra:0.1% inter:12.8%\n",
      "[libx264 @ 0x7fd4b6906d40] coded y,uvDC,uvAC intra: 4.6% 0.0% 0.0% inter: 0.3% 0.0% 0.0%\n",
      "[libx264 @ 0x7fd4b6906d40] i16 v,h,dc,p: 87%  9%  4%  0%\n",
      "[libx264 @ 0x7fd4b6906d40] i8 v,h,dc,ddl,ddr,vr,hd,vl,hu: 18% 34% 32%  3%  3%  0%  3%  0%  8%\n",
      "[libx264 @ 0x7fd4b6906d40] i4 v,h,dc,ddl,ddr,vr,hd,vl,hu: 34% 24% 21%  4%  3%  3%  3%  4%  4%\n",
      "[libx264 @ 0x7fd4b6906d40] i8c dc,h,v,p: 100%  0%  0%  0%\n",
      "[libx264 @ 0x7fd4b6906d40] Weighted P-Frames: Y:0.4% UV:0.0%\n",
      "[libx264 @ 0x7fd4b6906d40] kb/s:43.17\n"
     ]
    },
    {
     "name": "stdout",
     "output_type": "stream",
     "text": [
      "new width height: 854 480\n",
      "Rescaling video \n",
      ": ffmpeg -y -i end_film_jp_tmp.mov -vf scale=854:480,pad=854:480:0:0:black -c:v libx264 -preset veryfast -crf 23 -c:a copy end_film_jp_reencoded.mov\n",
      "ffmpeg version 8.0 Copyright (c) 2000-2025 the FFmpeg developers\n",
      "  built with Apple clang version 15.0.0 (clang-1500.1.0.2.5)\n",
      "  configuration: --prefix=/usr/local/Cellar/ffmpeg/8.0 --enable-shared --enable-pthreads --enable-version3 --cc=clang --host-cflags= --host-ldflags='-Wl,-ld_classic' --enable-ffplay --enable-gnutls --enable-gpl --enable-libaom --enable-libaribb24 --enable-libbluray --enable-libdav1d --enable-libharfbuzz --enable-libjxl --enable-libmp3lame --enable-libopus --enable-librav1e --enable-librist --enable-librubberband --enable-libsnappy --enable-libsrt --enable-libssh --enable-libsvtav1 --enable-libtesseract --enable-libtheora --enable-libvidstab --enable-libvmaf --enable-libvorbis --enable-libvpx --enable-libwebp --enable-libx264 --enable-libx265 --enable-libxml2 --enable-libxvid --enable-lzma --enable-libfontconfig --enable-libfreetype --enable-frei0r --enable-libass --enable-libopencore-amrnb --enable-libopencore-amrwb --enable-libopenjpeg --enable-libspeex --enable-libsoxr --enable-libzmq --enable-libzimg --disable-libjack --disable-indev=jack --enable-videotoolbox --enable-audiotoolbox\n",
      "  libavutil      60.  8.100 / 60.  8.100\n",
      "  libavcodec     62. 11.100 / 62. 11.100\n",
      "  libavformat    62.  3.100 / 62.  3.100\n",
      "  libavdevice    62.  1.100 / 62.  1.100\n",
      "  libavfilter    11.  4.100 / 11.  4.100\n",
      "  libswscale      9.  1.100 /  9.  1.100\n",
      "  libswresample   6.  1.100 /  6.  1.100\n",
      "Input #0, mov,mp4,m4a,3gp,3g2,mj2, from 'end_film_jp_tmp.mov':\n",
      "  Metadata:\n",
      "    major_brand     : qt  \n",
      "    minor_version   : 512\n",
      "    compatible_brands: qt  \n",
      "    encoder         : Lavf62.3.100\n",
      "  Duration: 00:00:57.04, start: 0.000000, bitrate: 1459 kb/s\n",
      "  Stream #0:0[0x1]: Video: h264 (High) (avc1 / 0x31637661), yuv420p(progressive), 854x480 [SAR 1:1 DAR 427:240], 43 kb/s, 25 fps, 25 tbr, 12800 tbn (default)\n",
      "    Metadata:\n",
      "      handler_name    : VideoHandler\n",
      "      vendor_id       : FFMP\n",
      "      encoder         : Lavc62.11.100 libx264\n",
      "  Stream #0:1[0x2]: Audio: pcm_s16le (sowt / 0x74776F73), 44100 Hz, stereo, s16, 1411 kb/s (default)\n",
      "    Metadata:\n",
      "      handler_name    : SoundHandler\n",
      "      vendor_id       : [0][0][0][0]\n",
      "Stream mapping:\n",
      "  Stream #0:0 -> #0:0 (h264 (native) -> h264 (libx264))\n",
      "  Stream #0:1 -> #0:1 (copy)\n",
      "Press [q] to stop, [?] for help\n",
      "[libx264 @ 0x7fa277f06700] using SAR=1/1\n",
      "[libx264 @ 0x7fa277f06700] using cpu capabilities: MMX2 SSE2Fast SSSE3 SSE4.2 AVX FMA3 BMI2 AVX2\n",
      "[libx264 @ 0x7fa277f06700] profile High, level 3.0, 4:2:0, 8-bit\n",
      "[libx264 @ 0x7fa277f06700] 264 - core 164 r3108 31e19f9 - H.264/MPEG-4 AVC codec - Copyleft 2003-2023 - http://www.videolan.org/x264.html - options: cabac=1 ref=1 deblock=1:0:0 analyse=0x3:0x113 me=hex subme=2 psy=1 psy_rd=1.00:0.00 mixed_ref=0 me_range=16 chroma_me=1 trellis=0 8x8dct=1 cqm=0 deadzone=21,11 fast_pskip=1 chroma_qp_offset=0 threads=6 lookahead_threads=2 sliced_threads=0 nr=0 decimate=1 interlaced=0 bluray_compat=0 constrained_intra=0 bframes=3 b_pyramid=2 b_adapt=1 b_bias=0 direct=1 weightb=1 open_gop=0 weightp=1 keyint=250 keyint_min=25 scenecut=40 intra_refresh=0 rc_lookahead=10 rc=crf mbtree=1 crf=23.0 qcomp=0.60 qpmin=0 qpmax=69 qpstep=4 ip_ratio=1.40 aq=1:1.00\n",
      "Output #0, mov, to 'end_film_jp_reencoded.mov':\n",
      "  Metadata:\n",
      "    major_brand     : qt  \n",
      "    minor_version   : 512\n",
      "    compatible_brands: qt  \n",
      "    encoder         : Lavf62.3.100\n",
      "  Stream #0:0: Video: h264 (avc1 / 0x31637661), yuv420p(tv, progressive), 854x480 [SAR 1:1 DAR 427:240], q=2-31, 25 fps, 12800 tbn (default)\n",
      "    Metadata:\n",
      "      encoder         : Lavc62.11.100 libx264\n",
      "      handler_name    : VideoHandler\n",
      "      vendor_id       : FFMP\n",
      "    Side data:\n",
      "      cpb: bitrate max/min/avg: 0/0/0 buffer size: 0 vbv_delay: N/A\n",
      "  Stream #0:1: Audio: pcm_s16le (sowt / 0x74776F73), 44100 Hz, stereo, s16, 1411 kb/s (default)\n",
      "    Metadata:\n",
      "      handler_name    : SoundHandler\n",
      "      vendor_id       : [0][0][0][0]\n",
      "frame=  145 fps=0.0 q=28.0 size=     768KiB time=00:00:05.72 bitrate=1100.0kbits/s speed=11.3x elapsed=0:00:00.50    \n",
      "frame=  328 fps=327 q=28.0 size=    2304KiB time=00:00:13.04 bitrate=1447.4kbits/s speed=  13x elapsed=0:00:01.00    \n",
      "frame=  489 fps=324 q=28.0 size=    3328KiB time=00:00:19.48 bitrate=1399.6kbits/s speed=12.9x elapsed=0:00:01.50    \n",
      "frame=  649 fps=322 q=28.0 size=    4608KiB time=00:00:25.88 bitrate=1458.6kbits/s speed=12.9x elapsed=0:00:02.01    \n",
      "frame=  815 fps=324 q=28.0 size=    5632KiB time=00:00:32.52 bitrate=1418.7kbits/s speed=12.9x elapsed=0:00:02.51    \n",
      "frame=  980 fps=325 q=28.0 size=    6912KiB time=00:00:39.12 bitrate=1447.4kbits/s speed=  13x elapsed=0:00:03.01    \n",
      "frame= 1117 fps=318 q=28.0 size=    7936KiB time=00:00:44.60 bitrate=1457.7kbits/s speed=12.7x elapsed=0:00:03.51    \n",
      "frame= 1309 fps=325 q=28.0 size=    9216KiB time=00:00:52.28 bitrate=1444.1kbits/s speed=  13x elapsed=0:00:04.02    \n",
      "[out#0/mov @ 0x7fa277f05400] video:280KiB audio:9824KiB subtitle:0KiB other streams:0KiB global headers:0KiB muxing overhead: 0.371575%\n",
      "frame= 1426 fps=332 q=-1.0 Lsize=   10142KiB time=00:00:56.96 bitrate=1458.6kbits/s speed=13.2x elapsed=0:00:04.30    \n",
      "[libx264 @ 0x7fa277f06700] frame I:10    Avg QP: 8.43  size:  5069\n",
      "[libx264 @ 0x7fa277f06700] frame P:530   Avg QP:11.99  size:   358\n",
      "[libx264 @ 0x7fa277f06700] frame B:886   Avg QP:13.22  size:    52\n",
      "[libx264 @ 0x7fa277f06700] consecutive B-frames:  9.0% 19.8% 13.7% 57.5%\n",
      "[libx264 @ 0x7fa277f06700] mb I  I16..4: 94.5%  0.0%  5.5%\n",
      "[libx264 @ 0x7fa277f06700] mb P  I16..4:  0.3%  0.0%  0.0%  P16..4:  1.5%  0.4%  0.1%  0.0%  0.0%    skip:97.6%\n",
      "[libx264 @ 0x7fa277f06700] mb B  I16..4:  0.1%  0.0%  0.0%  B16..8:  0.8%  0.2%  0.0%  direct: 0.0%  skip:98.9%  L0:59.2% L1:38.6% BI: 2.2%\n",
      "[libx264 @ 0x7fa277f06700] 8x8 transform intra:0.1% inter:13.4%\n",
      "[libx264 @ 0x7fa277f06700] coded y,uvDC,uvAC intra: 5.0% 0.0% 0.0% inter: 0.3% 0.0% 0.0%\n",
      "[libx264 @ 0x7fa277f06700] i16 v,h,dc,p: 88%  8%  4%  0%\n",
      "[libx264 @ 0x7fa277f06700] i8 v,h,dc,ddl,ddr,vr,hd,vl,hu: 23% 24% 39%  1%  3%  2%  1%  0%  7%\n",
      "[libx264 @ 0x7fa277f06700] i4 v,h,dc,ddl,ddr,vr,hd,vl,hu: 34% 24% 20%  4%  3%  3%  3%  4%  4%\n",
      "[libx264 @ 0x7fa277f06700] i8c dc,h,v,p: 100%  0%  0%  0%\n",
      "[libx264 @ 0x7fa277f06700] Weighted P-Frames: Y:0.4% UV:0.0%\n",
      "[libx264 @ 0x7fa277f06700] kb/s:40.16\n",
      "Successfully created end_film_jp_reencoded.mov\n",
      "⚡ Padding audio to match video: end_film_jp_reencoded.mov → end_film_jp_reencoded_padded.mov\n",
      "Pad/truncate audio to match video duration: \n",
      " ffmpeg -y -i end_film_jp_reencoded.mov -c:v copy -af apad,atrim=0:57.040000 end_film_jp_reencoded_padded.mov\n"
     ]
    },
    {
     "name": "stderr",
     "output_type": "stream",
     "text": [
      "ffmpeg version 8.0 Copyright (c) 2000-2025 the FFmpeg developers\n",
      "  built with Apple clang version 15.0.0 (clang-1500.1.0.2.5)\n",
      "  configuration: --prefix=/usr/local/Cellar/ffmpeg/8.0 --enable-shared --enable-pthreads --enable-version3 --cc=clang --host-cflags= --host-ldflags='-Wl,-ld_classic' --enable-ffplay --enable-gnutls --enable-gpl --enable-libaom --enable-libaribb24 --enable-libbluray --enable-libdav1d --enable-libharfbuzz --enable-libjxl --enable-libmp3lame --enable-libopus --enable-librav1e --enable-librist --enable-librubberband --enable-libsnappy --enable-libsrt --enable-libssh --enable-libsvtav1 --enable-libtesseract --enable-libtheora --enable-libvidstab --enable-libvmaf --enable-libvorbis --enable-libvpx --enable-libwebp --enable-libx264 --enable-libx265 --enable-libxml2 --enable-libxvid --enable-lzma --enable-libfontconfig --enable-libfreetype --enable-frei0r --enable-libass --enable-libopencore-amrnb --enable-libopencore-amrwb --enable-libopenjpeg --enable-libspeex --enable-libsoxr --enable-libzmq --enable-libzimg --disable-libjack --disable-indev=jack --enable-videotoolbox --enable-audiotoolbox\n",
      "  libavutil      60.  8.100 / 60.  8.100\n",
      "  libavcodec     62. 11.100 / 62. 11.100\n",
      "  libavformat    62.  3.100 / 62.  3.100\n",
      "  libavdevice    62.  1.100 / 62.  1.100\n",
      "  libavfilter    11.  4.100 / 11.  4.100\n",
      "  libswscale      9.  1.100 /  9.  1.100\n",
      "  libswresample   6.  1.100 /  6.  1.100\n",
      "Input #0, mov,mp4,m4a,3gp,3g2,mj2, from 'end_film_jp_reencoded.mov':\n",
      "  Metadata:\n",
      "    major_brand     : qt  \n",
      "    minor_version   : 512\n",
      "    compatible_brands: qt  \n",
      "    encoder         : Lavf62.3.100\n",
      "  Duration: 00:00:57.04, start: 0.000000, bitrate: 1456 kb/s\n",
      "  Stream #0:0[0x1]: Video: h264 (High) (avc1 / 0x31637661), yuv420p(progressive), 854x480 [SAR 1:1 DAR 427:240], 40 kb/s, 25 fps, 25 tbr, 12800 tbn (default)\n",
      "    Metadata:\n",
      "      handler_name    : VideoHandler\n",
      "      vendor_id       : FFMP\n",
      "      encoder         : Lavc62.11.100 libx264\n",
      "  Stream #0:1[0x2]: Audio: pcm_s16le (sowt / 0x74776F73), 44100 Hz, stereo, s16, 1411 kb/s (default)\n",
      "    Metadata:\n",
      "      handler_name    : SoundHandler\n",
      "      vendor_id       : [0][0][0][0]\n",
      "Stream mapping:\n",
      "  Stream #0:0 -> #0:0 (copy)\n",
      "  Stream #0:1 -> #0:1 (pcm_s16le (native) -> aac (native))\n",
      "Press [q] to stop, [?] for help\n",
      "Output #0, mov, to 'end_film_jp_reencoded_padded.mov':\n",
      "  Metadata:\n",
      "    major_brand     : qt  \n",
      "    minor_version   : 512\n",
      "    compatible_brands: qt  \n",
      "    encoder         : Lavf62.3.100\n",
      "  Stream #0:0: Video: h264 (High) (avc1 / 0x31637661), yuv420p(progressive), 854x480 [SAR 1:1 DAR 427:240], q=2-31, 40 kb/s, 25 fps, 25 tbr, 12800 tbn (default)\n",
      "    Metadata:\n",
      "      handler_name    : VideoHandler\n",
      "      vendor_id       : FFMP\n",
      "      encoder         : Lavc62.11.100 libx264\n",
      "  Stream #0:1: Audio: aac (LC) (mp4a / 0x6134706D), 44100 Hz, stereo, fltp, 128 kb/s (default)\n",
      "    Metadata:\n",
      "      encoder         : Lavc62.11.100 aac\n",
      "      handler_name    : SoundHandler\n",
      "      vendor_id       : [0][0][0][0]\n",
      "[out#0/mov @ 0x7f7a85a11d40] video:280KiB audio:896KiB subtitle:0KiB other streams:0KiB global headers:0KiB muxing overhead: 4.024354%\n",
      "frame= 1426 fps=342 q=-1.0 Lsize=    1223KiB time=00:00:56.96 bitrate= 176.0kbits/s speed=13.7x elapsed=0:00:04.16    \n",
      "[aac @ 0x7f7a85a11100] Qavg: 528.281\n"
     ]
    },
    {
     "name": "stdout",
     "output_type": "stream",
     "text": [
      "✅ Final re-encoded + padded file: end_film_jp_reencoded_padded.mov\n",
      "Get main video's codec: \n",
      " ffprobe -v error -select_streams v:0 -show_entries stream=width,height,r_frame_rate,duration -of json end_film_jp.mov\n",
      "Re-encode to PCM: \n",
      " ffmpeg -y -i beginning_ban.mp4 -r 25.0 -c:v libx264 -c:a pcm_s16le -ar 44100 -ac 2 -preset veryfast -crf 23 beginning_ban_tmp.mov\n",
      "⚡ Re-encoding with audio: beginning_ban.mp4 → beginning_ban_tmp.mov\n"
     ]
    },
    {
     "name": "stderr",
     "output_type": "stream",
     "text": [
      "ffmpeg version 8.0 Copyright (c) 2000-2025 the FFmpeg developers\n",
      "  built with Apple clang version 15.0.0 (clang-1500.1.0.2.5)\n",
      "  configuration: --prefix=/usr/local/Cellar/ffmpeg/8.0 --enable-shared --enable-pthreads --enable-version3 --cc=clang --host-cflags= --host-ldflags='-Wl,-ld_classic' --enable-ffplay --enable-gnutls --enable-gpl --enable-libaom --enable-libaribb24 --enable-libbluray --enable-libdav1d --enable-libharfbuzz --enable-libjxl --enable-libmp3lame --enable-libopus --enable-librav1e --enable-librist --enable-librubberband --enable-libsnappy --enable-libsrt --enable-libssh --enable-libsvtav1 --enable-libtesseract --enable-libtheora --enable-libvidstab --enable-libvmaf --enable-libvorbis --enable-libvpx --enable-libwebp --enable-libx264 --enable-libx265 --enable-libxml2 --enable-libxvid --enable-lzma --enable-libfontconfig --enable-libfreetype --enable-frei0r --enable-libass --enable-libopencore-amrnb --enable-libopencore-amrwb --enable-libopenjpeg --enable-libspeex --enable-libsoxr --enable-libzmq --enable-libzimg --disable-libjack --disable-indev=jack --enable-videotoolbox --enable-audiotoolbox\n",
      "  libavutil      60.  8.100 / 60.  8.100\n",
      "  libavcodec     62. 11.100 / 62. 11.100\n",
      "  libavformat    62.  3.100 / 62.  3.100\n",
      "  libavdevice    62.  1.100 / 62.  1.100\n",
      "  libavfilter    11.  4.100 / 11.  4.100\n",
      "  libswscale      9.  1.100 /  9.  1.100\n",
      "  libswresample   6.  1.100 /  6.  1.100\n",
      "Input #0, mov,mp4,m4a,3gp,3g2,mj2, from 'beginning_ban.mp4':\n",
      "  Metadata:\n",
      "    major_brand     : isom\n",
      "    minor_version   : 512\n",
      "    compatible_brands: isomiso2avc1mp41\n",
      "    encoder         : Lavf61.7.100\n",
      "  Duration: 00:00:11.05, start: 0.000000, bitrate: 482 kb/s\n",
      "  Stream #0:0[0x1](und): Video: h264 (Main) (avc1 / 0x31637661), yuv420p(tv, bt709, progressive), 640x360 [SAR 1:1 DAR 16:9], 275 kb/s, 29.97 fps, 29.97 tbr, 30k tbn (default)\n",
      "    Metadata:\n",
      "      handler_name    : ISO Media file produced by Google Inc.\n",
      "      vendor_id       : [0][0][0][0]\n",
      "  Stream #0:1[0x2](eng): Audio: aac (LC) (mp4a / 0x6134706D), 44100 Hz, stereo, fltp, 96 kb/s (default)\n",
      "    Metadata:\n",
      "      handler_name    : ISO Media file produced by Google Inc.\n",
      "      vendor_id       : [0][0][0][0]\n",
      "Stream mapping:\n",
      "  Stream #0:0 -> #0:0 (h264 (native) -> h264 (libx264))\n",
      "  Stream #0:1 -> #0:1 (aac (native) -> pcm_s16le (native))\n",
      "Press [q] to stop, [?] for help\n",
      "[libx264 @ 0x7fe2d2706bc0] using SAR=1/1\n",
      "[libx264 @ 0x7fe2d2706bc0] using cpu capabilities: MMX2 SSE2Fast SSSE3 SSE4.2 AVX FMA3 BMI2 AVX2\n",
      "[libx264 @ 0x7fe2d2706bc0] profile High, level 3.0, 4:2:0, 8-bit\n",
      "[libx264 @ 0x7fe2d2706bc0] 264 - core 164 r3108 31e19f9 - H.264/MPEG-4 AVC codec - Copyleft 2003-2023 - http://www.videolan.org/x264.html - options: cabac=1 ref=1 deblock=1:0:0 analyse=0x3:0x113 me=hex subme=2 psy=1 psy_rd=1.00:0.00 mixed_ref=0 me_range=16 chroma_me=1 trellis=0 8x8dct=1 cqm=0 deadzone=21,11 fast_pskip=1 chroma_qp_offset=0 threads=6 lookahead_threads=2 sliced_threads=0 nr=0 decimate=1 interlaced=0 bluray_compat=0 constrained_intra=0 bframes=3 b_pyramid=2 b_adapt=1 b_bias=0 direct=1 weightb=1 open_gop=0 weightp=1 keyint=250 keyint_min=25 scenecut=40 intra_refresh=0 rc_lookahead=10 rc=crf mbtree=1 crf=23.0 qcomp=0.60 qpmin=0 qpmax=69 qpstep=4 ip_ratio=1.40 aq=1:1.00\n",
      "Output #0, mov, to 'beginning_ban_tmp.mov':\n",
      "  Metadata:\n",
      "    major_brand     : isom\n",
      "    minor_version   : 512\n",
      "    compatible_brands: isomiso2avc1mp41\n",
      "    encoder         : Lavf62.3.100\n",
      "  Stream #0:0(und): Video: h264 (avc1 / 0x31637661), yuv420p(tv, bt709, progressive), 640x360 [SAR 1:1 DAR 16:9], q=2-31, 25 fps, 12800 tbn (default)\n",
      "    Metadata:\n",
      "      encoder         : Lavc62.11.100 libx264\n",
      "      handler_name    : ISO Media file produced by Google Inc.\n",
      "      vendor_id       : [0][0][0][0]\n",
      "    Side data:\n",
      "      cpb: bitrate max/min/avg: 0/0/0 buffer size: 0 vbv_delay: N/A\n",
      "  Stream #0:1(eng): Audio: pcm_s16le (sowt / 0x74776F73), 44100 Hz, stereo, s16, 1411 kb/s (default)\n",
      "    Metadata:\n",
      "      encoder         : Lavc62.11.100 pcm_s16le\n",
      "      handler_name    : ISO Media file produced by Google Inc.\n",
      "      vendor_id       : [0][0][0][0]\n",
      "[out#0/mov @ 0x7fe2d270fd40] video:287KiB audio:1895KiB subtitle:0KiB other streams:0KiB global headers:0KiB muxing overhead: 0.382673%\n",
      "frame=  278 fps=0.0 q=-1.0 Lsize=    2191KiB time=00:00:11.00 bitrate=1631.3kbits/s dup=0 drop=53 speed=  12x elapsed=0:00:00.91    \n",
      "[libx264 @ 0x7fe2d2706bc0] frame I:4     Avg QP:14.88  size: 10410\n",
      "[libx264 @ 0x7fe2d2706bc0] frame P:95    Avg QP:21.64  size:  1873\n",
      "[libx264 @ 0x7fe2d2706bc0] frame B:179   Avg QP:23.78  size:   412\n",
      "[libx264 @ 0x7fe2d2706bc0] consecutive B-frames:  9.0%  9.4% 18.3% 63.3%\n",
      "[libx264 @ 0x7fe2d2706bc0] mb I  I16..4: 60.4% 10.2% 29.4%\n",
      "[libx264 @ 0x7fe2d2706bc0] mb P  I16..4:  1.5%  1.4%  1.4%  P16..4:  7.8%  3.0%  2.6%  0.0%  0.0%    skip:82.3%\n",
      "[libx264 @ 0x7fe2d2706bc0] mb B  I16..4:  0.2%  0.2%  0.1%  B16..8:  4.4%  1.8%  0.4%  direct: 1.0%  skip:91.9%  L0:45.2% L1:40.5% BI:14.4%\n",
      "[libx264 @ 0x7fe2d2706bc0] 8x8 transform intra:23.0% inter:12.6%\n",
      "[libx264 @ 0x7fe2d2706bc0] coded y,uvDC,uvAC intra: 43.8% 26.3% 10.4% inter: 2.6% 1.7% 0.6%\n",
      "[libx264 @ 0x7fe2d2706bc0] i16 v,h,dc,p: 69% 20%  8%  3%\n",
      "[libx264 @ 0x7fe2d2706bc0] i8 v,h,dc,ddl,ddr,vr,hd,vl,hu: 26% 39% 17%  3%  2%  2%  3%  3%  5%\n",
      "[libx264 @ 0x7fe2d2706bc0] i4 v,h,dc,ddl,ddr,vr,hd,vl,hu: 31% 22% 14%  5%  6%  6%  6%  6%  5%\n",
      "[libx264 @ 0x7fe2d2706bc0] i8c dc,h,v,p: 62% 19% 16%  3%\n",
      "[libx264 @ 0x7fe2d2706bc0] Weighted P-Frames: Y:0.0% UV:0.0%\n",
      "[libx264 @ 0x7fe2d2706bc0] kb/s:211.10\n"
     ]
    },
    {
     "name": "stdout",
     "output_type": "stream",
     "text": [
      "new width height: 853 480\n",
      "Rescaling video \n",
      ": ffmpeg -y -i beginning_ban_tmp.mov -vf scale=853:480,pad=854:480:0:0:black -c:v libx264 -preset veryfast -crf 23 -c:a copy beginning_ban_reencoded.mov\n",
      "ffmpeg version 8.0 Copyright (c) 2000-2025 the FFmpeg developers\n",
      "  built with Apple clang version 15.0.0 (clang-1500.1.0.2.5)\n",
      "  configuration: --prefix=/usr/local/Cellar/ffmpeg/8.0 --enable-shared --enable-pthreads --enable-version3 --cc=clang --host-cflags= --host-ldflags='-Wl,-ld_classic' --enable-ffplay --enable-gnutls --enable-gpl --enable-libaom --enable-libaribb24 --enable-libbluray --enable-libdav1d --enable-libharfbuzz --enable-libjxl --enable-libmp3lame --enable-libopus --enable-librav1e --enable-librist --enable-librubberband --enable-libsnappy --enable-libsrt --enable-libssh --enable-libsvtav1 --enable-libtesseract --enable-libtheora --enable-libvidstab --enable-libvmaf --enable-libvorbis --enable-libvpx --enable-libwebp --enable-libx264 --enable-libx265 --enable-libxml2 --enable-libxvid --enable-lzma --enable-libfontconfig --enable-libfreetype --enable-frei0r --enable-libass --enable-libopencore-amrnb --enable-libopencore-amrwb --enable-libopenjpeg --enable-libspeex --enable-libsoxr --enable-libzmq --enable-libzimg --disable-libjack --disable-indev=jack --enable-videotoolbox --enable-audiotoolbox\n",
      "  libavutil      60.  8.100 / 60.  8.100\n",
      "  libavcodec     62. 11.100 / 62. 11.100\n",
      "  libavformat    62.  3.100 / 62.  3.100\n",
      "  libavdevice    62.  1.100 / 62.  1.100\n",
      "  libavfilter    11.  4.100 / 11.  4.100\n",
      "  libswscale      9.  1.100 /  9.  1.100\n",
      "  libswresample   6.  1.100 /  6.  1.100\n",
      "Input #0, mov,mp4,m4a,3gp,3g2,mj2, from 'beginning_ban_tmp.mov':\n",
      "  Metadata:\n",
      "    major_brand     : qt  \n",
      "    minor_version   : 512\n",
      "    compatible_brands: qt  \n",
      "    encoder         : Lavf62.3.100\n",
      "  Duration: 00:00:11.12, start: 0.000000, bitrate: 1613 kb/s\n",
      "  Stream #0:0[0x1]: Video: h264 (High) (avc1 / 0x31637661), yuv420p(tv, bt709, progressive), 640x360 [SAR 1:1 DAR 16:9], 211 kb/s, 25 fps, 25 tbr, 12800 tbn (default)\n",
      "    Metadata:\n",
      "      handler_name    : ISO Media file produced by Google Inc.\n",
      "      vendor_id       : FFMP\n",
      "      encoder         : Lavc62.11.100 libx264\n",
      "  Stream #0:1[0x2](eng): Audio: pcm_s16le (sowt / 0x74776F73), 44100 Hz, stereo, s16, 1411 kb/s (default)\n",
      "    Metadata:\n",
      "      handler_name    : ISO Media file produced by Google Inc.\n",
      "      vendor_id       : [0][0][0][0]\n",
      "Stream mapping:\n",
      "  Stream #0:0 -> #0:0 (h264 (native) -> h264 (libx264))\n",
      "  Stream #0:1 -> #0:1 (copy)\n",
      "Press [q] to stop, [?] for help\n",
      "[libx264 @ 0x7fed8180ea40] using SAR=2560/2559\n",
      "[libx264 @ 0x7fed8180ea40] using cpu capabilities: MMX2 SSE2Fast SSSE3 SSE4.2 AVX FMA3 BMI2 AVX2\n",
      "[libx264 @ 0x7fed8180ea40] profile High, level 3.0, 4:2:0, 8-bit\n",
      "[libx264 @ 0x7fed8180ea40] 264 - core 164 r3108 31e19f9 - H.264/MPEG-4 AVC codec - Copyleft 2003-2023 - http://www.videolan.org/x264.html - options: cabac=1 ref=1 deblock=1:0:0 analyse=0x3:0x113 me=hex subme=2 psy=1 psy_rd=1.00:0.00 mixed_ref=0 me_range=16 chroma_me=1 trellis=0 8x8dct=1 cqm=0 deadzone=21,11 fast_pskip=1 chroma_qp_offset=0 threads=6 lookahead_threads=2 sliced_threads=0 nr=0 decimate=1 interlaced=0 bluray_compat=0 constrained_intra=0 bframes=3 b_pyramid=2 b_adapt=1 b_bias=0 direct=1 weightb=1 open_gop=0 weightp=1 keyint=250 keyint_min=25 scenecut=40 intra_refresh=0 rc_lookahead=10 rc=crf mbtree=1 crf=23.0 qcomp=0.60 qpmin=0 qpmax=69 qpstep=4 ip_ratio=1.40 aq=1:1.00\n",
      "Output #0, mov, to 'beginning_ban_reencoded.mov':\n",
      "  Metadata:\n",
      "    major_brand     : qt  \n",
      "    minor_version   : 512\n",
      "    compatible_brands: qt  \n",
      "    encoder         : Lavf62.3.100\n",
      "  Stream #0:0: Video: h264 (avc1 / 0x31637661), yuv420p(tv, bt709, progressive), 854x480 [SAR 2560:2559 DAR 13664:7677], q=2-31, 25 fps, 12800 tbn (default)\n",
      "    Metadata:\n",
      "      encoder         : Lavc62.11.100 libx264\n",
      "      handler_name    : ISO Media file produced by Google Inc.\n",
      "      vendor_id       : FFMP\n",
      "    Side data:\n",
      "      cpb: bitrate max/min/avg: 0/0/0 buffer size: 0 vbv_delay: N/A\n",
      "  Stream #0:1(eng): Audio: pcm_s16le (sowt / 0x74776F73), 44100 Hz, stereo, s16, 1411 kb/s (default)\n",
      "    Metadata:\n",
      "      handler_name    : ISO Media file produced by Google Inc.\n",
      "      vendor_id       : [0][0][0][0]\n",
      "frame=   74 fps=0.0 q=28.0 size=     512KiB time=00:00:02.88 bitrate=1456.5kbits/s speed=5.73x elapsed=0:00:00.50    \n",
      "frame=  167 fps=166 q=28.0 size=    1280KiB time=00:00:06.60 bitrate=1588.8kbits/s speed=6.58x elapsed=0:00:01.00    \n",
      "frame=  254 fps=169 q=28.0 size=    2048KiB time=00:00:10.08 bitrate=1664.4kbits/s speed=6.69x elapsed=0:00:01.50    \n",
      "[out#0/mov @ 0x7fed8180cbc0] video:394KiB audio:1895KiB subtitle:0KiB other streams:0KiB global headers:0KiB muxing overhead: 0.366865%\n",
      "frame=  278 fps=178 q=-1.0 Lsize=    2298KiB time=00:00:11.00 bitrate=1710.9kbits/s speed=7.05x elapsed=0:00:01.55    \n",
      "[libx264 @ 0x7fed8180ea40] frame I:4     Avg QP:14.13  size: 15308\n",
      "[libx264 @ 0x7fed8180ea40] frame P:102   Avg QP:20.45  size:  2432\n",
      "[libx264 @ 0x7fed8180ea40] frame B:172   Avg QP:23.85  size:   544\n",
      "[libx264 @ 0x7fed8180ea40] consecutive B-frames: 10.4% 15.8% 16.2% 57.6%\n",
      "[libx264 @ 0x7fed8180ea40] mb I  I16..4: 61.8% 11.3% 26.9%\n",
      "[libx264 @ 0x7fed8180ea40] mb P  I16..4:  1.9%  2.0%  1.2%  P16..4:  7.2%  3.0%  1.8%  0.0%  0.0%    skip:82.9%\n",
      "[libx264 @ 0x7fed8180ea40] mb B  I16..4:  0.2%  0.2%  0.1%  B16..8:  3.6%  1.7%  0.2%  direct: 0.9%  skip:93.0%  L0:44.1% L1:41.7% BI:14.2%\n",
      "[libx264 @ 0x7fed8180ea40] 8x8 transform intra:28.0% inter:24.8%\n",
      "[libx264 @ 0x7fed8180ea40] coded y,uvDC,uvAC intra: 40.6% 25.7% 9.6% inter: 2.2% 1.8% 0.4%\n",
      "[libx264 @ 0x7fed8180ea40] i16 v,h,dc,p: 68% 22%  6%  3%\n",
      "[libx264 @ 0x7fed8180ea40] i8 v,h,dc,ddl,ddr,vr,hd,vl,hu: 27% 37% 14%  3%  3%  3%  3%  4%  5%\n",
      "[libx264 @ 0x7fed8180ea40] i4 v,h,dc,ddl,ddr,vr,hd,vl,hu: 31% 25% 10%  5%  6%  7%  6%  6%  5%\n",
      "[libx264 @ 0x7fed8180ea40] i8c dc,h,v,p: 65% 17% 15%  3%\n",
      "[libx264 @ 0x7fed8180ea40] Weighted P-Frames: Y:0.0% UV:0.0%\n",
      "[libx264 @ 0x7fed8180ea40] kb/s:289.79\n",
      "Successfully created beginning_ban_reencoded.mov\n",
      "⚡ Padding audio to match video: beginning_ban_reencoded.mov → beginning_ban_reencoded_padded.mov\n",
      "Pad/truncate audio to match video duration: \n",
      " ffmpeg -y -i beginning_ban_reencoded.mov -c:v copy -af apad,atrim=0:11.120000 beginning_ban_reencoded_padded.mov\n"
     ]
    },
    {
     "name": "stderr",
     "output_type": "stream",
     "text": [
      "ffmpeg version 8.0 Copyright (c) 2000-2025 the FFmpeg developers\n",
      "  built with Apple clang version 15.0.0 (clang-1500.1.0.2.5)\n",
      "  configuration: --prefix=/usr/local/Cellar/ffmpeg/8.0 --enable-shared --enable-pthreads --enable-version3 --cc=clang --host-cflags= --host-ldflags='-Wl,-ld_classic' --enable-ffplay --enable-gnutls --enable-gpl --enable-libaom --enable-libaribb24 --enable-libbluray --enable-libdav1d --enable-libharfbuzz --enable-libjxl --enable-libmp3lame --enable-libopus --enable-librav1e --enable-librist --enable-librubberband --enable-libsnappy --enable-libsrt --enable-libssh --enable-libsvtav1 --enable-libtesseract --enable-libtheora --enable-libvidstab --enable-libvmaf --enable-libvorbis --enable-libvpx --enable-libwebp --enable-libx264 --enable-libx265 --enable-libxml2 --enable-libxvid --enable-lzma --enable-libfontconfig --enable-libfreetype --enable-frei0r --enable-libass --enable-libopencore-amrnb --enable-libopencore-amrwb --enable-libopenjpeg --enable-libspeex --enable-libsoxr --enable-libzmq --enable-libzimg --disable-libjack --disable-indev=jack --enable-videotoolbox --enable-audiotoolbox\n",
      "  libavutil      60.  8.100 / 60.  8.100\n",
      "  libavcodec     62. 11.100 / 62. 11.100\n",
      "  libavformat    62.  3.100 / 62.  3.100\n",
      "  libavdevice    62.  1.100 / 62.  1.100\n",
      "  libavfilter    11.  4.100 / 11.  4.100\n",
      "  libswscale      9.  1.100 /  9.  1.100\n",
      "  libswresample   6.  1.100 /  6.  1.100\n",
      "Input #0, mov,mp4,m4a,3gp,3g2,mj2, from 'beginning_ban_reencoded.mov':\n",
      "  Metadata:\n",
      "    major_brand     : qt  \n",
      "    minor_version   : 512\n",
      "    compatible_brands: qt  \n",
      "    encoder         : Lavf62.3.100\n",
      "  Duration: 00:00:11.12, start: 0.000000, bitrate: 1692 kb/s\n",
      "  Stream #0:0[0x1]: Video: h264 (High) (avc1 / 0x31637661), yuv420p(tv, bt709, progressive), 854x480 [SAR 2560:2559 DAR 13664:7677], 290 kb/s, 25 fps, 25 tbr, 12800 tbn (default)\n",
      "    Metadata:\n",
      "      handler_name    : ISO Media file produced by Google Inc.\n",
      "      vendor_id       : FFMP\n",
      "      encoder         : Lavc62.11.100 libx264\n",
      "  Stream #0:1[0x2](eng): Audio: pcm_s16le (sowt / 0x74776F73), 44100 Hz, stereo, s16, 1411 kb/s (default)\n",
      "    Metadata:\n",
      "      handler_name    : ISO Media file produced by Google Inc.\n",
      "      vendor_id       : [0][0][0][0]\n",
      "Stream mapping:\n",
      "  Stream #0:0 -> #0:0 (copy)\n",
      "  Stream #0:1 -> #0:1 (pcm_s16le (native) -> aac (native))\n",
      "Press [q] to stop, [?] for help\n",
      "Output #0, mov, to 'beginning_ban_reencoded_padded.mov':\n",
      "  Metadata:\n",
      "    major_brand     : qt  \n",
      "    minor_version   : 512\n",
      "    compatible_brands: qt  \n",
      "    encoder         : Lavf62.3.100\n",
      "  Stream #0:0: Video: h264 (High) (avc1 / 0x31637661), yuv420p(tv, bt709, progressive), 854x480 [SAR 2560:2559 DAR 13664:7677], q=2-31, 290 kb/s, 25 fps, 25 tbr, 12800 tbn (default)\n",
      "    Metadata:\n",
      "      handler_name    : ISO Media file produced by Google Inc.\n",
      "      vendor_id       : FFMP\n",
      "      encoder         : Lavc62.11.100 libx264\n",
      "  Stream #0:1(eng): Audio: aac (LC) (mp4a / 0x6134706D), 44100 Hz, stereo, fltp, 128 kb/s (default)\n",
      "    Metadata:\n",
      "      encoder         : Lavc62.11.100 aac\n",
      "      handler_name    : ISO Media file produced by Google Inc.\n",
      "      vendor_id       : [0][0][0][0]\n",
      "[out#0/mov @ 0x7fb309205d40] video:394KiB audio:172KiB subtitle:0KiB other streams:0KiB global headers:0KiB muxing overhead: 1.848561%\n",
      "frame=  278 fps=189 q=-1.0 Lsize=     577KiB time=00:00:11.04 bitrate= 427.8kbits/s speed=7.52x elapsed=0:00:01.46    \n",
      "[aac @ 0x7fb309207600] Qavg: 910.211\n"
     ]
    },
    {
     "name": "stdout",
     "output_type": "stream",
     "text": [
      "✅ Final re-encoded + padded file: beginning_ban_reencoded_padded.mov\n",
      "Get main video's codec: \n",
      " ffprobe -v error -select_streams v:0 -show_entries stream=width,height,r_frame_rate,duration -of json end_film_jp.mov\n",
      "Re-encode to PCM: \n",
      " ffmpeg -y -i B0815_subtitle_jp.mov -r 25.0 -c:v libx264 -c:a pcm_s16le -ar 44100 -ac 2 -preset veryfast -crf 23 B0815_subtitle_jp_tmp.mov\n",
      "⚡ Re-encoding with audio: B0815_subtitle_jp.mov → B0815_subtitle_jp_tmp.mov\n"
     ]
    },
    {
     "name": "stderr",
     "output_type": "stream",
     "text": [
      "ffmpeg version 8.0 Copyright (c) 2000-2025 the FFmpeg developers\n",
      "  built with Apple clang version 15.0.0 (clang-1500.1.0.2.5)\n",
      "  configuration: --prefix=/usr/local/Cellar/ffmpeg/8.0 --enable-shared --enable-pthreads --enable-version3 --cc=clang --host-cflags= --host-ldflags='-Wl,-ld_classic' --enable-ffplay --enable-gnutls --enable-gpl --enable-libaom --enable-libaribb24 --enable-libbluray --enable-libdav1d --enable-libharfbuzz --enable-libjxl --enable-libmp3lame --enable-libopus --enable-librav1e --enable-librist --enable-librubberband --enable-libsnappy --enable-libsrt --enable-libssh --enable-libsvtav1 --enable-libtesseract --enable-libtheora --enable-libvidstab --enable-libvmaf --enable-libvorbis --enable-libvpx --enable-libwebp --enable-libx264 --enable-libx265 --enable-libxml2 --enable-libxvid --enable-lzma --enable-libfontconfig --enable-libfreetype --enable-frei0r --enable-libass --enable-libopencore-amrnb --enable-libopencore-amrwb --enable-libopenjpeg --enable-libspeex --enable-libsoxr --enable-libzmq --enable-libzimg --disable-libjack --disable-indev=jack --enable-videotoolbox --enable-audiotoolbox\n",
      "  libavutil      60.  8.100 / 60.  8.100\n",
      "  libavcodec     62. 11.100 / 62. 11.100\n",
      "  libavformat    62.  3.100 / 62.  3.100\n",
      "  libavdevice    62.  1.100 / 62.  1.100\n",
      "  libavfilter    11.  4.100 / 11.  4.100\n",
      "  libswscale      9.  1.100 /  9.  1.100\n",
      "  libswresample   6.  1.100 /  6.  1.100\n",
      "Input #0, mov,mp4,m4a,3gp,3g2,mj2, from 'B0815_subtitle_jp.mov':\n",
      "  Metadata:\n",
      "    major_brand     : qt  \n",
      "    minor_version   : 512\n",
      "    compatible_brands: qt  \n",
      "    encoder         : Lavf62.3.100\n",
      "  Duration: 00:27:02.12, start: 0.000000, bitrate: 1885 kb/s\n",
      "  Stream #0:0[0x1]: Video: h264 (High) (avc1 / 0x31637661), yuv420p(tv, bt709, progressive), 854x480 [SAR 1:1 DAR 427:240], 468 kb/s, 25 fps, 25 tbr, 12800 tbn (default)\n",
      "    Metadata:\n",
      "      handler_name    : VideoHandler\n",
      "      vendor_id       : FFMP\n",
      "      encoder         : Lavc62.11.100 libx264\n",
      "  Stream #0:1[0x2]: Audio: pcm_s16le (sowt / 0x74776F73), 44100 Hz, stereo, s16, 1411 kb/s (default)\n",
      "    Metadata:\n",
      "      handler_name    : SoundHandler\n",
      "      vendor_id       : [0][0][0][0]\n",
      "Stream mapping:\n",
      "  Stream #0:0 -> #0:0 (h264 (native) -> h264 (libx264))\n",
      "  Stream #0:1 -> #0:1 (pcm_s16le (native) -> pcm_s16le (native))\n",
      "Press [q] to stop, [?] for help\n",
      "[libx264 @ 0x7fdb1f7072c0] using SAR=1/1\n",
      "[libx264 @ 0x7fdb1f7072c0] using cpu capabilities: MMX2 SSE2Fast SSSE3 SSE4.2 AVX FMA3 BMI2 AVX2\n",
      "[libx264 @ 0x7fdb1f7072c0] profile High, level 3.0, 4:2:0, 8-bit\n",
      "[libx264 @ 0x7fdb1f7072c0] 264 - core 164 r3108 31e19f9 - H.264/MPEG-4 AVC codec - Copyleft 2003-2023 - http://www.videolan.org/x264.html - options: cabac=1 ref=1 deblock=1:0:0 analyse=0x3:0x113 me=hex subme=2 psy=1 psy_rd=1.00:0.00 mixed_ref=0 me_range=16 chroma_me=1 trellis=0 8x8dct=1 cqm=0 deadzone=21,11 fast_pskip=1 chroma_qp_offset=0 threads=6 lookahead_threads=2 sliced_threads=0 nr=0 decimate=1 interlaced=0 bluray_compat=0 constrained_intra=0 bframes=3 b_pyramid=2 b_adapt=1 b_bias=0 direct=1 weightb=1 open_gop=0 weightp=1 keyint=250 keyint_min=25 scenecut=40 intra_refresh=0 rc_lookahead=10 rc=crf mbtree=1 crf=23.0 qcomp=0.60 qpmin=0 qpmax=69 qpstep=4 ip_ratio=1.40 aq=1:1.00\n",
      "Output #0, mov, to 'B0815_subtitle_jp_tmp.mov':\n",
      "  Metadata:\n",
      "    major_brand     : qt  \n",
      "    minor_version   : 512\n",
      "    compatible_brands: qt  \n",
      "    encoder         : Lavf62.3.100\n",
      "  Stream #0:0: Video: h264 (avc1 / 0x31637661), yuv420p(tv, bt709, progressive), 854x480 [SAR 1:1 DAR 427:240], q=2-31, 25 fps, 12800 tbn (default)\n",
      "    Metadata:\n",
      "      encoder         : Lavc62.11.100 libx264\n",
      "      handler_name    : VideoHandler\n",
      "      vendor_id       : FFMP\n",
      "    Side data:\n",
      "      cpb: bitrate max/min/avg: 0/0/0 buffer size: 0 vbv_delay: N/A\n",
      "  Stream #0:1: Audio: pcm_s16le (sowt / 0x74776F73), 44100 Hz, stereo, s16, 1411 kb/s (default)\n",
      "    Metadata:\n",
      "      encoder         : Lavc62.11.100 pcm_s16le\n",
      "      handler_name    : SoundHandler\n",
      "      vendor_id       : [0][0][0][0]\n",
      "frame= 9927 fps= 84 q=28.0 size=   92672KiB time=00:06:37.00 bitrate=1912.3kbits/s speed=3.35x elapsed=0:01:58.38    "
     ]
    }
   ],
   "source": [
    "from video_commands import * \n",
    "main_video = \"B0815_subtitle_jp.mov\"\n",
    "video_list = [\"beginning_ban.mp4\",main_video,\"end_film_jp.mov\"]\n",
    "output_file = \"B0815_final_jp.mov\"\n",
    "primary_index = 2\n",
    "combine_video(video_list, primary_index=primary_index, output_file=output_file, crf=23, preset=\"veryfast\")"
   ]
  },
  {
   "cell_type": "markdown",
   "id": "2cf78e77-1876-4570-8ead-7bbfc3651853",
   "metadata": {},
   "source": [
    "## parse time"
   ]
  },
  {
   "cell_type": "code",
   "execution_count": null,
   "id": "80c2ecff-a438-42ee-9baa-ed31c5dd7e99",
   "metadata": {},
   "outputs": [],
   "source": [
    "from video_commands import * \n",
    "t = \"2:54\"\n",
    "time = parse_time(t) #result in seconds"
   ]
  },
  {
   "cell_type": "markdown",
   "id": "fdc3ac0a-0f52-4734-aa40-ddd3f76c3eed",
   "metadata": {},
   "source": [
    "## video length\n",
    "result in mm:ss"
   ]
  },
  {
   "cell_type": "code",
   "execution_count": null,
   "id": "e15feb16-e124-4cae-818b-449ec9ae4a71",
   "metadata": {},
   "outputs": [],
   "source": [
    "from video_commands import * \n",
    "input_file = \"\"\n",
    "get_video_length(input_file)"
   ]
  },
  {
   "cell_type": "markdown",
   "id": "246a676d-a13e-4eaa-914e-82c4acfd40c1",
   "metadata": {},
   "source": [
    "## media dimensions"
   ]
  },
  {
   "cell_type": "code",
   "execution_count": null,
   "id": "b8df9da0-13c2-402c-b0eb-f5e67179d48e",
   "metadata": {},
   "outputs": [],
   "source": [
    "from video_commands import * \n",
    "file_path = \"\"\n",
    "width, height = get_media_dimensions(file_path)\n",
    "a_width, a_height = get_media_active_dimensions(file_path, threshold=16, sample_frames=5):\n",
    "print(\"normal w h:\",width,height)\n",
    "print(\"active w h:\",a_width,a_height)"
   ]
  },
  {
   "cell_type": "markdown",
   "id": "75643b7c-8de2-4726-9f3f-e3f64ad27072",
   "metadata": {},
   "source": [
    "## mp3 to wav"
   ]
  },
  {
   "cell_type": "code",
   "execution_count": null,
   "id": "1792e458-5d3b-494e-a525-64460ef13081",
   "metadata": {},
   "outputs": [],
   "source": [
    "from video_commands import * \n",
    "mp3_file = \"\"\n",
    "wav_file = mp3_to_wav(mp3_file):"
   ]
  },
  {
   "cell_type": "markdown",
   "id": "1466d772-5c1f-4e49-9ae8-acc774589779",
   "metadata": {},
   "source": [
    "## adjust wav volume"
   ]
  },
  {
   "cell_type": "code",
   "execution_count": null,
   "id": "1d3e3b6c-1f7d-46ee-9bdd-096418091133",
   "metadata": {},
   "outputs": [],
   "source": [
    "from video_commands_mine import * \n",
    "wav_file = \"\"\n",
    "volume_factor = \n",
    "output = adjust_wav_volume(wav_file, volume_factor)"
   ]
  },
  {
   "cell_type": "markdown",
   "id": "a1279ef1-a742-4ee7-ae6d-d4973f743a8e",
   "metadata": {},
   "source": [
    "## extract pages to txt\n",
    "command line"
   ]
  },
  {
   "cell_type": "code",
   "execution_count": null,
   "id": "a38fd621-e7ad-45c4-88e6-83fa1788864b",
   "metadata": {},
   "outputs": [],
   "source": [
    "chmod +x pages2txt.sh\n",
    "./pages.txt xxx.pages"
   ]
  },
  {
   "cell_type": "markdown",
   "id": "43c5632f-d95a-4e39-96f6-afd9f266da94",
   "metadata": {},
   "source": [
    "## pip3 download"
   ]
  },
  {
   "cell_type": "code",
   "execution_count": null,
   "id": "003b7f29-a733-4f4b-ad87-3d3ef8365517",
   "metadata": {},
   "outputs": [],
   "source": [
    "!pip3 install --break-system-packages plistlib"
   ]
  },
  {
   "cell_type": "code",
   "execution_count": null,
   "id": "9ab3c306-1946-4e75-876c-6f990840127f",
   "metadata": {},
   "outputs": [],
   "source": []
  },
  {
   "cell_type": "code",
   "execution_count": null,
   "id": "b298397e-9224-40e2-9694-f9f6e254543f",
   "metadata": {},
   "outputs": [],
   "source": []
  }
 ],
 "metadata": {
  "kernelspec": {
   "display_name": "Python 3 (ipykernel)",
   "language": "python",
   "name": "python3"
  },
  "language_info": {
   "codemirror_mode": {
    "name": "ipython",
    "version": 3
   },
   "file_extension": ".py",
   "mimetype": "text/x-python",
   "name": "python",
   "nbconvert_exporter": "python",
   "pygments_lexer": "ipython3",
   "version": "3.13.7"
  }
 },
 "nbformat": 4,
 "nbformat_minor": 5
}
