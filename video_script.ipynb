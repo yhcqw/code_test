{
 "cells": [
  {
   "cell_type": "markdown",
   "id": "40dfe5c0-3cd0-4be5-9b5c-7583a9fcf62c",
   "metadata": {},
   "source": [
    "<h3 align = center>How to make a simple video using FFMPEG</h3>\n",
    "last update: Sept 2025<br>"
   ]
  },
  {
   "cell_type": "markdown",
   "id": "24cf15a3-3d2f-46df-ba49-bb2b7e86551a",
   "metadata": {},
   "source": [
    "- [Package used](#Package-used)\n",
    "- [Trimming a video](#Trimming-a-video)\n",
    "- [Splitting a video into section](#Splitting-a-video-into-sections)\n",
    "- [Creating a black still](#Creating-a-black-still)\n",
    "- [concatenating videos](#concatenating-videos)\n",
    "- [Reencoding](#Reencoding)\n",
    "- [Separating different audio channels from a video](#Separating-different-audio-channels-from-a-video)\n",
    "- [extracting voice to subtitles](#extracting-voice-to-subtitles)\n",
    "- [Translation](#Translation)\n",
    "- [combining translations for proofreading](#combining-translations-for-proofreading)\n",
    "- [Separating translation after proofreading](#Separating-translation-after-proofreading)\n",
    "- [creating zoom video](#creating-zoom-video)\n",
    "- [Overlaying everything](#Overlaying-everything)\n",
    "- [extracting screen shot](#extracting-screen-shot)\n",
    "- [srt to ass](#srt-to-ass)\n",
    "- [adding mosaic](#adding-mosaic)\n",
    "- [burning in subtitle](#Burning-in-subtitle)\n",
    "- [creating end credis](#Creating-End-Credits)\n",
    "- [final concatenation](#final-concatenation)\n",
    "- [Video Codec](#Printing-video-info)\n",
    "- [parse time](#parse-time)\n",
    "- [media dimensions](#media-dimensions)\n",
    "- [mp3 to wav](#mp3-to-wav)\n",
    "- [adjust wav volume](#adjust-wav-volume)\n",
    "- [extract pages to txt](#extract-pages-to-txt)\n",
    "- [pip3 download](#pip3-download)\n"
   ]
  },
  {
   "cell_type": "markdown",
   "id": "d610483c-2557-4681-a5f4-45795e83b230",
   "metadata": {},
   "source": [
    "## Package used:\n",
    "<i>ffmpeg, ffprobe,re, datetime, math, json, PIL, fractions, matplotlib, tempfile, pdfplumber,zipfile <br>\n",
    "shutil, numpy, openai-whisper, deep_translator, deepl, openai, demucs, opencc, opencv-python</i> <br>\n",
    "\n",
    "whisper environment: \n",
    " <i>openai-whisper</i> , <i>demucs</i>, <i>deepl</i>, <i>openai</i> <br>\n",
    "\n",
    "How to install:<br>\n",
    "<i>!pip3 install openai-whisper</i>\n",
    "\n",
    "The code we are using here is in <b><i>video_commands.py</i></b>.\n"
   ]
  },
  {
   "cell_type": "markdown",
   "id": "475c2024-5b9d-4a3d-a09b-cf2e4bc99bf7",
   "metadata": {},
   "source": [
    "### Trimming a video\n",
    "we want to extract <i>11:00 to 16:00</i> :<br>\n",
    "<i>ffmpeg -y -ss 11:00 -to 16:00 -i Marines_at_Tarawa_Return_to_Guam.mp4 -c:v libx264 -preset veryfast -crf 18 -c:a copy  marines_5min.mov</i> <br><br>\n",
    "\n",
    "\n"
   ]
  },
  {
   "cell_type": "code",
   "execution_count": null,
   "id": "1fabe0b9-ac33-49dd-bc48-31c3d4e7b302",
   "metadata": {},
   "outputs": [],
   "source": [
    "from video_commands import * \n",
    "main_video = \"Marines_at_Tarawa_Return_to_Guam.mp4\"\n",
    "start_time = \"11:00\" #you can enter as 1)an interger which is second, 2)mm:ss, or 3)hh:mm:ss\n",
    "end_time = \"16:00\" \n",
    "output_file = \"marines_5min.mov\"\n",
    "trim_video(main_video, start_time, end_time, output_file,crf=23, preset = \"fast\")"
   ]
  },
  {
   "cell_type": "code",
   "execution_count": null,
   "id": "cd3484ba-8459-4bce-ab7a-1d9a668b9284",
   "metadata": {},
   "outputs": [],
   "source": [
    "from video_commands import * \n",
    "main_video = \"\"\n",
    "start_time = \"11:00\" #you can enter as 1)an interger which is second, 2)mm:ss, or 3)hh:mm:ss\n",
    "end_time = \"16:00\" \n",
    "output_file = \"\"\n",
    "trim_video(main_video, start_time, end_time, output_file,crf=23, preset = \"fast\")"
   ]
  },
  {
   "cell_type": "markdown",
   "id": "f841262e-07cc-43d0-a0b4-dd032bbf3e67",
   "metadata": {},
   "source": [
    "## Printing video info\n",
    "ffprobe code for video: <br>\n",
    "<i>ffprobe -v error -select_streams v:0 -show_entries stream=codec_name,width,height,r_frame_rate,pix_fmt -of csv=p=0 marines_5min.mov</i><br>\n",
    "ffmpeg code for audio: <br>\n",
    "<i>ffprobe -v error -select_streams a:0 -show_entries stream=codec_name,sample_rate,channels -of csv=p=0 marines_5min.mov</i>\n",
    "<br><br>\n",
    "Now let's run the python code below:<br>"
   ]
  },
  {
   "cell_type": "code",
   "execution_count": null,
   "id": "3982c896-3204-4eae-8fe6-09664e0a808c",
   "metadata": {},
   "outputs": [],
   "source": [
    "file_list = [\"marines_5min.mov\"]\n",
    "print_media_info(file_list)"
   ]
  },
  {
   "cell_type": "code",
   "execution_count": null,
   "id": "047bd8a5-ea94-4b79-9d0e-fe238fd7dd35",
   "metadata": {},
   "outputs": [],
   "source": [
    "from video_commands import * \n",
    "file_list = [\"\"]\n",
    "print_media_info(file_list)"
   ]
  },
  {
   "cell_type": "markdown",
   "id": "aae6388b-89ac-4393-9282-5b4f51241dd4",
   "metadata": {},
   "source": [
    "## Splitting a video into sections\n",
    "4 sections:<br>\n",
    "1) 0:00 - 1:30 <br>\n",
    "2) 1:30 - 2:30 <br>\n",
    "3) 2:30 - 4:00 <br>\n",
    "4) 4:00 - the end <br>\n",
    "\n",
    "<i>ffmpeg -y -ss 0.000 -i marines_5min.mov -t 90.000 -c:v libx264 -preset fast -c:a pcm_s16le -ar 48000 -ac 2 -movflags +faststart video1.mov</i><br>\n",
    "<i> ffmpeg -y -ss 90.000 -i marines_5min.mov -t 60.000 -c:v libx264 -preset fast -c:a pcm_s16le -ar 48000 -ac 2 -movflags +faststart video2.mov</i><br>\n",
    "<i>ffmpeg -y -ss 150.000 -i marines_5min.mov -t 90.000 -c:v libx264 -preset fast -c:a pcm_s16le -ar 48000 -ac 2 -movflags +faststart video3.mov </i><br>\n",
    "<i>ffmpeg -y -ss 240.000 -i marines_5min.mov -t 60.009 -c:v libx264 -preset fast -c:a pcm_s16le -ar 48000 -ac 2 -movflags +faststart video4.mov\n",
    " </i><br><br>\n",
    "\n",
    " Below is the python code to implement the above. Let's run it.<br>\n"
   ]
  },
  {
   "cell_type": "code",
   "execution_count": null,
   "id": "6349cf43-64b1-4bc5-8197-843f70700c44",
   "metadata": {},
   "outputs": [],
   "source": [
    "main_video = \"marines_5min.mov\"\n",
    "the_end = get_video_length(main_video) #we retrive the exact end time in hh:mm:ss by calling this function\n",
    "sections = [\"0:00 - 1:30\",\"1:30 - 2:30\",\"2:30 - 4:00\",f\"4:00-{the_end}\"]\n",
    "#Below are the output files. The length of this list has to match the length of the above list \"sections\"\n",
    "output_files = [\"video1.mov\",\"video2.mov\",\"video3.mov\",\"video4.mov\"] \n",
    "split_video(main_video, sections, output_files, audio_codec=\"wav\")"
   ]
  },
  {
   "cell_type": "code",
   "execution_count": null,
   "id": "bdc9a3f1-0774-4c45-b2f0-1d57a5968dac",
   "metadata": {},
   "outputs": [],
   "source": [
    "from video_commands import * \n",
    "main_video = \".mov\"\n",
    "the_end = get_video_length(main_video) #we retrive the exact end time in hh:mm:ss by calling this function\n",
    "sections = [\"0:00 - 1:30\",\"1:30 - 2:30\",\"2:30 - 4:00\",f\"4:00-{the_end}\"]\n",
    "#Below are the output files. The length of this list has to match the length of the above list \"sections\"\n",
    "output_files = [\"video1.mov\",\"video2.mov\",\"video3.mov\",\"video4.mov\"] \n",
    "split_video(main_video, sections, output_files, audio_codec=\"wav\")"
   ]
  },
  {
   "cell_type": "markdown",
   "id": "db3b466b-6ad5-483c-9212-d92aa7d9b6ca",
   "metadata": {},
   "source": [
    "## Creating a black still\n",
    "creating blank black still:<br>\n",
    "\n",
    "<i>ffmpeg -y -f lavfi -i color=c=black:s=556x412:r=25.0:d=5 -f lavfi -i anullsrc=r=44100:cl=stereo -shortest -c:v libx264 -pix_fmt yuv420p -c:a pcm_s16le temp_black.mp4</i><br>\n",
    "\n",
    "Then python creates an ass file (a subtitle format, this is a text file) with the text called <i>temp_sub.ass</i>. Finally <i>temp_sub.ass</i> is burnt in to <i>temp_black.mp4</i> and the final output is what we want.\n",
    "\n",
    "<i>ffmpeg -y -i temp_black.mp4 -vf ass=temp_sub.ass -c:v libx264 -pix_fmt yuv420p -c:a copy black1.mov</i>\n",
    "\n",
    "<b>Note that if the numbers(like <i>1</i> in <i>\"Section 1\"</i>) appear strange (maybe bigger than the text) in <i>black1.mov</i>, you need to install some fonts. I don't remember how to do it, but I do remember I asked chatgpt.<br></b>\n"
   ]
  },
  {
   "cell_type": "code",
   "execution_count": null,
   "id": "80869c5e-4324-4ba4-b46a-604c99fba1d3",
   "metadata": {
    "scrolled": true
   },
   "outputs": [],
   "source": [
    "main_video = \"marines_5min.mov\"\n",
    "text = [\"Section 1\",\"Section 2\",\"Section 3\"]\n",
    "output_files = [\"black1.mov\",\"black2.mov\",\"black3.mov\"]\n",
    "duration = 5 # in seconds\n",
    "for txt,output_names in zip(text,output_files):\n",
    "    output_file = create_black_still(main_video,txt,duration,output_names,font_name=\"Arial\",font_size=72,\n",
    "    font_color=\"&H00FFFFFF\" #Solid White\n",
    ")"
   ]
  },
  {
   "cell_type": "code",
   "execution_count": null,
   "id": "cdc5db77-78ee-4366-b253-ce3502b7b484",
   "metadata": {},
   "outputs": [],
   "source": [
    "from video_commands import * \n",
    "main_video = \".mov\"\n",
    "text = [\"\",\"\",\"\"]\n",
    "output_files = [\"black1.mov\",\"black2.mov\",\"black3.mov\"]\n",
    "duration = 5 # in seconds\n",
    "for txt,output_names in zip(text,output_files):\n",
    "    output_file = create_black_still(main_video,txt,duration,output_names,font_name=\"Arial\",font_size=72,\n",
    "    font_color=\"&H00FFFFFF\" #Solid White"
   ]
  },
  {
   "cell_type": "markdown",
   "id": "6c8a45a7-d7d2-428a-8b31-ef92195a2bd2",
   "metadata": {},
   "source": [
    "## Reencoding\n",
    "\n",
    "Here is the break down of <i>reencode_to_match()</i>:<br>\n",
    "1)Get main video's codec: <br>\n",
    "<i>ffprobe -v error -select_streams v:0 -show_entries stream=width,height,r_frame_rate,duration -of json marines_5min.mov\n",
    "</i><br>\n",
    "\n",
    "The codec is retrieved and put into the next step.<br>\n",
    "            \n",
    "2)Re-encode the main video to audio = PCM: <br>\n",
    "<i>ffmpeg -y -i media_files/marines_5min.mov -r 25.0 -c:v libx264 -c:a pcm_s16le -ar 44100 -ac 2 -preset fast -crf 18 marines_5min_tmp.mov</i><br><br>\n",
    "3)Rescale video to match the main video's dimension (yes, the main video is rescaled to the main video, it does the same to all other videos):<br>\n",
    "<i>ffmpeg -y -i marines_5min_tmp.mov -vf scale=556:412,pad=556:412:0:0:black -c:v libx264 -preset fast -crf 18 -c:a copy marines_5min_reencoded.mov</i><br><br>\n",
    "4)Pad/truncate audio to match video duration:<br>\n",
    "<i>ffmpeg -y -i marines_5min_reencoded.mov -c:v copy -af apad,atrim=0:300.000000 marines_5min_reencoded_padded.mov</i><br>\n",
    "\n",
    "So the final product we want is the last one - <i>marines_5min_reencoded_padded.mov</i>. The same procedure applies to other videos.\n",
    "\n"
   ]
  },
  {
   "cell_type": "code",
   "execution_count": null,
   "id": "120f0365-bca9-4e66-9ec6-ef15fbd03640",
   "metadata": {},
   "outputs": [],
   "source": [
    "main_video = \"marines_5min.mov\"\n",
    "# The main video serves as the \"standard\" codec for others to follow\n",
    "list_to_reencode = [main_video,\"video1.mov\",\"video2.mov\",\"video3.mov\",\"video4.mov\",\n",
    "            \"black1.mov\",\"black2.mov\",\"black3.mov\"]\n",
    "reencoded_file_names, reencoded_file_dict =reencode_to_match(main_video, list_to_reencode,crf=\"23\", preset=\"fast\")\n"
   ]
  },
  {
   "cell_type": "code",
   "execution_count": null,
   "id": "010dd1f1-2dfa-4143-a511-5f08e84a1e1f",
   "metadata": {},
   "outputs": [],
   "source": [
    "from video_commands import * \n",
    "main_video = \".mov\"\n",
    "# The main video serves as the \"standard\" codec for others to follow\n",
    "list_to_reencode = [main_video,\".mov\",\".mov\",\".mov\",\".mov\"]\n",
    "reencoded_file_names, reencoded_file_dict =reencode_to_match(main_video, list_to_reencode,crf=\"23\", preset=\"fast\")"
   ]
  },
  {
   "cell_type": "markdown",
   "id": "986492f1-1c91-45c0-8d15-b2655f927d0c",
   "metadata": {},
   "source": [
    "### concatenating videos"
   ]
  },
  {
   "cell_type": "code",
   "execution_count": null,
   "id": "836d9eea-b76b-410e-b7e2-7f233ea6585f",
   "metadata": {},
   "outputs": [],
   "source": [
    "#input the video list in order of concatenation\n",
    "video_list = [\"video1.mov\",\"black1.mov\",\"video2.mov\",\"black2.mov\",\"video3.mov\",\"black3.mov\",\"video4.mov\"]\n",
    "#primary index is the video which serves as a \"model\" for reencoding. All other videos will have the same codec as this one. \n",
    "#Note the first video has a primary_index \"1\", not \"0\"\n",
    "combine_video(video_list, primary_index=1, output_file=\"marines_5min_new.mov\", crf=23, preset=\"fast\")"
   ]
  },
  {
   "cell_type": "code",
   "execution_count": null,
   "id": "c4f56843-ca48-455a-accf-c66bb62191e6",
   "metadata": {},
   "outputs": [],
   "source": [
    "from video_commands import * \n",
    "video_list = [\"video1.mov\",\"black1.mov\",\"video2.mov\",\"black2.mov\",\"video3.mov\",\"black3.mov\",\"video4.mov\"]\n",
    "#primary index is the video which serves as a \"model\" for reencoding. All other videos will have the same codec as this one. \n",
    "#Note the first video has a primary_index \"1\", not \"0\"\n",
    "combine_video(video_list, primary_index=1, output_file=\"marines_5min_new.mov\", crf=23, preset=\"fast\")"
   ]
  },
  {
   "cell_type": "markdown",
   "id": "d889be63-ed74-473a-8035-e823e8161e1e",
   "metadata": {},
   "source": [
    "## Separating different audio channels from a video\n",
    "copy and paste the below to the terminal. Don't run it here! The output is in default folders <b><i>separated/htdemucs/marines_5min_new</i></b>\n",
    "\n",
    "<i><b>demucs marines_5min_new.mov</i></b>"
   ]
  },
  {
   "cell_type": "markdown",
   "id": "7a760f58-5917-42af-8596-0949cd1d83f7",
   "metadata": {},
   "source": [
    "## extracting voice to subtitles"
   ]
  },
  {
   "cell_type": "code",
   "execution_count": null,
   "id": "3eb082c6-5c4a-4fe5-a7e6-342583c9fafc",
   "metadata": {},
   "outputs": [],
   "source": [
    "#input can be a video or audio. If video, make sure the audio channel is \"clean\"\n",
    "video = \"separated/htdemucs/marines_5min_new/vocals.mp3\" #the original file is vocals.wav. \n",
    "outputsrt = \"subtitle.srt\"\n",
    "voice_to_srt(video, outputsrt)"
   ]
  },
  {
   "cell_type": "code",
   "execution_count": null,
   "id": "393b5fb9-ee8a-42d4-b4c4-bf438c1feb9d",
   "metadata": {},
   "outputs": [],
   "source": [
    "from video_commands import * \n",
    "video = \".mp3\" #the original file is vocals.wav. \n",
    "outputsrt = \".srt\"\n",
    "voice_to_srt(video, outputsrt)"
   ]
  },
  {
   "cell_type": "markdown",
   "id": "0e29fb99-4b0d-492d-817e-7be90b44a9de",
   "metadata": {},
   "source": [
    "## Translation\n",
    "\n",
    "<i>english = en<br>\n",
    "simplified chinese = \"zh-CN\" for google, \"zh\" for deepl<br>\n",
    "traditional chinese = \"zh-TW\" for google, \"zh\" for deepl<br>\n",
    "japanese = ja<br>\n",
    "korea = ko<br>\n",
    "german = de<br>\n",
    "french = fr<br></i>"
   ]
  },
  {
   "cell_type": "code",
   "execution_count": null,
   "id": "b563fe99-a84a-474a-a9d8-c3bb453cc607",
   "metadata": {},
   "outputs": [],
   "source": [
    "subtitle_file = \"subtitle.srt\" # the file we extract from the step above voice_to_srt()\n",
    "outputfile = \"subtitle_google_ja.srt\"\n",
    "target_lang = \"ja\"\n",
    "source_lang = \"en\" #not inputting this would set the value to auto-detect\n",
    "translate_srt_google(subtitle_file,outputfile, target_lang, source_lang)"
   ]
  },
  {
   "cell_type": "code",
   "execution_count": null,
   "id": "4aca004f-1bd3-43d1-b29b-100273fc7578",
   "metadata": {},
   "outputs": [],
   "source": [
    "from video_commands import * \n",
    "subtitle_file = \".srt\" # the file we extract from the step above voice_to_srt()\n",
    "outputfile = \"subtitle_google_.srt\"\n",
    "target_lang = \"\"\n",
    "source_lang = \"\" #not inputting this would set the value to auto-detect\n",
    "translate_srt_google(subtitle_file,outputfile, target_lang, source_lang)"
   ]
  },
  {
   "cell_type": "code",
   "execution_count": null,
   "id": "c84219e5-beed-48c3-9658-7cfefaddb1ff",
   "metadata": {},
   "outputs": [],
   "source": [
    "subtitle_file = \"subtitle.srt\"\n",
    "outputfile = \"subtitle_google_ja.srt\"\n",
    "target_lang = \"ja\" \n",
    "source_lang = \"en\" #not inputting this would set the value to auto-detect\n",
    "deepl_translate_srt(subtitle_file, outputfile,target_lang)"
   ]
  },
  {
   "cell_type": "code",
   "execution_count": null,
   "id": "1f0180f7-c495-4b5b-ab84-4abad7456207",
   "metadata": {},
   "outputs": [],
   "source": [
    "from video_commands import * \n",
    "subtitle_file = \".srt\"\n",
    "outputfile = \"subtitle_deepl_.srt\"\n",
    "target_lang = \"\" \n",
    "source_lang = \"\" #not inputting this would set the value to auto-detect\n",
    "deepl_translate_srt(subtitle_file, outputfile,target_lang)"
   ]
  },
  {
   "cell_type": "markdown",
   "id": "445dcb98-49de-4601-9809-97ebe0317a8a",
   "metadata": {},
   "source": [
    "## combining translations for proofreading"
   ]
  },
  {
   "cell_type": "markdown",
   "id": "ac9b7c4b-9c6b-4891-b73c-3aced5eab1b5",
   "metadata": {},
   "source": [
    "In order to make proofreading easier, you can combine the subtile in the original language and the translated language into one file. The file looks like this:<br><br>\n",
    "1<br>\n",
    "00:00:00.000 --> 00:00:03.399<br>\n",
    "about to our rectum pivions instead of machine guns.<br>\n",
    "マシンガンの代わりに直腸のピビオンを使う。<br><br>\n"
   ]
  },
  {
   "cell_type": "code",
   "execution_count": null,
   "id": "50e3556d-cca8-40b2-8479-36a30b21fb45",
   "metadata": {},
   "outputs": [],
   "source": [
    "file1_path = \"subtitle.srt\" #input file, make this the original language\n",
    "file2_path = \"subtitle_deepl_ja.srt\" #input file, make this the translated langauge\n",
    "output_path = \"subtitle_en_ja.srt\" #output file which combines two input files\n",
    "combine_srt(file1_path, file2_path, output_path)"
   ]
  },
  {
   "cell_type": "code",
   "execution_count": null,
   "id": "fa82cdb9-5e00-4d3b-9679-f1b46450eec1",
   "metadata": {},
   "outputs": [],
   "source": [
    "from video_commands import * \n",
    "file1_path = \".srt\" #input file, make this the original language\n",
    "file2_path = \".srt\" #input file, make this the translated langauge\n",
    "output_path = \".srt\" #output file which combines two input files\n",
    "combine_srt(file1_path, file2_path, output_path)"
   ]
  },
  {
   "cell_type": "markdown",
   "id": "5ec90b74-0e32-4f16-adc8-40b7f5097613",
   "metadata": {},
   "source": [
    "## Separating translation after proofreading"
   ]
  },
  {
   "cell_type": "code",
   "execution_count": null,
   "id": "e231ac1b-ddf5-4ea6-8de1-180dda099fea",
   "metadata": {},
   "outputs": [],
   "source": [
    "input_file = \"subtitle_en_ja.srt\"\n",
    "language_choice = 2\n",
    "output_file = \"subtitle_ja.srt\"\n",
    "separate_srt_languages(input_file, language_choice, output_file)"
   ]
  },
  {
   "cell_type": "code",
   "execution_count": null,
   "id": "08c86acc-58ba-41e3-897e-77819e472da3",
   "metadata": {},
   "outputs": [],
   "source": [
    "from video_commands import * \n",
    "input_file = \".srt\"\n",
    "language_choice = 2\n",
    "output_file = \".srt\"\n",
    "separate_srt_languages(input_file, language_choice, output_file)"
   ]
  },
  {
   "cell_type": "markdown",
   "id": "30793398-e131-4d34-9e22-576161fa6e87",
   "metadata": {},
   "source": [
    "## creating zoom video\n",
    "create a rescaled image and numbered grid first\n"
   ]
  },
  {
   "cell_type": "code",
   "execution_count": null,
   "id": "a6153fb5-5bce-493b-a670-fe4cbd93cbff",
   "metadata": {},
   "outputs": [],
   "source": [
    "main_video = \"marines_5min_new.mov\" #we need to rescale the input image to match the size of the main video\n",
    "video_width,video_height = get_media_dimensions(main_video) \n",
    "image_name = \"media_files/boat.jpg\" #the input image\n",
    "#the rescaled image which matches the dimensions of the main video. This file is used as the overlay\n",
    "output_filename = \"boat_rescaled.jpg\" \n",
    "make_rescaled_image(video_width, video_height, image_name, output_filename) #produce the rescaled image\n",
    "input_file = output_filename\n",
    "output_file = \"boat_rescaled_grid.jpg\"\n",
    "#add a grid to the rescaled image to retrieve pixel positions, setting an interval = 50 means the distance between the grid is 50 pixels\n",
    "add_numbered_grid(input_file, output_file,video_width,video_height,interval=50,line_color=\"red\",number_color=\"yellow\") \n"
   ]
  },
  {
   "cell_type": "code",
   "execution_count": null,
   "id": "d195e64d-1b6f-4884-9453-038548adc26a",
   "metadata": {},
   "outputs": [],
   "source": [
    "from video_commands import * \n",
    "main_video = \"\" #we need to rescale the input image to match the size of the main video\n",
    "video_width,video_height = get_media_dimensions(main_video) \n",
    "image_name = \" #the input image\n",
    "#the rescaled image which matches the dimensions of the main video. This file is used as the overlay\n",
    "output_filename = \"\" \n",
    "make_rescaled_image(video_width, video_height, image_name, output_filename) #produce the rescaled image\n",
    "input_file = output_filename\n",
    "output_file = \"\"\n",
    "#add a grid to the rescaled image to retrieve pixel positions, setting an interval = 50 means the distance between the grid is 50 pixels\n",
    "add_numbered_grid(input_file, output_file,video_width,video_height,interval=50,line_color=\"red\",number_color=\"yellow\") \n"
   ]
  },
  {
   "cell_type": "markdown",
   "id": "16328503-9285-466f-b93e-c14a23908a6b",
   "metadata": {},
   "source": [
    "<b>Top left corner has x = 0, y = 0 </b>. "
   ]
  },
  {
   "cell_type": "code",
   "execution_count": null,
   "id": "0bdc58d6-a899-4836-b49e-ebd17dd97006",
   "metadata": {},
   "outputs": [],
   "source": [
    "x_pos,y_pos = 275,275\n",
    "duration = 5\n",
    "zoom_start = 2\n",
    "zoom_max = 2\n",
    "out_file = \"boat_video.mov\"\n",
    "image_list = [[\"boat_rescaled.jpg\", x_pos, y_pos, duration, zoom_start, zoom_max, out_file]]\n",
    "create_zoom(image_list, main_video, crf=18, preset=\"fast\")"
   ]
  },
  {
   "cell_type": "code",
   "execution_count": null,
   "id": "016c9a73-dcbb-4d77-8fcd-a99b578d2163",
   "metadata": {},
   "outputs": [],
   "source": [
    "from video_commands import * \n",
    "x_pos,y_pos = ,\n",
    "duration = 5\n",
    "zoom_start = 2\n",
    "zoom_max = 2\n",
    "out_file = \".mov\"\n",
    "image_list = [[\".jpg\", x_pos, y_pos, duration, zoom_start, zoom_max, out_file]]\n",
    "create_zoom(image_list, main_video, crf=18, preset=\"fast\")"
   ]
  },
  {
   "cell_type": "markdown",
   "id": "b17ff20f-206d-4fd5-9939-89595ad59593",
   "metadata": {},
   "source": [
    "## Overlaying everything\n",
    "\n",
    "\n",
    "para_list = <br>\n",
    "<i>[[\"media_files/Aumun_Background.mov\",\"0:20\",\"0:30\",\"0:05\",0],</i>&nbsp;&nbsp;&nbsp;&nbsp;#0:20-0:30 of the main video, extract 0:05-0:15 of the overaly, no fade-out \n",
    "           <i>  [\"boat_video.mov\",\"3:30\",\"3:35\",\"0:00\",0], </i>&nbsp;&nbsp;&nbsp;&nbsp;#3:30-3:35 of the main video, extract 0:00-0:05 of the overaly, no fade-out<br>\n",
    "         <i>    [\"media_files/Mountain_Forest.mov\",\"4:00\",\"4:15\",\"0:00\",3],</i>&nbsp;&nbsp;&nbsp;&nbsp; #4:00-4:15 of the main video, extract 0:00-0:15 of the overaly, fade-out = 3s<br>\n",
    "          <i>    [\"media_files/kochi.jpg\",\"1:50\",\"1:55\",\"2\"],</i>&nbsp;&nbsp;&nbsp;&nbsp;#1:50-1:55 of the main video, fade-out = 2s<br>\n",
    "          <i>    [\"media_files/bridge.jpg\",\"2:00\",\"2:15\",\"5\"],</i>&nbsp;&nbsp;&nbsp;&nbsp;#2:00-2:15 of the main video, fade-out = 5s<br>\n",
    "          <i>    [\"media_files/cat.jpg\",\"3:00\",\"3:03\",\"0\"],</i>&nbsp;&nbsp;&nbsp;&nbsp;#3:00-3:03 of the main video, no fade-out<br>\n",
    "           <i>   [\"media_files/Mozart.wav\",\"0:10\",\"3:00\",5,5,3],</i>&nbsp;&nbsp;&nbsp;&nbsp;#0:10-3:00 of the main video, fade in = fade-out = 5s,3 times audio volume<br>\n",
    "           <i>   [\"media_files/Rachmaninoff.wav\",\"3:10\",f\"{end_time}\",0,0,1]]</i>&nbsp;&nbsp;&nbsp;&nbsp;#3:10-the end of the main video, no fadein fadeout,original audio volume<br>\n",
    "\n",
    "\n",
    "</i>\n",
    "\n",
    "Let's create the final product.<br>"
   ]
  },
  {
   "cell_type": "code",
   "execution_count": null,
   "id": "787468f7-2075-4825-8bec-aa952e60f8e0",
   "metadata": {},
   "outputs": [],
   "source": [
    "main_video = \"marines_5min_new.mov\"\n",
    "end_time = get_video_length(main_video)\n",
    "para_list = [[\"media_files/Aumun_Background.mov\",\"0:20\",\"0:30\",\"0:05\",0],\n",
    "[\"boat_video.mov\",\"3:30\",\"3:35\",\"0:00\",0],\n",
    "[\"media_files/Mountain_Forest.mov\",\"4:00\",\"4:15\",\"0:00\",3],\n",
    "[\"media_files/kochi.jpg\",\"1:50\",\"1:55\",\"2\"],\n",
    "[\"media_files/bridge.jpg\",\"2:00\",\"2:15\",\"5\"],\n",
    "[\"media_files/cat.jpg\",\"3:00\",\"3:03\",\"0\"],\n",
    "[\"media_files/Mozart.wav\",\"0:10\",\"3:00\",5,5,3],\n",
    "[\"media_files/Rachmaninoff.wav\",\"3:10\",f\"{end_time}\",0,0,1]]\n",
    "output_file = \"marines_5min_all_overlay.mov\"\n",
    "overlay_video_img_music(main_video, para_list, output_file, crf=23, preset=\"fast\")"
   ]
  },
  {
   "cell_type": "code",
   "execution_count": null,
   "id": "02cac55b-9105-4b60-9d88-455d05e3dec3",
   "metadata": {},
   "outputs": [],
   "source": [
    "from video_commands import * \n",
    "main_video = \"\"\n",
    "end_time = get_video_length(main_video)\n",
    "para_list = [[\".mov\",\"0:20\",\"0:30\",\"0:05\",0],\n",
    "[\".mov\",\"3:30\",\"3:35\",\"0:00\",0],\n",
    "[\".mov\",\"4:00\",\"4:15\",\"0:00\",3],\n",
    "[\".jpg\",\"1:50\",\"1:55\",\"2\"],\n",
    "[\".jpg\",\"2:00\",\"2:15\",\"5\"],\n",
    "[\".jpg\",\"3:00\",\"3:03\",\"0\"],\n",
    "[\".mp3\",\"0:10\",\"3:00\",5,5,3],\n",
    "[\".mp3\",\"3:10\",f\"{end_time}\",0,0,1]]\n",
    "output_file = \".mov\"\n",
    "overlay_video_img_music(main_video, para_list, output_file, crf=23, preset=\"fast\")"
   ]
  },
  {
   "cell_type": "markdown",
   "id": "2f8f035b-ef00-47bb-9f0c-80b7cda30b1d",
   "metadata": {},
   "source": [
    "## extracting screen shot"
   ]
  },
  {
   "cell_type": "code",
   "execution_count": null,
   "id": "7be35ba1-7391-4d70-847e-4db22e85cf5d",
   "metadata": {},
   "outputs": [],
   "source": [
    "#extract screen shot at 1:32 and name it to mosaic1.png, another at 0:10 and name it to mosiac2.png\n",
    "main_video = \"marines_5min_all_overlay.mov\"\n",
    "time_and_name_list = [[\"1:32\",\"mosaic1.png\"],[\"0:10\",\"mosaic2.png\"]] #list of list\n",
    "extract_frames(main_video, time_and_name_list, fast_seek=True)\n",
    "input_file = [\"mosaic1.png\",\"mosaic2.png\"]\n",
    "output_file = [\"mosaic1_grid.png\",\"mosaic2_griod.png\"]\n",
    "video_width,video_height = get_media_dimensions(main_video)\n",
    "for i,n in zip(input_file,output_file):\n",
    "      video_width,video_height = get_media_dimensions(main_video)\n",
    "      add_numbered_grid(i, n,video_width,video_height,interval=50,line_color=\"red\",number_color=\"black\")\n",
    "\n"
   ]
  },
  {
   "cell_type": "code",
   "execution_count": null,
   "id": "30fc3a65-3946-402f-8718-3d4f8f5386d1",
   "metadata": {},
   "outputs": [],
   "source": [
    "from video_commands import * \n",
    "#extract screen shot at 1:32 and name it to mosaic1.png, another at 0:10 and name it to mosiac2.png\n",
    "main_video = \".mov\"\n",
    "time_and_name_list = [[\"1:00\",\".png\"],[\"0:10\",\".png\"]] #list of list\n",
    "extract_frames(main_video, time_and_name_list, fast_seek=True)\n",
    "input_file = [\"mosaic1.png\",\"mosaic2.png\"]\n",
    "output_file = [\"mosaic1_grid.png\",\"mosaic2_griod.png\"]\n",
    "video_width,video_height = get_media_dimensions(main_video)\n",
    "for i,n in zip(input_file,output_file):\n",
    "      video_width,video_height = get_media_dimensions(main_video)\n",
    "      add_numbered_grid(i, n,video_width,video_height,interval=50,line_color=\"red\",number_color=\"black\")\n",
    "\n"
   ]
  },
  {
   "cell_type": "markdown",
   "id": "728f1369-1ec3-4386-9ae3-bfb58ca0267f",
   "metadata": {},
   "source": [
    " ## adding mosaic\n",
    " [25, 25, 100, 50, 15, 10, 15]<br>\n",
    " xpos,ypos,width,length,pixelation, start time, end time\n",
    " \n",
    " "
   ]
  },
  {
   "cell_type": "code",
   "execution_count": null,
   "id": "a09b4812-cb75-42bc-a87f-ff3c57ff63bf",
   "metadata": {},
   "outputs": [],
   "source": [
    "main_video = \"marines_5min_all_overlay.mov\"\n",
    "mosaic_list=[\n",
    "[25, 25, 100, 50, 15, 10, 15],\n",
    "[130, 175, 270, 120, 15, \"1:30\", \"1:35\"]]\n",
    "output_video = \"marines_5min_all_overlay_mosaic.mov\"\n",
    "apply_mosaics(main_video, output_video, mosaic_list)"
   ]
  },
  {
   "cell_type": "code",
   "execution_count": null,
   "id": "3c537f1c-89ce-45cf-a2f9-f45317038545",
   "metadata": {},
   "outputs": [],
   "source": [
    "from video_commands import * \n",
    "main_video = \".mov\"\n",
    "mosaic_list=[\n",
    "[25, 25, 100, 50, 15, 10, 15],\n",
    "[130, 175, 270, 120, 15, \"1:30\", \"1:35\"]]\n",
    "output_video = \".mov\"\n",
    "apply_mosaics(main_video, output_video, mosaic_list)"
   ]
  },
  {
   "cell_type": "markdown",
   "id": "ccd54123-e6df-40c2-bb2f-5c59cc12f652",
   "metadata": {},
   "source": [
    "## srt to ass\n"
   ]
  },
  {
   "cell_type": "code",
   "execution_count": null,
   "id": "5c166cd9-4e21-4f00-a013-d664b305eedb",
   "metadata": {},
   "outputs": [],
   "source": [
    "srt_file = \"subtitle.srt\" #input file\n",
    "ass_file = \"subtitle.ass\" #output file\n",
    "main_video = \"marines_5min_all_overlay_mosaic.mov\"\n",
    "#the ass file has a resolution which is the same as the dimension of the main video\n",
    "video_width, video_height = get_media_dimensions(main_video)\n",
    "srt_to_ass(srt_file, ass_file, video_width, video_height, fontname=\"Arial\", fontsize=24)"
   ]
  },
  {
   "cell_type": "code",
   "execution_count": null,
   "id": "6d1cec74-6f18-41cb-ba1a-74bdf8221cf7",
   "metadata": {},
   "outputs": [],
   "source": [
    "from video_commands import * \n",
    "srt_file = \".srt\" #input file\n",
    "ass_file = \".ass\" #output file\n",
    "main_video = \".mov\"\n",
    "#the ass file has a resolution which is the same as the dimension of the main video\n",
    "video_width, video_height = get_media_dimensions(main_video)\n",
    "srt_to_ass(srt_file, ass_file, video_width, video_height, fontname=\"Arial\", fontsize=24)"
   ]
  },
  {
   "cell_type": "markdown",
   "id": "e9d26ac5-f570-4572-9729-a50cd8fecd36",
   "metadata": {},
   "source": [
    "## Burning in subtitle"
   ]
  },
  {
   "cell_type": "markdown",
   "id": "9f5a5beb-39ea-4675-bf65-d20c800cf60e",
   "metadata": {},
   "source": []
  },
  {
   "cell_type": "code",
   "execution_count": null,
   "id": "3b1922ef-bfdb-49f5-9d93-202ab0e26429",
   "metadata": {},
   "outputs": [],
   "source": [
    "subtitle_file = \"subtitle.ass\"\n",
    "main_video = \"marines_5min_all_overlay_mosaic.mov\"\n",
    "output_video = \"marines_subtitle.mov\"\n",
    "#the font here is only for srt files\n",
    "burn_subtitles(main_video, subtitle_file, output_video, font=\"Arial\", crf =23, preset=\"fast\")"
   ]
  },
  {
   "cell_type": "code",
   "execution_count": null,
   "id": "fe960460-7e20-48c9-9314-8b673855e86b",
   "metadata": {},
   "outputs": [],
   "source": [
    "from video_commands import * \n",
    "subtitle_file = \".ass\"\n",
    "main_video = \".mov\"\n",
    "output_video = \".mov\"\n",
    "#the font here is only for srt files\n",
    "burn_subtitles(main_video, subtitle_file, output_video, font=\"Arial\", crf =23, preset=\"fast\")"
   ]
  },
  {
   "cell_type": "markdown",
   "id": "b8a85ee5-1084-43fa-9f92-031311b41a0a",
   "metadata": {},
   "source": [
    "## Creating End Credits \n",
    "<i>contributors.txt</i>:<br><br>\n",
    "<i>\n",
    "Director: XXX<br>\n",
    "Production Crew: AAA<br>\n",
    "&nbsp;&nbsp;&nbsp;&nbsp;&nbsp;&nbsp;&nbsp;&nbsp;&nbsp;&nbsp;&nbsp;&nbsp;&nbsp;&nbsp;&nbsp;&nbsp;&nbsp;&nbsp;&nbsp;&nbsp;&nbsp;&nbsp;&nbsp;&nbsp;&nbsp;&nbsp;&nbsp;&nbsp;&nbsp;&nbsp;ABC<br>\n",
    "Music: XYZ</i><br><br>\n",
    "\n"
   ]
  },
  {
   "cell_type": "code",
   "execution_count": null,
   "id": "0e2dcc44-9dc3-41a8-ae62-f3c76b02c2ea",
   "metadata": {},
   "outputs": [],
   "source": [
    "template_file = \"end_credits_template.ass\" # a template used everytime, txt_file below would be inserted\n",
    "txt_file = \"contributors.txt\" #insert the content of this to the template above\n",
    "output_file = \"end_credits.ass\" # This includes the above two files\n",
    "width, height = get_media_dimensions(main_video)\n",
    "#create an ass file\n",
    "end_credits_ass(template_file, txt_file, output_file, width, height,\n",
    "                   first_start=\"0:00:01.40\", each_duration_s=6.0,\n",
    "                   line_offset_s=0.60,\n",
    "                   fallback_duration_s=4.0)\n",
    "#embed the ass file to the video\n",
    "ass_file = output_file\n",
    "song_file = \"media_files/Mozart.wav\"\n",
    "output_file = \"end_credits_video.mov\"\n",
    "create_ending_film(ass_file, song_file, output_file, width, height,\n",
    "                       volume=1.0, end_second=5, fadein=5, fadeout=10,\n",
    "                       bg_video=None,video_fadeout=4)"
   ]
  },
  {
   "cell_type": "code",
   "execution_count": null,
   "id": "59681269-0d3b-45e9-8757-1b9842bd7671",
   "metadata": {},
   "outputs": [],
   "source": [
    "from video_commands import * \n",
    "template_file = \"end_credits_template.ass\" # a template used everytime, txt_file below would be inserted\n",
    "txt_file = \"contributors.txt\" #insert the content of this to the template above\n",
    "output_file = \"end_credits.ass\" # This includes the above two files\n",
    "width, height = get_media_dimensions(main_video)\n",
    "#create an ass file\n",
    "end_credits_ass(template_file, txt_file, output_file, width, height,\n",
    "                   first_start=\"0:00:01.40\", each_duration_s=6.0,\n",
    "                   line_offset_s=0.60,\n",
    "                   fallback_duration_s=4.0)\n",
    "#embed the ass file to the video\n",
    "ass_file = output_file\n",
    "song_file = \"music/end_song.mp3\"\n",
    "output_file = \".mov\"\n",
    "volume = \n",
    "create_ending_film(ass_file, song_file, output_file, width, height,\n",
    "                       volume=volume, end_second=5, fadein=5, fadeout=5,\n",
    "                       bg_video=None,video_fadeout=4)"
   ]
  },
  {
   "cell_type": "markdown",
   "id": "c850e229-96da-4c30-9e21-ea23c400e7d0",
   "metadata": {},
   "source": [
    "## final concatenation\n"
   ]
  },
  {
   "cell_type": "code",
   "execution_count": null,
   "id": "a9b9b426-6ae6-4802-aabc-223f81462547",
   "metadata": {},
   "outputs": [],
   "source": [
    "main_video = \"marines_subtitle.mov\"\n",
    "video_list = [main_video,\"end_credits_video.mov\"]\n",
    "output_file = \"marines_5min_final.mov\"\n",
    "combine_video(video_list, primary_index=1, output_file=output_file, crf=23, preset=\"fast\")"
   ]
  },
  {
   "cell_type": "code",
   "execution_count": null,
   "id": "5f7dae3a-0a36-4fdf-a565-2412319c215c",
   "metadata": {},
   "outputs": [],
   "source": [
    "from video_commands import * \n",
    "main_video = \".mov\"\n",
    "video_list = [\"beginning_ban.mp4\",main_video,\"end_credits_video.mov\"]\n",
    "output_file = \"_final.mov\"\n",
    "primary_index = \n",
    "combine_video(video_list, primary_index=primary_index, output_file=output_file, crf=23, preset=\"fast\")"
   ]
  },
  {
   "cell_type": "markdown",
   "id": "2cf78e77-1876-4570-8ead-7bbfc3651853",
   "metadata": {},
   "source": [
    "## parse time"
   ]
  },
  {
   "cell_type": "code",
   "execution_count": null,
   "id": "80c2ecff-a438-42ee-9baa-ed31c5dd7e99",
   "metadata": {},
   "outputs": [],
   "source": [
    "from video_commands import * \n",
    "t = \"2:54\"\n",
    "time = parse_time(t) #result in seconds"
   ]
  },
  {
   "cell_type": "markdown",
   "id": "fdc3ac0a-0f52-4734-aa40-ddd3f76c3eed",
   "metadata": {},
   "source": [
    "## video length\n",
    "result in mm:ss"
   ]
  },
  {
   "cell_type": "code",
   "execution_count": null,
   "id": "e15feb16-e124-4cae-818b-449ec9ae4a71",
   "metadata": {},
   "outputs": [],
   "source": [
    "from video_commands import * \n",
    "input_file = \"\"\n",
    "get_video_length(input_file)"
   ]
  },
  {
   "cell_type": "markdown",
   "id": "246a676d-a13e-4eaa-914e-82c4acfd40c1",
   "metadata": {},
   "source": [
    "## media dimensions"
   ]
  },
  {
   "cell_type": "code",
   "execution_count": null,
   "id": "b8df9da0-13c2-402c-b0eb-f5e67179d48e",
   "metadata": {},
   "outputs": [],
   "source": [
    "from video_commands import * \n",
    "file_path = \"\"\n",
    "width, height = get_media_dimensions(file_path)\n",
    "a_width, a_height = get_media_active_dimensions(file_path, threshold=16, sample_frames=5):\n",
    "print(\"normal w h:\",width,height)\n",
    "print(\"active w h:\",a_width,a_height)"
   ]
  },
  {
   "cell_type": "markdown",
   "id": "75643b7c-8de2-4726-9f3f-e3f64ad27072",
   "metadata": {},
   "source": [
    "## mp3 to wav"
   ]
  },
  {
   "cell_type": "code",
   "execution_count": null,
   "id": "1792e458-5d3b-494e-a525-64460ef13081",
   "metadata": {},
   "outputs": [],
   "source": [
    "from video_commands import * \n",
    "mp3_file = \"\"\n",
    "wav_file = mp3_to_wav(mp3_file):"
   ]
  },
  {
   "cell_type": "markdown",
   "id": "1466d772-5c1f-4e49-9ae8-acc774589779",
   "metadata": {},
   "source": [
    "## adjust wav volume"
   ]
  },
  {
   "cell_type": "code",
   "execution_count": null,
   "id": "1d3e3b6c-1f7d-46ee-9bdd-096418091133",
   "metadata": {},
   "outputs": [],
   "source": [
    "from video_commands_mine import * \n",
    "wav_file = \"\"\n",
    "volume_factor = \n",
    "output = adjust_wav_volume(wav_file, volume_factor)"
   ]
  },
  {
   "cell_type": "markdown",
   "id": "a1279ef1-a742-4ee7-ae6d-d4973f743a8e",
   "metadata": {},
   "source": [
    "## extract pages to txt\n",
    "command line"
   ]
  },
  {
   "cell_type": "code",
   "execution_count": null,
   "id": "a38fd621-e7ad-45c4-88e6-83fa1788864b",
   "metadata": {},
   "outputs": [],
   "source": [
    "chmod +x pages2txt.sh\n",
    "./pages.txt xxx.pages"
   ]
  },
  {
   "cell_type": "markdown",
   "id": "43c5632f-d95a-4e39-96f6-afd9f266da94",
   "metadata": {},
   "source": [
    "## pip3 download"
   ]
  },
  {
   "cell_type": "code",
   "execution_count": null,
   "id": "003b7f29-a733-4f4b-ad87-3d3ef8365517",
   "metadata": {},
   "outputs": [],
   "source": [
    "!pip3 install --break-system-packages plistlib"
   ]
  },
  {
   "cell_type": "code",
   "execution_count": null,
   "id": "9ab3c306-1946-4e75-876c-6f990840127f",
   "metadata": {},
   "outputs": [],
   "source": []
  },
  {
   "cell_type": "code",
   "execution_count": null,
   "id": "b298397e-9224-40e2-9694-f9f6e254543f",
   "metadata": {},
   "outputs": [],
   "source": []
  }
 ],
 "metadata": {
  "kernelspec": {
   "display_name": "Python 3 (ipykernel)",
   "language": "python",
   "name": "python3"
  },
  "language_info": {
   "codemirror_mode": {
    "name": "ipython",
    "version": 3
   },
   "file_extension": ".py",
   "mimetype": "text/x-python",
   "name": "python",
   "nbconvert_exporter": "python",
   "pygments_lexer": "ipython3",
   "version": "3.13.7"
  }
 },
 "nbformat": 4,
 "nbformat_minor": 5
}
