{
 "cells": [
  {
   "cell_type": "code",
   "execution_count": 4,
   "id": "131f3624-76c5-41a1-b135-b2f10cec1b70",
   "metadata": {},
   "outputs": [
    {
     "name": "stdout",
     "output_type": "stream",
     "text": [
      "854 480\n"
     ]
    }
   ],
   "source": [
    "from video_commands import *\n",
    "from video_test import *\n",
    "width,height = get_media_dimensions(\"B0815.mov\")\n",
    "print(width,height)"
   ]
  },
  {
   "cell_type": "markdown",
   "id": "9e9dcb3c-0db9-4251-bfc2-caaea289581e",
   "metadata": {},
   "source": [
    "## check dimensions of a file"
   ]
  },
  {
   "cell_type": "code",
   "execution_count": null,
   "id": "ca72b90e-b48a-4fea-a771-14117d9844ff",
   "metadata": {},
   "outputs": [],
   "source": [
    "width,height = get_media_dimensions(\"B0815.mov\")\n",
    "print(width,height)\n",
    "width,height = get_media_dimensions(\"test_mosaic.mov\")\n",
    "print(width,height)\n"
   ]
  },
  {
   "cell_type": "markdown",
   "id": "47e58258-8bf9-4da8-a568-eca41f328847",
   "metadata": {},
   "source": [
    "## trim Video"
   ]
  },
  {
   "cell_type": "code",
   "execution_count": null,
   "id": "b8930b3d-c97a-45bc-b76d-2ef99f25373c",
   "metadata": {
    "scrolled": true
   },
   "outputs": [],
   "source": [
    "outvideo = \"test.mov\"\n",
    "invideo = \"B0815.mov\"\n",
    "starttime,endtime = \"0:10\" , \"0:18\"\n",
    "trim_video(invideo, starttime , endtime, outvideo)"
   ]
  },
  {
   "cell_type": "markdown",
   "id": "d890bec3-5141-4ab8-8c4a-13b17f94fca7",
   "metadata": {},
   "source": [
    "## extract voice from a video and convert to srt file\n",
    "lang can be None\n"
   ]
  },
  {
   "cell_type": "code",
   "execution_count": null,
   "id": "973213d9-6bee-4ae8-8973-1b67b9f95cb2",
   "metadata": {},
   "outputs": [],
   "source": [
    "input_video, output_srt,lang = \"test_1min.mov\", \"test_1min.srt\",\"zh\"\n",
    "voice_to_srt(input_video, output_srt, lang=lang)#en,ja,k"
   ]
  },
  {
   "cell_type": "markdown",
   "id": "61959d26-49f6-4aa6-8e0c-6be6e51c2afa",
   "metadata": {},
   "source": [
    "## srt to ass"
   ]
  },
  {
   "cell_type": "code",
   "execution_count": null,
   "id": "8899694b-5f19-42a2-b0ca-53168ce37689",
   "metadata": {},
   "outputs": [],
   "source": [
    "srt_file = \"test_1min.srt\" #input file\n",
    "ass_file = \"test_1min.ass\" #new file\n",
    "srt_to_ass(srt_file, ass_file, fontname=\"宋体\", fontsize=80)"
   ]
  },
  {
   "cell_type": "markdown",
   "id": "08913abb-6632-45ec-85df-bd06d1fbfcf2",
   "metadata": {},
   "source": [
    "## Translation and Combine Different Translations for proofreading\n",
    "<h3>only for srt!!!</h3>"
   ]
  },
  {
   "cell_type": "code",
   "execution_count": null,
   "id": "14844c02-ce80-4331-a5ee-d95ce7a4316d",
   "metadata": {},
   "outputs": [],
   "source": [
    "inputfile,outputfile,lang = \"test_1min.srt\",\"test_1min_jp.srt\",\"JA\" #lang = target language\n",
    "deepl_translate_srt(inputfile, outputfile ,lang=lang)#EN-US KO zh JA"
   ]
  },
  {
   "cell_type": "code",
   "execution_count": 7,
   "id": "8880ccaf-7dd6-4434-8395-46724ea8a873",
   "metadata": {
    "scrolled": true
   },
   "outputs": [
    {
     "name": "stdout",
     "output_type": "stream",
     "text": [
      "✅ Converted test_1min.srt → test_1min.ass successfully!\n"
     ]
    }
   ],
   "source": [
    "inputfile = \"test_1min.srt\"\n",
    "outputfile = \"test_1min_jp.srt\"\n",
    "combined_file = \"combined_chi_jp.srt\"  #new file, oneline chinese one line japanese\n",
    "combine_srt(inputfile,outputfile, combined_file)"
   ]
  },
  {
   "cell_type": "markdown",
   "id": "777ecb0f-69cc-4068-b8d0-08cc0be91df9",
   "metadata": {},
   "source": [
    "## Add grid to a screenshot for mosaic\n",
    "add_numbered_grid(<br>\n",
    "    input_file,output_file,width,height,interval=100,line_color=\"red\",<br>\n",
    "    number_color=\"yellow\",number_size=30,number_offset=5)"
   ]
  },
  {
   "cell_type": "code",
   "execution_count": null,
   "id": "283f67d0-d16c-4883-8347-4fd9180ed1c9",
   "metadata": {},
   "outputs": [],
   "source": [
    "screenshot,outscreenshot = \"test2.png\" ,\"testout2.png\""
   ]
  },
  {
   "cell_type": "code",
   "execution_count": null,
   "id": "05f0a00a-034a-464e-87ac-d6ad48bc68bf",
   "metadata": {},
   "outputs": [],
   "source": [
    "add_numbered_grid(\n",
    "    screenshot,\n",
    "    outscreenshot,\n",
    "    width,\n",
    "    height,\n",
    "    interval=50,\n",
    "    line_color=\"red\",\n",
    "    number_color=\"yellow\",\n",
    "    number_size=30,\n",
    "    number_offset=5\n",
    ")"
   ]
  },
  {
   "cell_type": "markdown",
   "id": "f53a161d-8a48-4141-8b43-6ba7f7fee4f7",
   "metadata": {},
   "source": [
    "# Apply Mosaic"
   ]
  },
  {
   "cell_type": "markdown",
   "id": "ebbd2e3c-ded3-4ecd-958a-0cec37aca35c",
   "metadata": {},
   "source": [
    "## example: <br>\n",
    "mosaic_list=[<br>\n",
    "        [50, 50, 100, 50, 10, 0, 10],      <br>\n",
    "        [800, 0, 200, 200, 15, \"1:20.5\", \"3:00\"]]  <br>\n",
    "    # position of top-left corner<br>\n",
    "    x=50,y=50,width=100,height=50<br>\n",
    "    pixelization level=10<br>\n",
    "    start seconds=0,end seconds=10<br>"
   ]
  },
  {
   "cell_type": "code",
   "execution_count": null,
   "id": "6412e221-8891-41d0-a707-ab78eb86fed6",
   "metadata": {},
   "outputs": [],
   "source": [
    "input_video,output_video = \"test_5min.mov\",\"test_5min_mosaic.mov\"\n",
    "mosaic_list = [[65, 50, 200, 170, 15, 0, 30],[width-260, 60, 285, 140, 15, \"1:20.5\", \"2:30\"]]\n",
    "apply_mosaics(input_video, output_video, mosaic_list)"
   ]
  },
  {
   "cell_type": "markdown",
   "id": "ab8acbe7-bbc1-4daf-b276-d7a2471dbce5",
   "metadata": {},
   "source": [
    "## End film\n",
    "input \"end_subtitle_txt\" in the end film this way:<br>\n",
    "编导演播：翰 光<br>\n",
    "音乐：Chad Cannon<br>\n",
    "照片提供： 小林熏<br>\n",
    "         李晓斌<br>\n",
    "\n",
    "The content of <b>end_subtitle_txt</b> is inserted into <b>end_subtitle_template</b> <br>\n",
    "as <b>end_subtitle_ass</b> by <b><i>end_credits_ass</b></i>.<br>\n",
    "Then <b><i>create_ending_film</b></i> is called to create <b>end_output</b> with <b>end_song</b> as background music.<br>\n",
    "The dimension of  <b>end_output</b> is the same as the <b>main_video</b>. The background music has an adjustable volume<br>\n",
    "and fade-iin,fade-out time.\n",
    "You can add a background video with an adjustable fade-out time. <br>\n",
    "Remember to use <b><i>preprocess</b></i> to rescale it first."
   ]
  },
  {
   "cell_type": "code",
   "execution_count": null,
   "id": "f9fc3757-5360-4b29-ae6a-23b227c86ad6",
   "metadata": {},
   "outputs": [],
   "source": [
    "end_subtitle_ass= \"2508credits2.ass\"\n",
    "end_subtitle_txt= \"end_subtitle.txt\"\n",
    "end_subtitle_template = \"end_subtitle_template.ass\"\n",
    "end_song = \"music/end_song.wav\"\n",
    "end_output = \"end_test.mov\"\n",
    "end_credits_ass(end_subtitle_template, end_subtitle_txt, end_subtitle_ass,first_start=\"0:00:01.40\", \n",
    "                 each_duration_s=6.0,line_offset_s=0.60, fallback_duration_s=4.0)\n",
    "create_ending_film(end_subtitle, end_song, end_output, width, height,\n",
    "                       volume=1.0, end_second=5, fadein=5, fadeout=10,\n",
    "                       bg_video=None,video_fadeout=4)"
   ]
  },
  {
   "cell_type": "code",
   "execution_count": null,
   "id": "3d3ac5b2-5cbe-459f-83ab-88e4ef97bbb9",
   "metadata": {},
   "outputs": [],
   "source": []
  },
  {
   "cell_type": "code",
   "execution_count": null,
   "id": "f6f131b7-6461-481d-9e78-6eeb9deb887c",
   "metadata": {},
   "outputs": [],
   "source": [
    "\n",
    "\n"
   ]
  },
  {
   "cell_type": "code",
   "execution_count": null,
   "id": "7c9949f0-ca76-40da-b4cd-ea817fd16ac2",
   "metadata": {},
   "outputs": [],
   "source": []
  }
 ],
 "metadata": {
  "kernelspec": {
   "display_name": "Python 3 (ipykernel)",
   "language": "python",
   "name": "python3"
  },
  "language_info": {
   "codemirror_mode": {
    "name": "ipython",
    "version": 3
   },
   "file_extension": ".py",
   "mimetype": "text/x-python",
   "name": "python",
   "nbconvert_exporter": "python",
   "pygments_lexer": "ipython3",
   "version": "3.13.5"
  }
 },
 "nbformat": 4,
 "nbformat_minor": 5
}
